{
 "cells": [
  {
   "cell_type": "code",
   "execution_count": 1,
   "metadata": {
    "collapsed": true
   },
   "outputs": [],
   "source": [
    "import pandas as pd \n",
    "from sklearn.datasets import fetch_20newsgroups\n",
    "from sklearn.feature_extraction.text import CountVectorizer\n",
    "import numpy as np\n",
    "from sklearn.preprocessing import StandardScaler\n",
    "from sklearn.decomposition import PCA, TruncatedSVD\n",
    "from sklearn.cluster import KMeans\n",
    "from sklearn import metrics\n",
    "import matplotlib.pyplot as plt"
   ]
  },
  {
   "cell_type": "code",
   "execution_count": 65,
   "metadata": {
    "collapsed": true
   },
   "outputs": [],
   "source": [
    "newsgroups = fetch_20newsgroups(subset='train')"
   ]
  },
  {
   "cell_type": "code",
   "execution_count": 3,
   "metadata": {
    "collapsed": false
   },
   "outputs": [
    {
     "data": {
      "text/plain": [
       "['description', 'DESCR', 'filenames', 'target_names', 'data', 'target']"
      ]
     },
     "execution_count": 3,
     "metadata": {},
     "output_type": "execute_result"
    }
   ],
   "source": [
    "newsgroups.keys()"
   ]
  },
  {
   "cell_type": "code",
   "execution_count": 4,
   "metadata": {
    "collapsed": false
   },
   "outputs": [
    {
     "name": "stdout",
     "output_type": "stream",
     "text": [
      "From: lerxst@wam.umd.edu (where's my thing)\n",
      "Subject: WHAT car is this!?\n",
      "Nntp-Posting-Host: rac3.wam.umd.edu\n",
      "Organization: University of Maryland, College Park\n",
      "Lines: 15\n",
      "\n",
      " I was wondering if anyone out there could enlighten me on this car I saw\n",
      "the other day. It was a 2-door sports car, looked to be from the late 60s/\n",
      "early 70s. It was called a Bricklin. The doors were really small. In addition,\n",
      "the front bumper was separate from the rest of the body. This is \n",
      "all I know. If anyone can tellme a model name, engine specs, years\n",
      "of production, where this car is made, history, or whatever info you\n",
      "have on this funky looking car, please e-mail.\n",
      "\n",
      "Thanks,\n",
      "- IL\n",
      "   ---- brought to you by your neighborhood Lerxst ----\n",
      "\n",
      "\n",
      "\n",
      "\n",
      "\n"
     ]
    }
   ],
   "source": [
    "df = pd.DataFrame(newsgroups['data'], columns=['text'])\n",
    "print df.iloc[0,0]"
   ]
  },
  {
   "cell_type": "code",
   "execution_count": 5,
   "metadata": {
    "collapsed": true
   },
   "outputs": [],
   "source": [
    "df['text_lower'] = df['text'].str.lower()"
   ]
  },
  {
   "cell_type": "code",
   "execution_count": 6,
   "metadata": {
    "collapsed": false
   },
   "outputs": [
    {
     "data": {
      "text/plain": [
       "0    from: lerxst@wam.umd.edu (where's my thing)\\ns...\n",
       "1    from: guykuo@carson.u.washington.edu (guy kuo)...\n",
       "Name: text_lower, dtype: object"
      ]
     },
     "execution_count": 6,
     "metadata": {},
     "output_type": "execute_result"
    }
   ],
   "source": [
    "df['text_lower'].head(2)"
   ]
  },
  {
   "cell_type": "code",
   "execution_count": null,
   "metadata": {
    "collapsed": false
   },
   "outputs": [],
   "source": [
    "CountVectorizer?"
   ]
  },
  {
   "cell_type": "code",
   "execution_count": 7,
   "metadata": {
    "collapsed": true
   },
   "outputs": [],
   "source": [
    "count_vectorizer = CountVectorizer(stop_words='english',\n",
    "                                  max_features=10000)"
   ]
  },
  {
   "cell_type": "code",
   "execution_count": 8,
   "metadata": {
    "collapsed": true
   },
   "outputs": [],
   "source": [
    "# fit will just give instructions, adding transform puts it into our df \n",
    "\n",
    "corpus_1 = count_vectorizer.fit_transform(df['text_lower'].values)"
   ]
  },
  {
   "cell_type": "code",
   "execution_count": 9,
   "metadata": {
    "collapsed": false
   },
   "outputs": [
    {
     "data": {
      "text/plain": [
       "<11314x10000 sparse matrix of type '<type 'numpy.int64'>'\n",
       "\twith 1004156 stored elements in Compressed Sparse Row format>"
      ]
     },
     "execution_count": 9,
     "metadata": {},
     "output_type": "execute_result"
    }
   ],
   "source": [
    "# heres our sparse matrix\n",
    "\n",
    "corpus_1"
   ]
  },
  {
   "cell_type": "code",
   "execution_count": null,
   "metadata": {
    "collapsed": true
   },
   "outputs": [],
   "source": [
    "TruncatedSVD?"
   ]
  },
  {
   "cell_type": "code",
   "execution_count": 10,
   "metadata": {
    "collapsed": true
   },
   "outputs": [],
   "source": [
    "tsvd = TruncatedSVD()"
   ]
  },
  {
   "cell_type": "code",
   "execution_count": 11,
   "metadata": {
    "collapsed": true
   },
   "outputs": [],
   "source": [
    "tsvd_word_data = tsvd.fit_transform(corpus_1)"
   ]
  },
  {
   "cell_type": "code",
   "execution_count": 12,
   "metadata": {
    "collapsed": false
   },
   "outputs": [
    {
     "data": {
      "text/plain": [
       "array([[  1.17834553e-03,   6.35334200e+00],\n",
       "       [  1.52753858e-03,   1.84488757e-01],\n",
       "       [  1.58567063e-03,   3.39016519e-01],\n",
       "       [  2.44659360e-03,   2.73578555e-01],\n",
       "       [  1.96677117e-03,   2.66978941e-01]])"
      ]
     },
     "execution_count": 12,
     "metadata": {},
     "output_type": "execute_result"
    }
   ],
   "source": [
    "tsvd_word_data[0:5]"
   ]
  },
  {
   "cell_type": "code",
   "execution_count": 13,
   "metadata": {
    "collapsed": false
   },
   "outputs": [
    {
     "data": {
      "text/plain": [
       "(11314, 2)"
      ]
     },
     "execution_count": 13,
     "metadata": {},
     "output_type": "execute_result"
    }
   ],
   "source": [
    "# transformed into two columns (made new features)\n",
    "# all data and text from original df has been transformed into two columnns\n",
    "\n",
    "tsvd_word_data.shape"
   ]
  },
  {
   "cell_type": "markdown",
   "metadata": {},
   "source": [
    "looking at all 10000 words we gave it and made two columns. lets check it before moving on the kmeans"
   ]
  },
  {
   "cell_type": "code",
   "execution_count": 14,
   "metadata": {
    "collapsed": false
   },
   "outputs": [
    {
     "data": {
      "text/plain": [
       "['alt.atheism',\n",
       " 'comp.graphics',\n",
       " 'comp.os.ms-windows.misc',\n",
       " 'comp.sys.ibm.pc.hardware',\n",
       " 'comp.sys.mac.hardware',\n",
       " 'comp.windows.x',\n",
       " 'misc.forsale',\n",
       " 'rec.autos',\n",
       " 'rec.motorcycles',\n",
       " 'rec.sport.baseball',\n",
       " 'rec.sport.hockey',\n",
       " 'sci.crypt',\n",
       " 'sci.electronics',\n",
       " 'sci.med',\n",
       " 'sci.space',\n",
       " 'soc.religion.christian',\n",
       " 'talk.politics.guns',\n",
       " 'talk.politics.mideast',\n",
       " 'talk.politics.misc',\n",
       " 'talk.religion.misc']"
      ]
     },
     "execution_count": 14,
     "metadata": {},
     "output_type": "execute_result"
    }
   ],
   "source": [
    "newsgroups['target_names']"
   ]
  },
  {
   "cell_type": "code",
   "execution_count": 15,
   "metadata": {
    "collapsed": false
   },
   "outputs": [
    {
     "data": {
      "text/plain": [
       "10    600\n",
       "15    599\n",
       "8     598\n",
       "9     597\n",
       "11    595\n",
       "13    594\n",
       "7     594\n",
       "14    593\n",
       "5     593\n",
       "12    591\n",
       "2     591\n",
       "3     590\n",
       "6     585\n",
       "1     584\n",
       "4     578\n",
       "17    564\n",
       "16    546\n",
       "0     480\n",
       "18    465\n",
       "19    377\n",
       "Name: target_names, dtype: int64"
      ]
     },
     "execution_count": 15,
     "metadata": {},
     "output_type": "execute_result"
    }
   ],
   "source": [
    "targets = pd.DataFrame(newsgroups['target'], columns=['target_names'])\n",
    "targets.head()\n",
    "targets['target_names'].value_counts()"
   ]
  },
  {
   "cell_type": "code",
   "execution_count": 16,
   "metadata": {
    "collapsed": false
   },
   "outputs": [
    {
     "data": {
      "text/plain": [
       "[(0, 'alt.atheism'),\n",
       " (1, 'comp.graphics'),\n",
       " (2, 'comp.os.ms-windows.misc'),\n",
       " (3, 'comp.sys.ibm.pc.hardware'),\n",
       " (4, 'comp.sys.mac.hardware'),\n",
       " (5, 'comp.windows.x'),\n",
       " (6, 'misc.forsale'),\n",
       " (7, 'rec.autos'),\n",
       " (8, 'rec.motorcycles'),\n",
       " (9, 'rec.sport.baseball'),\n",
       " (10, 'rec.sport.hockey'),\n",
       " (11, 'sci.crypt'),\n",
       " (12, 'sci.electronics'),\n",
       " (13, 'sci.med'),\n",
       " (14, 'sci.space'),\n",
       " (15, 'soc.religion.christian'),\n",
       " (16, 'talk.politics.guns'),\n",
       " (17, 'talk.politics.mideast'),\n",
       " (18, 'talk.politics.misc'),\n",
       " (19, 'talk.religion.misc')]"
      ]
     },
     "execution_count": 16,
     "metadata": {},
     "output_type": "execute_result"
    }
   ],
   "source": [
    "# looking to see which group to assign to 1's\n",
    "\n",
    "zip(range(0,21), newsgroups['target_names'])"
   ]
  },
  {
   "cell_type": "code",
   "execution_count": 17,
   "metadata": {
    "collapsed": false
   },
   "outputs": [
    {
     "data": {
      "text/plain": [
       "dtype('int64')"
      ]
     },
     "execution_count": 17,
     "metadata": {},
     "output_type": "execute_result"
    }
   ],
   "source": [
    "y = targets['target_names'].apply(lambda x: 1 if x == 16 else 0)\n",
    "y.head()\n",
    "y.dtypes"
   ]
  },
  {
   "cell_type": "code",
   "execution_count": 18,
   "metadata": {
    "collapsed": false
   },
   "outputs": [
    {
     "data": {
      "text/plain": [
       "5      1\n",
       "39     1\n",
       "67     1\n",
       "81     1\n",
       "127    1\n",
       "Name: target_names, dtype: int64"
      ]
     },
     "execution_count": 18,
     "metadata": {},
     "output_type": "execute_result"
    }
   ],
   "source": [
    "y[(y ==1)].head()"
   ]
  },
  {
   "cell_type": "code",
   "execution_count": null,
   "metadata": {
    "collapsed": false
   },
   "outputs": [],
   "source": [
    "# check to make sure we are talking about the topic we are looking for\n",
    "\n",
    "# print df.iloc[39,0]"
   ]
  },
  {
   "cell_type": "code",
   "execution_count": 19,
   "metadata": {
    "collapsed": false
   },
   "outputs": [
    {
     "data": {
      "text/plain": [
       "0        0\n",
       "1        0\n",
       "2        0\n",
       "3        0\n",
       "4        0\n",
       "5        1\n",
       "6        0\n",
       "7        0\n",
       "8        0\n",
       "9        0\n",
       "10       0\n",
       "11       0\n",
       "12       0\n",
       "13       0\n",
       "14       0\n",
       "15       0\n",
       "16       0\n",
       "17       0\n",
       "18       0\n",
       "19       0\n",
       "20       0\n",
       "21       0\n",
       "22       0\n",
       "23       0\n",
       "24       0\n",
       "25       0\n",
       "26       0\n",
       "27       0\n",
       "28       0\n",
       "29       0\n",
       "        ..\n",
       "11284    0\n",
       "11285    0\n",
       "11286    0\n",
       "11287    0\n",
       "11288    0\n",
       "11289    0\n",
       "11290    0\n",
       "11291    0\n",
       "11292    0\n",
       "11293    0\n",
       "11294    0\n",
       "11295    0\n",
       "11296    0\n",
       "11297    0\n",
       "11298    0\n",
       "11299    0\n",
       "11300    0\n",
       "11301    0\n",
       "11302    0\n",
       "11303    0\n",
       "11304    0\n",
       "11305    0\n",
       "11306    0\n",
       "11307    0\n",
       "11308    0\n",
       "11309    0\n",
       "11310    0\n",
       "11311    0\n",
       "11312    0\n",
       "11313    0\n",
       "Name: target_names, dtype: int64"
      ]
     },
     "execution_count": 19,
     "metadata": {},
     "output_type": "execute_result"
    }
   ],
   "source": [
    "y"
   ]
  },
  {
   "cell_type": "code",
   "execution_count": 20,
   "metadata": {
    "collapsed": true
   },
   "outputs": [],
   "source": [
    "from sklearn.ensemble import RandomForestClassifier\n",
    "from sklearn.cross_validation import train_test_split    "
   ]
  },
  {
   "cell_type": "code",
   "execution_count": 21,
   "metadata": {
    "collapsed": true
   },
   "outputs": [],
   "source": [
    "def tts_and_model(x, y):\n",
    "    x_train, x_test, y_train, y_test = train_test_split(x, y, test_size=0.3)\n",
    "    rf = RandomForestClassifier()\n",
    "    rf.fit(x_train, y_train)\n",
    "    print rf.score(x_test, y_test)"
   ]
  },
  {
   "cell_type": "code",
   "execution_count": 22,
   "metadata": {
    "collapsed": false
   },
   "outputs": [
    {
     "data": {
      "text/plain": [
       "array([[  1.17834553e-03,   6.35334200e+00],\n",
       "       [  1.52753858e-03,   1.84488757e-01],\n",
       "       [  1.58567063e-03,   3.39016519e-01],\n",
       "       ..., \n",
       "       [  4.77910886e-04,   1.14773774e-01],\n",
       "       [  1.36892826e-03,   2.30511523e-01],\n",
       "       [  1.74614197e-03,   1.97056300e-01]])"
      ]
     },
     "execution_count": 22,
     "metadata": {},
     "output_type": "execute_result"
    }
   ],
   "source": [
    "tsvd_word_data"
   ]
  },
  {
   "cell_type": "code",
   "execution_count": 23,
   "metadata": {
    "collapsed": false
   },
   "outputs": [
    {
     "name": "stdout",
     "output_type": "stream",
     "text": [
      "0.947864506627\n"
     ]
    }
   ],
   "source": [
    "tts_and_model(tsvd_word_data, y.values)"
   ]
  },
  {
   "cell_type": "code",
   "execution_count": 24,
   "metadata": {
    "collapsed": true
   },
   "outputs": [],
   "source": [
    "tsvd_200 = TruncatedSVD(n_components=200)\n",
    "tsvd_200 = tsvd_200.fit_transform(corpus_1)"
   ]
  },
  {
   "cell_type": "code",
   "execution_count": 25,
   "metadata": {
    "collapsed": false
   },
   "outputs": [
    {
     "name": "stdout",
     "output_type": "stream",
     "text": [
      "0.960235640648\n"
     ]
    }
   ],
   "source": [
    "tts_and_model(tsvd_200, y)"
   ]
  },
  {
   "cell_type": "code",
   "execution_count": 26,
   "metadata": {
    "collapsed": false
   },
   "outputs": [
    {
     "data": {
      "text/plain": [
       "0    0\n",
       "1    0\n",
       "2    0\n",
       "3    0\n",
       "4    0\n",
       "Name: target_names, dtype: int64"
      ]
     },
     "execution_count": 26,
     "metadata": {},
     "output_type": "execute_result"
    }
   ],
   "source": [
    "ele_y = targets['target_names'].apply(lambda x: 1 if x == 12 else 0)\n",
    "ele_y.head()"
   ]
  },
  {
   "cell_type": "code",
   "execution_count": 27,
   "metadata": {
    "collapsed": false
   },
   "outputs": [
    {
     "name": "stdout",
     "output_type": "stream",
     "text": [
      "0.946980854197\n",
      "None\n",
      "0.950515463918\n",
      "None\n"
     ]
    }
   ],
   "source": [
    "print tts_and_model(tsvd_word_data, ele_y)\n",
    "print tts_and_model(tsvd_200, ele_y)"
   ]
  },
  {
   "cell_type": "code",
   "execution_count": 28,
   "metadata": {
    "collapsed": false
   },
   "outputs": [
    {
     "name": "stdout",
     "output_type": "stream",
     "text": [
      "0.0695139911635\n",
      "None\n",
      "0.258615611193\n",
      "None\n"
     ]
    }
   ],
   "source": [
    "print tts_and_model(tsvd_word_data,  targets['target_names'])\n",
    "print tts_and_model(tsvd_200,  targets['target_names'])"
   ]
  },
  {
   "cell_type": "markdown",
   "metadata": {},
   "source": [
    "lets create a kmeans model"
   ]
  },
  {
   "cell_type": "code",
   "execution_count": 29,
   "metadata": {
    "collapsed": false
   },
   "outputs": [],
   "source": [
    "km = KMeans(n_clusters=2)"
   ]
  },
  {
   "cell_type": "code",
   "execution_count": 30,
   "metadata": {
    "collapsed": false
   },
   "outputs": [],
   "source": [
    "tsvd_word_data_stand = StandardScaler().fit_transform(tsvd_word_data)"
   ]
  },
  {
   "cell_type": "code",
   "execution_count": 31,
   "metadata": {
    "collapsed": false
   },
   "outputs": [
    {
     "data": {
      "text/plain": [
       "KMeans(copy_x=True, init='k-means++', max_iter=300, n_clusters=2, n_init=10,\n",
       "    n_jobs=1, precompute_distances='auto', random_state=None, tol=0.0001,\n",
       "    verbose=0)"
      ]
     },
     "execution_count": 31,
     "metadata": {},
     "output_type": "execute_result"
    }
   ],
   "source": [
    "km.fit(tsvd_word_data_stand)"
   ]
  },
  {
   "cell_type": "code",
   "execution_count": 32,
   "metadata": {
    "collapsed": false
   },
   "outputs": [
    {
     "data": {
      "text/plain": [
       "0    11303\n",
       "1       11\n",
       "dtype: int64"
      ]
     },
     "execution_count": 32,
     "metadata": {},
     "output_type": "execute_result"
    }
   ],
   "source": [
    "pd.Series(km.labels_).value_counts()"
   ]
  },
  {
   "cell_type": "code",
   "execution_count": null,
   "metadata": {
    "collapsed": false
   },
   "outputs": [],
   "source": [
    "plt.scatter(tsvd_word_data[:,0], tsvd_word_data[:,1], c=km.labels_, cmap='viridis')\n",
    "plt.xlabel('TSVD Component 1')\n",
    "plt.ylabel('TSVD Component 2')\n",
    "plt.show()"
   ]
  },
  {
   "cell_type": "code",
   "execution_count": 45,
   "metadata": {
    "collapsed": true
   },
   "outputs": [],
   "source": [
    "def kmeans_graph(x,k):\n",
    "    km = KMeans(n_clusters=k)\n",
    "    km.fit(x)\n",
    "    plt.scatter(x[:,0], x[:,1], c=km.labels_, cmap='viridis')\n",
    "    plt.xlabel('TSVD Component 1')\n",
    "    plt.ylabel('TSVD Component 2')\n",
    "    plt.title('Scatter plot of KMeands, %s Clusters' % k)\n",
    "    plt.show()\n",
    "    "
   ]
  },
  {
   "cell_type": "code",
   "execution_count": 46,
   "metadata": {
    "collapsed": true
   },
   "outputs": [],
   "source": [
    "def silhouette_selection(x, k):\n",
    "    scores = []\n",
    "    for iteration in range(10,k):\n",
    "        print 'I am on iteration %s' % iteration\n",
    "        km = KMeans(n_clusters=iteration)\n",
    "        km.fit(x)\n",
    "        scores.append((iteration, metrics.silhouette_score(x, km.labels_)))\n",
    "    ks = [k[0] for k in scores]\n",
    "    sils = [k[1] for k in scores]\n",
    "    plt.plot(ks, sils)\n",
    "    plt.ylabel('Silhouette Score')\n",
    "    plt.xlabel('K in KMeans')\n",
    "    plt.show\n",
    "    print scores"
   ]
  },
  {
   "cell_type": "code",
   "execution_count": 34,
   "metadata": {
    "collapsed": false
   },
   "outputs": [
    {
     "name": "stdout",
     "output_type": "stream",
     "text": [
      "I am on iteration 2\n",
      "I am on iteration 3\n",
      "I am on iteration 4\n",
      "I am on iteration 5\n",
      "I am on iteration 6\n",
      "I am on iteration 7\n",
      "I am on iteration 8\n",
      "I am on iteration 9\n",
      "I am on iteration 10\n",
      "I am on iteration 11\n",
      "I am on iteration 12\n",
      "I am on iteration 13\n",
      "I am on iteration 14\n",
      "I am on iteration 15\n",
      "I am on iteration 16\n",
      "I am on iteration 17\n",
      "I am on iteration 18\n",
      "I am on iteration 19\n",
      "I am on iteration 20\n",
      "I am on iteration 21\n",
      "I am on iteration 22\n",
      "I am on iteration 23\n",
      "I am on iteration 24\n",
      "I am on iteration 25\n"
     ]
    }
   ],
   "source": [
    "# will need to re-run this to show graph\n",
    "\n",
    "silhouette_selection(tsvd_word_data, 26)"
   ]
  },
  {
   "cell_type": "code",
   "execution_count": null,
   "metadata": {
    "collapsed": true
   },
   "outputs": [],
   "source": []
  },
  {
   "cell_type": "code",
   "execution_count": 37,
   "metadata": {
    "collapsed": false
   },
   "outputs": [],
   "source": [
    "count_vectorizer_all = CountVectorizer(stop_words='english')\n",
    "corpus_2 = count_vectorizer_all.fit_transform(df['text_lower'].values)"
   ]
  },
  {
   "cell_type": "code",
   "execution_count": 39,
   "metadata": {
    "collapsed": false
   },
   "outputs": [
    {
     "data": {
      "text/plain": [
       "<11314x129797 sparse matrix of type '<type 'numpy.int64'>'\n",
       "\twith 1300761 stored elements in Compressed Sparse Row format>"
      ]
     },
     "execution_count": 39,
     "metadata": {},
     "output_type": "execute_result"
    }
   ],
   "source": [
    "corpus_2"
   ]
  },
  {
   "cell_type": "code",
   "execution_count": 41,
   "metadata": {
    "collapsed": false
   },
   "outputs": [],
   "source": [
    "tv = TruncatedSVD()\n",
    "tsvd_all = tv.fit_transform(corpus_2)"
   ]
  },
  {
   "cell_type": "code",
   "execution_count": 43,
   "metadata": {
    "collapsed": false
   },
   "outputs": [
    {
     "data": {
      "text/plain": [
       "array([[ 0.00117836,  0.14736386],\n",
       "       [ 0.00152756,  0.18883465],\n",
       "       [ 0.00158569,  0.30486347],\n",
       "       [ 0.00244661,  0.2542514 ],\n",
       "       [ 0.00196696,  0.25336539]])"
      ]
     },
     "execution_count": 43,
     "metadata": {},
     "output_type": "execute_result"
    }
   ],
   "source": [
    "tsvd_all[0:5]"
   ]
  },
  {
   "cell_type": "code",
   "execution_count": 44,
   "metadata": {
    "collapsed": false
   },
   "outputs": [
    {
     "name": "stdout",
     "output_type": "stream",
     "text": [
      "I am on iteration 10\n",
      "I am on iteration 11\n",
      "I am on iteration 12\n",
      "I am on iteration 13\n",
      "I am on iteration 14\n",
      "I am on iteration 15\n",
      "I am on iteration 16\n",
      "I am on iteration 17\n",
      "I am on iteration 18\n",
      "I am on iteration 19\n",
      "I am on iteration 20\n",
      "I am on iteration 21\n",
      "I am on iteration 22\n",
      "I am on iteration 23\n",
      "I am on iteration 24\n",
      "I am on iteration 25\n",
      "[(10, 0.99911904132953666), (11, 0.999208408152783), (12, 0.9993210112590043), (13, 0.99599989926942012), (14, 0.97433351142380575), (15, 0.94387941285924981), (16, 0.95082815284679245), (17, 0.94344465258845644), (18, 0.81203662832850687), (19, 0.82599630426921467), (20, 0.62858428161894353), (21, 0.53134571854475965), (22, 0.60284728842384017), (23, 0.58005149559561919), (24, 0.58976373269590099), (25, 0.5598676947203759)]\n"
     ]
    }
   ],
   "source": [
    "silhouette_selection(tsvd_all, 26)"
   ]
  },
  {
   "cell_type": "code",
   "execution_count": 73,
   "metadata": {
    "collapsed": true
   },
   "outputs": [],
   "source": [
    "news = pd.DataFrame(newsgroups['target'], columns=['labels'])"
   ]
  },
  {
   "cell_type": "code",
   "execution_count": 74,
   "metadata": {
    "collapsed": false
   },
   "outputs": [
    {
     "name": "stdout",
     "output_type": "stream",
     "text": [
      "talk.politics.guns\n"
     ]
    }
   ],
   "source": [
    "def text_labels(value):\n",
    "    return newsgroups['target_names'][value]\n",
    "\n",
    "print text_labels(16)"
   ]
  },
  {
   "cell_type": "code",
   "execution_count": 75,
   "metadata": {
    "collapsed": true
   },
   "outputs": [],
   "source": [
    "news['text_labels'] = news['labels'].apply(text_labels)"
   ]
  },
  {
   "cell_type": "code",
   "execution_count": 76,
   "metadata": {
    "collapsed": false
   },
   "outputs": [
    {
     "data": {
      "text/plain": [
       "KMeans(copy_x=True, init='k-means++', max_iter=300, n_clusters=20, n_init=10,\n",
       "    n_jobs=1, precompute_distances='auto', random_state=None, tol=0.0001,\n",
       "    verbose=0)"
      ]
     },
     "execution_count": 76,
     "metadata": {},
     "output_type": "execute_result"
    }
   ],
   "source": [
    "final_model = KMeans(n_clusters=20)\n",
    "scaled = StandardScaler().fit_transform(tsvd_all)\n",
    "final_model.fit(tsvd_all)"
   ]
  },
  {
   "cell_type": "code",
   "execution_count": 77,
   "metadata": {
    "collapsed": false
   },
   "outputs": [],
   "source": [
    "news = news.join(pd.DataFrame(final_model.labels_, columns=['predicted_group']))"
   ]
  },
  {
   "cell_type": "code",
   "execution_count": 78,
   "metadata": {
    "collapsed": false
   },
   "outputs": [
    {
     "data": {
      "text/plain": [
       "predicted_group  text_labels             \n",
       "0                rec.motorcycles             545\n",
       "                 sci.electronics             525\n",
       "                 comp.graphics               513\n",
       "                 sci.med                     511\n",
       "                 comp.sys.mac.hardware       508\n",
       "                 comp.windows.x              507\n",
       "                 rec.autos                   507\n",
       "                 misc.forsale                506\n",
       "                 comp.sys.ibm.pc.hardware    505\n",
       "                 rec.sport.baseball          495\n",
       "                 rec.sport.hockey            479\n",
       "                 sci.space                   474\n",
       "                 comp.os.ms-windows.misc     466\n",
       "                 sci.crypt                   463\n",
       "                 soc.religion.christian      439\n",
       "                 talk.politics.mideast       407\n",
       "                 talk.politics.guns          401\n",
       "                 alt.atheism                 393\n",
       "                 talk.politics.misc          334\n",
       "                 talk.religion.misc          297\n",
       "1                comp.os.ms-windows.misc       1\n",
       "2                comp.os.ms-windows.misc       1\n",
       "3                comp.os.ms-windows.misc       1\n",
       "4                comp.os.ms-windows.misc       1\n",
       "5                comp.os.ms-windows.misc       1\n",
       "6                comp.os.ms-windows.misc       1\n",
       "7                comp.os.ms-windows.misc       1\n",
       "8                comp.os.ms-windows.misc       1\n",
       "9                comp.os.ms-windows.misc       1\n",
       "10               comp.os.ms-windows.misc       1\n",
       "                                            ... \n",
       "18               talk.politics.misc            6\n",
       "                 alt.atheism                   4\n",
       "                 comp.graphics                 3\n",
       "                 comp.os.ms-windows.misc       2\n",
       "                 rec.autos                     2\n",
       "                 rec.motorcycles               2\n",
       "                 comp.sys.ibm.pc.hardware      1\n",
       "                 sci.electronics               1\n",
       "                 soc.religion.christian        1\n",
       "                 talk.religion.misc            1\n",
       "19               soc.religion.christian      159\n",
       "                 talk.politics.mideast       145\n",
       "                 talk.politics.guns          137\n",
       "                 talk.politics.misc          120\n",
       "                 sci.crypt                   117\n",
       "                 comp.os.ms-windows.misc     104\n",
       "                 sci.space                   103\n",
       "                 rec.sport.hockey             99\n",
       "                 rec.sport.baseball           90\n",
       "                 rec.autos                    85\n",
       "                 alt.atheism                  82\n",
       "                 comp.sys.ibm.pc.hardware     81\n",
       "                 talk.religion.misc           79\n",
       "                 comp.windows.x               74\n",
       "                 misc.forsale                 72\n",
       "                 sci.med                      72\n",
       "                 comp.sys.mac.hardware        69\n",
       "                 comp.graphics                64\n",
       "                 sci.electronics              64\n",
       "                 rec.motorcycles              51\n",
       "Name: text_labels, dtype: int64"
      ]
     },
     "execution_count": 78,
     "metadata": {},
     "output_type": "execute_result"
    }
   ],
   "source": [
    "news.groupby('predicted_group')['text_labels'].value_counts()"
   ]
  },
  {
   "cell_type": "code",
   "execution_count": 79,
   "metadata": {
    "collapsed": false
   },
   "outputs": [
    {
     "data": {
      "text/plain": [
       "0     9275\n",
       "19    1867\n",
       "18      99\n",
       "14      36\n",
       "13      17\n",
       "16       4\n",
       "12       3\n",
       "2        1\n",
       "8        1\n",
       "1        1\n",
       "9        1\n",
       "17       1\n",
       "15       1\n",
       "10       1\n",
       "7        1\n",
       "11       1\n",
       "4        1\n",
       "5        1\n",
       "6        1\n",
       "3        1\n",
       "Name: predicted_group, dtype: int64"
      ]
     },
     "execution_count": 79,
     "metadata": {},
     "output_type": "execute_result"
    }
   ],
   "source": [
    "news['predicted_group'].value_counts()"
   ]
  },
  {
   "cell_type": "code",
   "execution_count": null,
   "metadata": {
    "collapsed": true
   },
   "outputs": [],
   "source": [
    "lets go back and strip some extra word crap out"
   ]
  },
  {
   "cell_type": "code",
   "execution_count": 80,
   "metadata": {
    "collapsed": true
   },
   "outputs": [],
   "source": [
    "df['stripped_marks'] = df['text_lower'].str.replace('>', '')"
   ]
  },
  {
   "cell_type": "code",
   "execution_count": 82,
   "metadata": {
    "collapsed": true
   },
   "outputs": [],
   "source": [
    "df['stripped_headers'] = df['text_lower'].str.replace('from:', '')\n",
    "df['stripped_headers'] = df['text_lower'].str.replace('subject:', '')\n",
    "df['stripped_headers'] = df['text_lower'].str.replace('lines:', '')"
   ]
  },
  {
   "cell_type": "code",
   "execution_count": null,
   "metadata": {
    "collapsed": false
   },
   "outputs": [],
   "source": []
  },
  {
   "cell_type": "code",
   "execution_count": null,
   "metadata": {
    "collapsed": true
   },
   "outputs": [],
   "source": []
  },
  {
   "cell_type": "code",
   "execution_count": null,
   "metadata": {
    "collapsed": true
   },
   "outputs": [],
   "source": []
  },
  {
   "cell_type": "code",
   "execution_count": null,
   "metadata": {
    "collapsed": true
   },
   "outputs": [],
   "source": []
  },
  {
   "cell_type": "code",
   "execution_count": null,
   "metadata": {
    "collapsed": true
   },
   "outputs": [],
   "source": []
  },
  {
   "cell_type": "code",
   "execution_count": null,
   "metadata": {
    "collapsed": true
   },
   "outputs": [],
   "source": []
  },
  {
   "cell_type": "code",
   "execution_count": null,
   "metadata": {
    "collapsed": true
   },
   "outputs": [],
   "source": []
  },
  {
   "cell_type": "code",
   "execution_count": null,
   "metadata": {
    "collapsed": true
   },
   "outputs": [],
   "source": []
  },
  {
   "cell_type": "code",
   "execution_count": null,
   "metadata": {
    "collapsed": true
   },
   "outputs": [],
   "source": []
  },
  {
   "cell_type": "code",
   "execution_count": null,
   "metadata": {
    "collapsed": true
   },
   "outputs": [],
   "source": []
  },
  {
   "cell_type": "code",
   "execution_count": null,
   "metadata": {
    "collapsed": true
   },
   "outputs": [],
   "source": []
  },
  {
   "cell_type": "code",
   "execution_count": null,
   "metadata": {
    "collapsed": true
   },
   "outputs": [],
   "source": []
  },
  {
   "cell_type": "code",
   "execution_count": null,
   "metadata": {
    "collapsed": true
   },
   "outputs": [],
   "source": []
  }
 ],
 "metadata": {
  "anaconda-cloud": {},
  "kernelspec": {
   "display_name": "Python [Root]",
   "language": "python",
   "name": "Python [Root]"
  },
  "language_info": {
   "codemirror_mode": {
    "name": "ipython",
    "version": 2
   },
   "file_extension": ".py",
   "mimetype": "text/x-python",
   "name": "python",
   "nbconvert_exporter": "python",
   "pygments_lexer": "ipython2",
   "version": "2.7.12"
  }
 },
 "nbformat": 4,
 "nbformat_minor": 0
}
