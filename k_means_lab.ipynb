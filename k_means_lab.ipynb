{
 "cells": [
  {
   "cell_type": "code",
   "execution_count": 1,
   "metadata": {
    "collapsed": true
   },
   "outputs": [],
   "source": [
    "%matplotlib inline \n",
    "\n",
    "import pandas as pd\n",
    "import numpy as np\n",
    "from sklearn import cluster\n",
    "from sklearn import metrics\n",
    "from sklearn.metrics import pairwise_distances\n",
    "import matplotlib.pyplot as plt\n",
    "import matplotlib\n",
    "matplotlib.style.use('ggplot') "
   ]
  },
  {
   "cell_type": "code",
   "execution_count": 2,
   "metadata": {
    "collapsed": true
   },
   "outputs": [],
   "source": [
    "adult = pd.read_csv('../DSI-CHI-1/lessons/week-07/1.2-k-means-lab/assets/datasets/adult.csv')"
   ]
  },
  {
   "cell_type": "code",
   "execution_count": 4,
   "metadata": {
    "collapsed": false
   },
   "outputs": [
    {
     "data": {
      "text/html": [
       "<div>\n",
       "<table border=\"1\" class=\"dataframe\">\n",
       "  <thead>\n",
       "    <tr style=\"text-align: right;\">\n",
       "      <th></th>\n",
       "      <th>age</th>\n",
       "      <th>workclass</th>\n",
       "      <th>fnlwgt</th>\n",
       "      <th>education</th>\n",
       "      <th>education-num</th>\n",
       "      <th>marital-status</th>\n",
       "      <th>occupation</th>\n",
       "      <th>relationship</th>\n",
       "      <th>race</th>\n",
       "      <th>sex</th>\n",
       "      <th>capital-gain</th>\n",
       "      <th>capital-loss</th>\n",
       "      <th>hours-per-week</th>\n",
       "      <th>native-country</th>\n",
       "      <th>income</th>\n",
       "    </tr>\n",
       "  </thead>\n",
       "  <tbody>\n",
       "    <tr>\n",
       "      <th>0</th>\n",
       "      <td>39</td>\n",
       "      <td>State-gov</td>\n",
       "      <td>77516</td>\n",
       "      <td>Bachelors</td>\n",
       "      <td>13</td>\n",
       "      <td>Never-married</td>\n",
       "      <td>Adm-clerical</td>\n",
       "      <td>Not-in-family</td>\n",
       "      <td>White</td>\n",
       "      <td>Male</td>\n",
       "      <td>2174</td>\n",
       "      <td>0</td>\n",
       "      <td>40</td>\n",
       "      <td>United-States</td>\n",
       "      <td>small</td>\n",
       "    </tr>\n",
       "    <tr>\n",
       "      <th>1</th>\n",
       "      <td>50</td>\n",
       "      <td>Self-emp-not-inc</td>\n",
       "      <td>83311</td>\n",
       "      <td>Bachelors</td>\n",
       "      <td>13</td>\n",
       "      <td>Married-civ-spouse</td>\n",
       "      <td>Exec-managerial</td>\n",
       "      <td>Husband</td>\n",
       "      <td>White</td>\n",
       "      <td>Male</td>\n",
       "      <td>0</td>\n",
       "      <td>0</td>\n",
       "      <td>13</td>\n",
       "      <td>United-States</td>\n",
       "      <td>small</td>\n",
       "    </tr>\n",
       "  </tbody>\n",
       "</table>\n",
       "</div>"
      ],
      "text/plain": [
       "   age         workclass  fnlwgt  education  education-num  \\\n",
       "0   39         State-gov   77516  Bachelors             13   \n",
       "1   50  Self-emp-not-inc   83311  Bachelors             13   \n",
       "\n",
       "       marital-status       occupation   relationship   race   sex  \\\n",
       "0       Never-married     Adm-clerical  Not-in-family  White  Male   \n",
       "1  Married-civ-spouse  Exec-managerial        Husband  White  Male   \n",
       "\n",
       "   capital-gain  capital-loss  hours-per-week native-country income  \n",
       "0          2174             0              40  United-States  small  \n",
       "1             0             0              13  United-States  small  "
      ]
     },
     "execution_count": 4,
     "metadata": {},
     "output_type": "execute_result"
    }
   ],
   "source": [
    "adult.head(2)"
   ]
  },
  {
   "cell_type": "code",
   "execution_count": 5,
   "metadata": {
    "collapsed": false
   },
   "outputs": [
    {
     "data": {
      "text/html": [
       "<div>\n",
       "<table border=\"1\" class=\"dataframe\">\n",
       "  <thead>\n",
       "    <tr style=\"text-align: right;\">\n",
       "      <th></th>\n",
       "      <th>age</th>\n",
       "      <th>fnlwgt</th>\n",
       "      <th>education-num</th>\n",
       "      <th>capital-gain</th>\n",
       "      <th>capital-loss</th>\n",
       "      <th>hours-per-week</th>\n",
       "    </tr>\n",
       "  </thead>\n",
       "  <tbody>\n",
       "    <tr>\n",
       "      <th>count</th>\n",
       "      <td>48842.000000</td>\n",
       "      <td>4.884200e+04</td>\n",
       "      <td>48842.000000</td>\n",
       "      <td>48842.000000</td>\n",
       "      <td>48842.000000</td>\n",
       "      <td>48842.000000</td>\n",
       "    </tr>\n",
       "    <tr>\n",
       "      <th>mean</th>\n",
       "      <td>38.643585</td>\n",
       "      <td>1.896641e+05</td>\n",
       "      <td>10.078089</td>\n",
       "      <td>1079.067626</td>\n",
       "      <td>87.502314</td>\n",
       "      <td>40.422382</td>\n",
       "    </tr>\n",
       "    <tr>\n",
       "      <th>std</th>\n",
       "      <td>13.710510</td>\n",
       "      <td>1.056040e+05</td>\n",
       "      <td>2.570973</td>\n",
       "      <td>7452.019058</td>\n",
       "      <td>403.004552</td>\n",
       "      <td>12.391444</td>\n",
       "    </tr>\n",
       "    <tr>\n",
       "      <th>min</th>\n",
       "      <td>17.000000</td>\n",
       "      <td>1.228500e+04</td>\n",
       "      <td>1.000000</td>\n",
       "      <td>0.000000</td>\n",
       "      <td>0.000000</td>\n",
       "      <td>1.000000</td>\n",
       "    </tr>\n",
       "    <tr>\n",
       "      <th>25%</th>\n",
       "      <td>28.000000</td>\n",
       "      <td>1.175505e+05</td>\n",
       "      <td>9.000000</td>\n",
       "      <td>0.000000</td>\n",
       "      <td>0.000000</td>\n",
       "      <td>40.000000</td>\n",
       "    </tr>\n",
       "    <tr>\n",
       "      <th>50%</th>\n",
       "      <td>37.000000</td>\n",
       "      <td>1.781445e+05</td>\n",
       "      <td>10.000000</td>\n",
       "      <td>0.000000</td>\n",
       "      <td>0.000000</td>\n",
       "      <td>40.000000</td>\n",
       "    </tr>\n",
       "    <tr>\n",
       "      <th>75%</th>\n",
       "      <td>48.000000</td>\n",
       "      <td>2.376420e+05</td>\n",
       "      <td>12.000000</td>\n",
       "      <td>0.000000</td>\n",
       "      <td>0.000000</td>\n",
       "      <td>45.000000</td>\n",
       "    </tr>\n",
       "    <tr>\n",
       "      <th>max</th>\n",
       "      <td>90.000000</td>\n",
       "      <td>1.490400e+06</td>\n",
       "      <td>16.000000</td>\n",
       "      <td>99999.000000</td>\n",
       "      <td>4356.000000</td>\n",
       "      <td>99.000000</td>\n",
       "    </tr>\n",
       "  </tbody>\n",
       "</table>\n",
       "</div>"
      ],
      "text/plain": [
       "                age        fnlwgt  education-num  capital-gain  capital-loss  \\\n",
       "count  48842.000000  4.884200e+04   48842.000000  48842.000000  48842.000000   \n",
       "mean      38.643585  1.896641e+05      10.078089   1079.067626     87.502314   \n",
       "std       13.710510  1.056040e+05       2.570973   7452.019058    403.004552   \n",
       "min       17.000000  1.228500e+04       1.000000      0.000000      0.000000   \n",
       "25%       28.000000  1.175505e+05       9.000000      0.000000      0.000000   \n",
       "50%       37.000000  1.781445e+05      10.000000      0.000000      0.000000   \n",
       "75%       48.000000  2.376420e+05      12.000000      0.000000      0.000000   \n",
       "max       90.000000  1.490400e+06      16.000000  99999.000000   4356.000000   \n",
       "\n",
       "       hours-per-week  \n",
       "count    48842.000000  \n",
       "mean        40.422382  \n",
       "std         12.391444  \n",
       "min          1.000000  \n",
       "25%         40.000000  \n",
       "50%         40.000000  \n",
       "75%         45.000000  \n",
       "max         99.000000  "
      ]
     },
     "execution_count": 5,
     "metadata": {},
     "output_type": "execute_result"
    }
   ],
   "source": [
    "adult.describe()"
   ]
  },
  {
   "cell_type": "code",
   "execution_count": 6,
   "metadata": {
    "collapsed": false
   },
   "outputs": [
    {
     "data": {
      "text/html": [
       "<div>\n",
       "<table border=\"1\" class=\"dataframe\">\n",
       "  <thead>\n",
       "    <tr style=\"text-align: right;\">\n",
       "      <th></th>\n",
       "      <th>occupation</th>\n",
       "      <th>workclass</th>\n",
       "      <th>education</th>\n",
       "      <th>capital-gain</th>\n",
       "      <th>sex</th>\n",
       "    </tr>\n",
       "  </thead>\n",
       "  <tbody>\n",
       "    <tr>\n",
       "      <th>0</th>\n",
       "      <td>Adm-clerical</td>\n",
       "      <td>State-gov</td>\n",
       "      <td>Bachelors</td>\n",
       "      <td>2174</td>\n",
       "      <td>Male</td>\n",
       "    </tr>\n",
       "    <tr>\n",
       "      <th>1</th>\n",
       "      <td>Exec-managerial</td>\n",
       "      <td>Self-emp-not-inc</td>\n",
       "      <td>Bachelors</td>\n",
       "      <td>0</td>\n",
       "      <td>Male</td>\n",
       "    </tr>\n",
       "    <tr>\n",
       "      <th>2</th>\n",
       "      <td>Handlers-cleaners</td>\n",
       "      <td>Private</td>\n",
       "      <td>HS-grad</td>\n",
       "      <td>0</td>\n",
       "      <td>Male</td>\n",
       "    </tr>\n",
       "    <tr>\n",
       "      <th>3</th>\n",
       "      <td>Handlers-cleaners</td>\n",
       "      <td>Private</td>\n",
       "      <td>11th</td>\n",
       "      <td>0</td>\n",
       "      <td>Male</td>\n",
       "    </tr>\n",
       "    <tr>\n",
       "      <th>4</th>\n",
       "      <td>Prof-specialty</td>\n",
       "      <td>Private</td>\n",
       "      <td>Bachelors</td>\n",
       "      <td>0</td>\n",
       "      <td>Female</td>\n",
       "    </tr>\n",
       "  </tbody>\n",
       "</table>\n",
       "</div>"
      ],
      "text/plain": [
       "          occupation         workclass  education  capital-gain     sex\n",
       "0       Adm-clerical         State-gov  Bachelors          2174    Male\n",
       "1    Exec-managerial  Self-emp-not-inc  Bachelors             0    Male\n",
       "2  Handlers-cleaners           Private    HS-grad             0    Male\n",
       "3  Handlers-cleaners           Private       11th             0    Male\n",
       "4     Prof-specialty           Private  Bachelors             0  Female"
      ]
     },
     "execution_count": 6,
     "metadata": {},
     "output_type": "execute_result"
    }
   ],
   "source": [
    "df = adult[['occupation', 'workclass', 'education', 'capital-gain', 'sex']].copy()\n",
    "df.head()"
   ]
  },
  {
   "cell_type": "code",
   "execution_count": 7,
   "metadata": {
    "collapsed": false
   },
   "outputs": [
    {
     "data": {
      "text/plain": [
       "occupation      object\n",
       "workclass       object\n",
       "education       object\n",
       "capital-gain     int64\n",
       "sex             object\n",
       "dtype: object"
      ]
     },
     "execution_count": 7,
     "metadata": {},
     "output_type": "execute_result"
    }
   ],
   "source": [
    "df.dtypes"
   ]
  },
  {
   "cell_type": "code",
   "execution_count": 9,
   "metadata": {
    "collapsed": false
   },
   "outputs": [
    {
     "name": "stdout",
     "output_type": "stream",
     "text": [
      " occupation True\n",
      "workclass True\n",
      "education False\n",
      "capital-gain False\n",
      "sex False\n"
     ]
    }
   ],
   "source": [
    "for column in df.columns:\n",
    "    print column, df[column].isnull().any()"
   ]
  },
  {
   "cell_type": "code",
   "execution_count": null,
   "metadata": {
    "collapsed": true
   },
   "outputs": [],
   "source": []
  },
  {
   "cell_type": "code",
   "execution_count": 10,
   "metadata": {
    "collapsed": false
   },
   "outputs": [
    {
     "data": {
      "text/plain": [
       "Prof-specialty       6172\n",
       "Craft-repair         6112\n",
       "Exec-managerial      6086\n",
       "Adm-clerical         5611\n",
       "Sales                5504\n",
       "Other-service        4923\n",
       "Machine-op-inspct    3022\n",
       "Transport-moving     2355\n",
       "Handlers-cleaners    2072\n",
       "Farming-fishing      1490\n",
       "Tech-support         1446\n",
       "Protective-serv       983\n",
       "Priv-house-serv       242\n",
       "Armed-Forces           15\n",
       "Name: occupation, dtype: int64"
      ]
     },
     "execution_count": 10,
     "metadata": {},
     "output_type": "execute_result"
    }
   ],
   "source": [
    "df['occupation'].value_counts()"
   ]
  },
  {
   "cell_type": "code",
   "execution_count": 11,
   "metadata": {
    "collapsed": true
   },
   "outputs": [],
   "source": [
    "df['occupation'].fillna('Missing Occupation', inplace=True)"
   ]
  },
  {
   "cell_type": "code",
   "execution_count": 12,
   "metadata": {
    "collapsed": true
   },
   "outputs": [],
   "source": [
    "occupation_dummies = pd.get_dummies(df['occupation'])"
   ]
  },
  {
   "cell_type": "code",
   "execution_count": 14,
   "metadata": {
    "collapsed": false
   },
   "outputs": [
    {
     "data": {
      "text/html": [
       "<div>\n",
       "<table border=\"1\" class=\"dataframe\">\n",
       "  <thead>\n",
       "    <tr style=\"text-align: right;\">\n",
       "      <th></th>\n",
       "      <th>Adm-clerical</th>\n",
       "      <th>Armed-Forces</th>\n",
       "      <th>Craft-repair</th>\n",
       "      <th>Exec-managerial</th>\n",
       "      <th>Farming-fishing</th>\n",
       "      <th>Handlers-cleaners</th>\n",
       "      <th>Machine-op-inspct</th>\n",
       "      <th>Missing Occupation</th>\n",
       "      <th>Other-service</th>\n",
       "      <th>Priv-house-serv</th>\n",
       "      <th>Prof-specialty</th>\n",
       "      <th>Protective-serv</th>\n",
       "      <th>Sales</th>\n",
       "      <th>Tech-support</th>\n",
       "      <th>Transport-moving</th>\n",
       "    </tr>\n",
       "  </thead>\n",
       "  <tbody>\n",
       "    <tr>\n",
       "      <th>0</th>\n",
       "      <td>1.0</td>\n",
       "      <td>0.0</td>\n",
       "      <td>0.0</td>\n",
       "      <td>0.0</td>\n",
       "      <td>0.0</td>\n",
       "      <td>0.0</td>\n",
       "      <td>0.0</td>\n",
       "      <td>0.0</td>\n",
       "      <td>0.0</td>\n",
       "      <td>0.0</td>\n",
       "      <td>0.0</td>\n",
       "      <td>0.0</td>\n",
       "      <td>0.0</td>\n",
       "      <td>0.0</td>\n",
       "      <td>0.0</td>\n",
       "    </tr>\n",
       "    <tr>\n",
       "      <th>1</th>\n",
       "      <td>0.0</td>\n",
       "      <td>0.0</td>\n",
       "      <td>0.0</td>\n",
       "      <td>1.0</td>\n",
       "      <td>0.0</td>\n",
       "      <td>0.0</td>\n",
       "      <td>0.0</td>\n",
       "      <td>0.0</td>\n",
       "      <td>0.0</td>\n",
       "      <td>0.0</td>\n",
       "      <td>0.0</td>\n",
       "      <td>0.0</td>\n",
       "      <td>0.0</td>\n",
       "      <td>0.0</td>\n",
       "      <td>0.0</td>\n",
       "    </tr>\n",
       "  </tbody>\n",
       "</table>\n",
       "</div>"
      ],
      "text/plain": [
       "   Adm-clerical  Armed-Forces  Craft-repair  Exec-managerial  Farming-fishing  \\\n",
       "0           1.0           0.0           0.0              0.0              0.0   \n",
       "1           0.0           0.0           0.0              1.0              0.0   \n",
       "\n",
       "   Handlers-cleaners  Machine-op-inspct  Missing Occupation  Other-service  \\\n",
       "0                0.0                0.0                 0.0            0.0   \n",
       "1                0.0                0.0                 0.0            0.0   \n",
       "\n",
       "   Priv-house-serv  Prof-specialty  Protective-serv  Sales  Tech-support  \\\n",
       "0              0.0             0.0              0.0    0.0           0.0   \n",
       "1              0.0             0.0              0.0    0.0           0.0   \n",
       "\n",
       "   Transport-moving  \n",
       "0               0.0  \n",
       "1               0.0  "
      ]
     },
     "execution_count": 14,
     "metadata": {},
     "output_type": "execute_result"
    }
   ],
   "source": [
    "occupation_dummies.head(2)"
   ]
  },
  {
   "cell_type": "code",
   "execution_count": 16,
   "metadata": {
    "collapsed": false
   },
   "outputs": [
    {
     "data": {
      "text/plain": [
       "Private               33906\n",
       "Self-emp-not-inc       3862\n",
       "Local-gov              3136\n",
       "Missing Work Class     2799\n",
       "State-gov              1981\n",
       "Self-emp-inc           1695\n",
       "Federal-gov            1432\n",
       "Without-pay              21\n",
       "Never-worked             10\n",
       "Name: workclass, dtype: int64"
      ]
     },
     "execution_count": 16,
     "metadata": {},
     "output_type": "execute_result"
    }
   ],
   "source": [
    "df['workclass'].fillna('Missing Work Class', inplace=True)\n",
    "df['workclass'].value_counts()"
   ]
  },
  {
   "cell_type": "code",
   "execution_count": null,
   "metadata": {
    "collapsed": true
   },
   "outputs": [],
   "source": [
    "# lets group some of these together\n",
    "\n",
    "df work_baby_work(job_class):\n",
    "    if job_class == 'Private':\n",
    "        return 'private'\n",
    "    elif 'Self_emp' in job_class:\n",
    "        return 'self_employed'\n",
    "    else:\n",
    "        pass\n",
    "# this will test func    \n",
    "work_baby_work('Private')"
   ]
  },
  {
   "cell_type": "code",
   "execution_count": 18,
   "metadata": {
    "collapsed": false
   },
   "outputs": [],
   "source": [
    "def work_baby_work(job_class):\n",
    "    if job_class == 'Private':\n",
    "        return 'private'\n",
    "    elif 'Self_emp' in job_class:\n",
    "        return 'self_employed'\n",
    "    elif '-gov' in job_class:\n",
    "        return 'goverment'\n",
    "    else:\n",
    "        return 'no_job'\n",
    "    \n",
    "# work_baby_work('test categories here')"
   ]
  },
  {
   "cell_type": "code",
   "execution_count": 19,
   "metadata": {
    "collapsed": false
   },
   "outputs": [
    {
     "data": {
      "text/html": [
       "<div>\n",
       "<table border=\"1\" class=\"dataframe\">\n",
       "  <thead>\n",
       "    <tr style=\"text-align: right;\">\n",
       "      <th></th>\n",
       "      <th>goverment</th>\n",
       "      <th>no_job</th>\n",
       "      <th>private</th>\n",
       "    </tr>\n",
       "  </thead>\n",
       "  <tbody>\n",
       "    <tr>\n",
       "      <th>0</th>\n",
       "      <td>1.0</td>\n",
       "      <td>0.0</td>\n",
       "      <td>0.0</td>\n",
       "    </tr>\n",
       "    <tr>\n",
       "      <th>1</th>\n",
       "      <td>0.0</td>\n",
       "      <td>1.0</td>\n",
       "      <td>0.0</td>\n",
       "    </tr>\n",
       "    <tr>\n",
       "      <th>2</th>\n",
       "      <td>0.0</td>\n",
       "      <td>0.0</td>\n",
       "      <td>1.0</td>\n",
       "    </tr>\n",
       "    <tr>\n",
       "      <th>3</th>\n",
       "      <td>0.0</td>\n",
       "      <td>0.0</td>\n",
       "      <td>1.0</td>\n",
       "    </tr>\n",
       "    <tr>\n",
       "      <th>4</th>\n",
       "      <td>0.0</td>\n",
       "      <td>0.0</td>\n",
       "      <td>1.0</td>\n",
       "    </tr>\n",
       "  </tbody>\n",
       "</table>\n",
       "</div>"
      ],
      "text/plain": [
       "   goverment  no_job  private\n",
       "0        1.0     0.0      0.0\n",
       "1        0.0     1.0      0.0\n",
       "2        0.0     0.0      1.0\n",
       "3        0.0     0.0      1.0\n",
       "4        0.0     0.0      1.0"
      ]
     },
     "execution_count": 19,
     "metadata": {},
     "output_type": "execute_result"
    }
   ],
   "source": [
    "work_class_binned = df['workclass'].apply(work_baby_work)\n",
    "work_class_dummies = pd.get_dummies(work_class_binned)\n",
    "work_class_dummies.head()"
   ]
  },
  {
   "cell_type": "code",
   "execution_count": 20,
   "metadata": {
    "collapsed": false
   },
   "outputs": [
    {
     "data": {
      "text/plain": [
       "HS-grad         15784\n",
       "Some-college    10878\n",
       "Bachelors        8025\n",
       "Masters          2657\n",
       "Assoc-voc        2061\n",
       "11th             1812\n",
       "Assoc-acdm       1601\n",
       "10th             1389\n",
       "7th-8th           955\n",
       "Prof-school       834\n",
       "9th               756\n",
       "12th              657\n",
       "Doctorate         594\n",
       "5th-6th           509\n",
       "1st-4th           247\n",
       "Preschool          83\n",
       "Name: education, dtype: int64"
      ]
     },
     "execution_count": 20,
     "metadata": {},
     "output_type": "execute_result"
    }
   ],
   "source": [
    "df['education'].value_counts()"
   ]
  },
  {
   "cell_type": "code",
   "execution_count": 21,
   "metadata": {
    "collapsed": false
   },
   "outputs": [
    {
     "name": "stdout",
     "output_type": "stream",
     "text": [
      "hs_grad\n"
     ]
    }
   ],
   "source": [
    "def education_bin(schooling):\n",
    "    if schooling == 'HS-grad':\n",
    "        return 'hs_grad'\n",
    "    elif schooling in ['Some-college', 'Bachelors']:\n",
    "        return 'college'\n",
    "    elif schooling in ['Assoc-voc', 'Assoc-acdm', 'Prof-school']:\n",
    "        return 'alt-education'\n",
    "    elif schooling in ['Masters', 'Doctorate']:\n",
    "        return 'grad_school'\n",
    "    else:\n",
    "        return 'lower_than_hs'\n",
    "    \n",
    "print education_bin('HS-grad')"
   ]
  },
  {
   "cell_type": "code",
   "execution_count": 27,
   "metadata": {
    "collapsed": false
   },
   "outputs": [
    {
     "data": {
      "text/html": [
       "<div>\n",
       "<table border=\"1\" class=\"dataframe\">\n",
       "  <thead>\n",
       "    <tr style=\"text-align: right;\">\n",
       "      <th></th>\n",
       "      <th>alt-education</th>\n",
       "      <th>college</th>\n",
       "      <th>grad_school</th>\n",
       "      <th>hs_grad</th>\n",
       "      <th>lower_than_hs</th>\n",
       "    </tr>\n",
       "  </thead>\n",
       "  <tbody>\n",
       "    <tr>\n",
       "      <th>0</th>\n",
       "      <td>0.0</td>\n",
       "      <td>1.0</td>\n",
       "      <td>0.0</td>\n",
       "      <td>0.0</td>\n",
       "      <td>0.0</td>\n",
       "    </tr>\n",
       "    <tr>\n",
       "      <th>1</th>\n",
       "      <td>0.0</td>\n",
       "      <td>1.0</td>\n",
       "      <td>0.0</td>\n",
       "      <td>0.0</td>\n",
       "      <td>0.0</td>\n",
       "    </tr>\n",
       "    <tr>\n",
       "      <th>2</th>\n",
       "      <td>0.0</td>\n",
       "      <td>0.0</td>\n",
       "      <td>0.0</td>\n",
       "      <td>1.0</td>\n",
       "      <td>0.0</td>\n",
       "    </tr>\n",
       "    <tr>\n",
       "      <th>3</th>\n",
       "      <td>0.0</td>\n",
       "      <td>0.0</td>\n",
       "      <td>0.0</td>\n",
       "      <td>0.0</td>\n",
       "      <td>1.0</td>\n",
       "    </tr>\n",
       "    <tr>\n",
       "      <th>4</th>\n",
       "      <td>0.0</td>\n",
       "      <td>1.0</td>\n",
       "      <td>0.0</td>\n",
       "      <td>0.0</td>\n",
       "      <td>0.0</td>\n",
       "    </tr>\n",
       "  </tbody>\n",
       "</table>\n",
       "</div>"
      ],
      "text/plain": [
       "   alt-education  college  grad_school  hs_grad  lower_than_hs\n",
       "0            0.0      1.0          0.0      0.0            0.0\n",
       "1            0.0      1.0          0.0      0.0            0.0\n",
       "2            0.0      0.0          0.0      1.0            0.0\n",
       "3            0.0      0.0          0.0      0.0            1.0\n",
       "4            0.0      1.0          0.0      0.0            0.0"
      ]
     },
     "execution_count": 27,
     "metadata": {},
     "output_type": "execute_result"
    }
   ],
   "source": [
    "education_status = df['education'].apply(education_bin)\n",
    "education_dummies = pd.get_dummies(education_status)\n",
    "education_dummies.head()"
   ]
  },
  {
   "cell_type": "code",
   "execution_count": 28,
   "metadata": {
    "collapsed": false
   },
   "outputs": [],
   "source": [
    "df['sex'].value_counts()\n",
    "df['is_male'] = df['sex'].apply(lambda x: 1 if x == 'Male' else 0)"
   ]
  },
  {
   "cell_type": "code",
   "execution_count": 29,
   "metadata": {
    "collapsed": false
   },
   "outputs": [
    {
     "data": {
      "text/plain": [
       "(48842, 25)"
      ]
     },
     "execution_count": 29,
     "metadata": {},
     "output_type": "execute_result"
    }
   ],
   "source": [
    "final_df = df[['capital-gain', 'is_male']].copy()\n",
    "final_df = final_df.join(occupation_dummies)\n",
    "final_df = final_df.join(work_class_dummies)\n",
    "final_df = final_df.join(education_dummies)\n",
    "final_df.shape"
   ]
  },
  {
   "cell_type": "code",
   "execution_count": 30,
   "metadata": {
    "collapsed": true
   },
   "outputs": [],
   "source": [
    "def plot_graphs(x,y):\n",
    "    plt.scatter(x,y)\n",
    "    plt.show()"
   ]
  },
  {
   "cell_type": "code",
   "execution_count": 32,
   "metadata": {
    "collapsed": false
   },
   "outputs": [],
   "source": [
    "y = adult['income'].apply(lambda x: 0 if x == 'small' else 1)"
   ]
  },
  {
   "cell_type": "code",
   "execution_count": 33,
   "metadata": {
    "collapsed": false
   },
   "outputs": [
    {
     "data": {
      "image/png": "[encoded data removed]",
      "text/plain": [
       "<matplotlib.figure.Figure at 0x1150c94d0>"
      ]
     },
     "metadata": {},
     "output_type": "display_data"
    },
    {
     "data": {
      "image/png": "[encoded data removed]",
      "text/plain": [
       "<matplotlib.figure.Figure at 0x119d58e10>"
      ]
     },
     "metadata": {},
     "output_type": "display_data"
    },
    {
     "data": {
      "image/png": "[encoded data removed]",
      "text/plain": [
       "<matplotlib.figure.Figure at 0x11a088c90>"
      ]
     },
     "metadata": {},
     "output_type": "display_data"
    },
    {
     "data": {
      "image/png": "[encoded data removed]",
      "text/plain": [
       "<matplotlib.figure.Figure at 0x11a1e8d90>"
      ]
     },
     "metadata": {},
     "output_type": "display_data"
    },
    {
     "data": {
      "image/png": "[encoded data removed]",
      "text/plain": [
       "<matplotlib.figure.Figure at 0x11a60cd10>"
      ]
     },
     "metadata": {},
     "output_type": "display_data"
    }
   ],
   "source": [
    "for x in final_df.columns[0:5]:\n",
    "    plot_graphs(final_df[x], y)"
   ]
  },
  {
   "cell_type": "code",
   "execution_count": 34,
   "metadata": {
    "collapsed": false
   },
   "outputs": [
    {
     "data": {
      "text/plain": [
       "<bound method DataFrame.corr of        capital-gain  is_male  Adm-clerical  Armed-Forces  Craft-repair  \\\n",
       "0              2174        1           1.0           0.0           0.0   \n",
       "1                 0        1           0.0           0.0           0.0   \n",
       "2                 0        1           0.0           0.0           0.0   \n",
       "3                 0        1           0.0           0.0           0.0   \n",
       "4                 0        0           0.0           0.0           0.0   \n",
       "5                 0        0           0.0           0.0           0.0   \n",
       "6                 0        0           0.0           0.0           0.0   \n",
       "7                 0        1           0.0           0.0           0.0   \n",
       "8             14084        0           0.0           0.0           0.0   \n",
       "9              5178        1           0.0           0.0           0.0   \n",
       "10                0        1           0.0           0.0           0.0   \n",
       "11                0        1           0.0           0.0           0.0   \n",
       "12                0        0           1.0           0.0           0.0   \n",
       "13                0        1           0.0           0.0           0.0   \n",
       "14                0        1           0.0           0.0           1.0   \n",
       "15                0        1           0.0           0.0           0.0   \n",
       "16                0        1           0.0           0.0           0.0   \n",
       "17                0        1           0.0           0.0           0.0   \n",
       "18                0        1           0.0           0.0           0.0   \n",
       "19                0        0           0.0           0.0           0.0   \n",
       "20                0        1           0.0           0.0           0.0   \n",
       "21                0        0           0.0           0.0           0.0   \n",
       "22                0        1           0.0           0.0           0.0   \n",
       "23                0        1           0.0           0.0           0.0   \n",
       "24                0        0           0.0           0.0           0.0   \n",
       "25                0        1           0.0           0.0           0.0   \n",
       "26                0        1           0.0           0.0           1.0   \n",
       "27                0        1           0.0           0.0           0.0   \n",
       "28                0        1           0.0           0.0           0.0   \n",
       "29                0        1           0.0           0.0           1.0   \n",
       "...             ...      ...           ...           ...           ...   \n",
       "48812          2936        1           0.0           0.0           0.0   \n",
       "48813          7688        1           0.0           0.0           0.0   \n",
       "48814             0        0           0.0           0.0           0.0   \n",
       "48815             0        1           0.0           0.0           0.0   \n",
       "48816             0        1           0.0           0.0           0.0   \n",
       "48817             0        1           0.0           0.0           0.0   \n",
       "48818             0        0           0.0           0.0           0.0   \n",
       "48819             0        1           0.0           0.0           0.0   \n",
       "48820             0        0           0.0           0.0           0.0   \n",
       "48821             0        0           0.0           0.0           0.0   \n",
       "48822         15024        1           0.0           0.0           0.0   \n",
       "48823             0        1           0.0           0.0           1.0   \n",
       "48824             0        1           0.0           0.0           1.0   \n",
       "48825             0        1           0.0           0.0           0.0   \n",
       "48826             0        0           0.0           0.0           0.0   \n",
       "48827             0        0           0.0           0.0           0.0   \n",
       "48828             0        0           1.0           0.0           0.0   \n",
       "48829             0        1           0.0           0.0           0.0   \n",
       "48830             0        1           0.0           0.0           0.0   \n",
       "48831             0        1           1.0           0.0           0.0   \n",
       "48832             0        1           0.0           0.0           0.0   \n",
       "48833             0        1           0.0           0.0           1.0   \n",
       "48834             0        0           0.0           0.0           0.0   \n",
       "48835             0        1           0.0           0.0           0.0   \n",
       "48836             0        1           0.0           0.0           0.0   \n",
       "48837             0        0           0.0           0.0           0.0   \n",
       "48838             0        1           0.0           0.0           0.0   \n",
       "48839             0        1           0.0           0.0           0.0   \n",
       "48840          5455        1           1.0           0.0           0.0   \n",
       "48841             0        1           0.0           0.0           0.0   \n",
       "\n",
       "       Exec-managerial  Farming-fishing  Handlers-cleaners  Machine-op-inspct  \\\n",
       "0                  0.0              0.0                0.0                0.0   \n",
       "1                  1.0              0.0                0.0                0.0   \n",
       "2                  0.0              0.0                1.0                0.0   \n",
       "3                  0.0              0.0                1.0                0.0   \n",
       "4                  0.0              0.0                0.0                0.0   \n",
       "5                  1.0              0.0                0.0                0.0   \n",
       "6                  0.0              0.0                0.0                0.0   \n",
       "7                  1.0              0.0                0.0                0.0   \n",
       "8                  0.0              0.0                0.0                0.0   \n",
       "9                  1.0              0.0                0.0                0.0   \n",
       "10                 1.0              0.0                0.0                0.0   \n",
       "11                 0.0              0.0                0.0                0.0   \n",
       "12                 0.0              0.0                0.0                0.0   \n",
       "13                 0.0              0.0                0.0                0.0   \n",
       "14                 0.0              0.0                0.0                0.0   \n",
       "15                 0.0              0.0                0.0                0.0   \n",
       "16                 0.0              1.0                0.0                0.0   \n",
       "17                 0.0              0.0                0.0                1.0   \n",
       "18                 0.0              0.0                0.0                0.0   \n",
       "19                 1.0              0.0                0.0                0.0   \n",
       "20                 0.0              0.0                0.0                0.0   \n",
       "21                 0.0              0.0                0.0                0.0   \n",
       "22                 0.0              1.0                0.0                0.0   \n",
       "23                 0.0              0.0                0.0                0.0   \n",
       "24                 0.0              0.0                0.0                0.0   \n",
       "25                 0.0              0.0                0.0                0.0   \n",
       "26                 0.0              0.0                0.0                0.0   \n",
       "27                 0.0              0.0                0.0                0.0   \n",
       "28                 1.0              0.0                0.0                0.0   \n",
       "29                 0.0              0.0                0.0                0.0   \n",
       "...                ...              ...                ...                ...   \n",
       "48812              0.0              0.0                0.0                0.0   \n",
       "48813              0.0              0.0                0.0                0.0   \n",
       "48814              0.0              0.0                0.0                0.0   \n",
       "48815              0.0              0.0                0.0                0.0   \n",
       "48816              1.0              0.0                0.0                0.0   \n",
       "48817              0.0              0.0                0.0                1.0   \n",
       "48818              1.0              0.0                0.0                0.0   \n",
       "48819              0.0              0.0                0.0                0.0   \n",
       "48820              0.0              0.0                0.0                0.0   \n",
       "48821              0.0              0.0                0.0                0.0   \n",
       "48822              0.0              0.0                0.0                0.0   \n",
       "48823              0.0              0.0                0.0                0.0   \n",
       "48824              0.0              0.0                0.0                0.0   \n",
       "48825              0.0              1.0                0.0                0.0   \n",
       "48826              0.0              0.0                0.0                0.0   \n",
       "48827              0.0              0.0                0.0                0.0   \n",
       "48828              0.0              0.0                0.0                0.0   \n",
       "48829              0.0              0.0                0.0                0.0   \n",
       "48830              0.0              0.0                1.0                0.0   \n",
       "48831              0.0              0.0                0.0                0.0   \n",
       "48832              0.0              0.0                0.0                0.0   \n",
       "48833              0.0              0.0                0.0                0.0   \n",
       "48834              0.0              0.0                0.0                0.0   \n",
       "48835              0.0              0.0                0.0                0.0   \n",
       "48836              0.0              0.0                0.0                0.0   \n",
       "48837              0.0              0.0                0.0                0.0   \n",
       "48838              0.0              0.0                0.0                0.0   \n",
       "48839              0.0              0.0                0.0                0.0   \n",
       "48840              0.0              0.0                0.0                0.0   \n",
       "48841              1.0              0.0                0.0                0.0   \n",
       "\n",
       "       Missing Occupation      ...        Tech-support  Transport-moving  \\\n",
       "0                     0.0      ...                 0.0               0.0   \n",
       "1                     0.0      ...                 0.0               0.0   \n",
       "2                     0.0      ...                 0.0               0.0   \n",
       "3                     0.0      ...                 0.0               0.0   \n",
       "4                     0.0      ...                 0.0               0.0   \n",
       "5                     0.0      ...                 0.0               0.0   \n",
       "6                     0.0      ...                 0.0               0.0   \n",
       "7                     0.0      ...                 0.0               0.0   \n",
       "8                     0.0      ...                 0.0               0.0   \n",
       "9                     0.0      ...                 0.0               0.0   \n",
       "10                    0.0      ...                 0.0               0.0   \n",
       "11                    0.0      ...                 0.0               0.0   \n",
       "12                    0.0      ...                 0.0               0.0   \n",
       "13                    0.0      ...                 0.0               0.0   \n",
       "14                    0.0      ...                 0.0               0.0   \n",
       "15                    0.0      ...                 0.0               1.0   \n",
       "16                    0.0      ...                 0.0               0.0   \n",
       "17                    0.0      ...                 0.0               0.0   \n",
       "18                    0.0      ...                 0.0               0.0   \n",
       "19                    0.0      ...                 0.0               0.0   \n",
       "20                    0.0      ...                 0.0               0.0   \n",
       "21                    0.0      ...                 0.0               0.0   \n",
       "22                    0.0      ...                 0.0               0.0   \n",
       "23                    0.0      ...                 0.0               1.0   \n",
       "24                    0.0      ...                 1.0               0.0   \n",
       "25                    0.0      ...                 1.0               0.0   \n",
       "26                    0.0      ...                 0.0               0.0   \n",
       "27                    1.0      ...                 0.0               0.0   \n",
       "28                    0.0      ...                 0.0               0.0   \n",
       "29                    0.0      ...                 0.0               0.0   \n",
       "...                   ...      ...                 ...               ...   \n",
       "48812                 1.0      ...                 0.0               0.0   \n",
       "48813                 0.0      ...                 0.0               0.0   \n",
       "48814                 0.0      ...                 1.0               0.0   \n",
       "48815                 0.0      ...                 0.0               0.0   \n",
       "48816                 0.0      ...                 0.0               0.0   \n",
       "48817                 0.0      ...                 0.0               0.0   \n",
       "48818                 0.0      ...                 0.0               0.0   \n",
       "48819                 0.0      ...                 0.0               0.0   \n",
       "48820                 0.0      ...                 0.0               0.0   \n",
       "48821                 0.0      ...                 0.0               0.0   \n",
       "48822                 0.0      ...                 0.0               0.0   \n",
       "48823                 0.0      ...                 0.0               0.0   \n",
       "48824                 0.0      ...                 0.0               0.0   \n",
       "48825                 0.0      ...                 0.0               0.0   \n",
       "48826                 0.0      ...                 0.0               0.0   \n",
       "48827                 0.0      ...                 0.0               0.0   \n",
       "48828                 0.0      ...                 0.0               0.0   \n",
       "48829                 0.0      ...                 0.0               0.0   \n",
       "48830                 0.0      ...                 0.0               0.0   \n",
       "48831                 0.0      ...                 0.0               0.0   \n",
       "48832                 0.0      ...                 0.0               0.0   \n",
       "48833                 0.0      ...                 0.0               0.0   \n",
       "48834                 0.0      ...                 0.0               0.0   \n",
       "48835                 0.0      ...                 0.0               0.0   \n",
       "48836                 0.0      ...                 0.0               0.0   \n",
       "48837                 0.0      ...                 0.0               0.0   \n",
       "48838                 1.0      ...                 0.0               0.0   \n",
       "48839                 0.0      ...                 0.0               0.0   \n",
       "48840                 0.0      ...                 0.0               0.0   \n",
       "48841                 0.0      ...                 0.0               0.0   \n",
       "\n",
       "       goverment  no_job  private  alt-education  college  grad_school  \\\n",
       "0            1.0     0.0      0.0            0.0      1.0          0.0   \n",
       "1            0.0     1.0      0.0            0.0      1.0          0.0   \n",
       "2            0.0     0.0      1.0            0.0      0.0          0.0   \n",
       "3            0.0     0.0      1.0            0.0      0.0          0.0   \n",
       "4            0.0     0.0      1.0            0.0      1.0          0.0   \n",
       "5            0.0     0.0      1.0            0.0      0.0          1.0   \n",
       "6            0.0     0.0      1.0            0.0      0.0          0.0   \n",
       "7            0.0     1.0      0.0            0.0      0.0          0.0   \n",
       "8            0.0     0.0      1.0            0.0      0.0          1.0   \n",
       "9            0.0     0.0      1.0            0.0      1.0          0.0   \n",
       "10           0.0     0.0      1.0            0.0      1.0          0.0   \n",
       "11           1.0     0.0      0.0            0.0      1.0          0.0   \n",
       "12           0.0     0.0      1.0            0.0      1.0          0.0   \n",
       "13           0.0     0.0      1.0            1.0      0.0          0.0   \n",
       "14           0.0     0.0      1.0            1.0      0.0          0.0   \n",
       "15           0.0     0.0      1.0            0.0      0.0          0.0   \n",
       "16           0.0     1.0      0.0            0.0      0.0          0.0   \n",
       "17           0.0     0.0      1.0            0.0      0.0          0.0   \n",
       "18           0.0     0.0      1.0            0.0      0.0          0.0   \n",
       "19           0.0     1.0      0.0            0.0      0.0          1.0   \n",
       "20           0.0     0.0      1.0            0.0      0.0          1.0   \n",
       "21           0.0     0.0      1.0            0.0      0.0          0.0   \n",
       "22           1.0     0.0      0.0            0.0      0.0          0.0   \n",
       "23           0.0     0.0      1.0            0.0      0.0          0.0   \n",
       "24           0.0     0.0      1.0            0.0      0.0          0.0   \n",
       "25           1.0     0.0      0.0            0.0      1.0          0.0   \n",
       "26           0.0     0.0      1.0            0.0      0.0          0.0   \n",
       "27           0.0     1.0      0.0            0.0      1.0          0.0   \n",
       "28           0.0     0.0      1.0            0.0      0.0          0.0   \n",
       "29           0.0     0.0      1.0            0.0      0.0          0.0   \n",
       "...          ...     ...      ...            ...      ...          ...   \n",
       "48812        0.0     1.0      0.0            1.0      0.0          0.0   \n",
       "48813        0.0     0.0      1.0            1.0      0.0          0.0   \n",
       "48814        0.0     0.0      1.0            0.0      1.0          0.0   \n",
       "48815        0.0     0.0      1.0            0.0      0.0          1.0   \n",
       "48816        1.0     0.0      0.0            0.0      0.0          1.0   \n",
       "48817        0.0     0.0      1.0            0.0      0.0          0.0   \n",
       "48818        0.0     1.0      0.0            0.0      1.0          0.0   \n",
       "48819        0.0     0.0      1.0            0.0      1.0          0.0   \n",
       "48820        0.0     0.0      1.0            0.0      0.0          0.0   \n",
       "48821        0.0     0.0      1.0            0.0      1.0          0.0   \n",
       "48822        0.0     0.0      1.0            1.0      0.0          0.0   \n",
       "48823        0.0     0.0      1.0            0.0      0.0          0.0   \n",
       "48824        0.0     0.0      1.0            0.0      1.0          0.0   \n",
       "48825        0.0     1.0      0.0            0.0      0.0          0.0   \n",
       "48826        1.0     0.0      0.0            0.0      0.0          1.0   \n",
       "48827        0.0     0.0      1.0            0.0      0.0          0.0   \n",
       "48828        0.0     0.0      1.0            1.0      0.0          0.0   \n",
       "48829        0.0     0.0      1.0            1.0      0.0          0.0   \n",
       "48830        0.0     0.0      1.0            0.0      0.0          0.0   \n",
       "48831        0.0     0.0      1.0            0.0      0.0          0.0   \n",
       "48832        0.0     0.0      1.0            0.0      0.0          0.0   \n",
       "48833        0.0     0.0      1.0            0.0      0.0          0.0   \n",
       "48834        0.0     0.0      1.0            0.0      0.0          0.0   \n",
       "48835        1.0     0.0      0.0            0.0      0.0          1.0   \n",
       "48836        0.0     0.0      1.0            0.0      1.0          0.0   \n",
       "48837        0.0     0.0      1.0            0.0      1.0          0.0   \n",
       "48838        0.0     1.0      0.0            0.0      0.0          0.0   \n",
       "48839        0.0     0.0      1.0            0.0      1.0          0.0   \n",
       "48840        0.0     0.0      1.0            0.0      1.0          0.0   \n",
       "48841        0.0     1.0      0.0            0.0      1.0          0.0   \n",
       "\n",
       "       hs_grad  lower_than_hs  \n",
       "0          0.0            0.0  \n",
       "1          0.0            0.0  \n",
       "2          1.0            0.0  \n",
       "3          0.0            1.0  \n",
       "4          0.0            0.0  \n",
       "5          0.0            0.0  \n",
       "6          0.0            1.0  \n",
       "7          1.0            0.0  \n",
       "8          0.0            0.0  \n",
       "9          0.0            0.0  \n",
       "10         0.0            0.0  \n",
       "11         0.0            0.0  \n",
       "12         0.0            0.0  \n",
       "13         0.0            0.0  \n",
       "14         0.0            0.0  \n",
       "15         0.0            1.0  \n",
       "16         1.0            0.0  \n",
       "17         1.0            0.0  \n",
       "18         0.0            1.0  \n",
       "19         0.0            0.0  \n",
       "20         0.0            0.0  \n",
       "21         1.0            0.0  \n",
       "22         0.0            1.0  \n",
       "23         0.0            1.0  \n",
       "24         1.0            0.0  \n",
       "25         0.0            0.0  \n",
       "26         1.0            0.0  \n",
       "27         0.0            0.0  \n",
       "28         1.0            0.0  \n",
       "29         1.0            0.0  \n",
       "...        ...            ...  \n",
       "48812      0.0            0.0  \n",
       "48813      0.0            0.0  \n",
       "48814      0.0            0.0  \n",
       "48815      0.0            0.0  \n",
       "48816      0.0            0.0  \n",
       "48817      1.0            0.0  \n",
       "48818      0.0            0.0  \n",
       "48819      0.0            0.0  \n",
       "48820      1.0            0.0  \n",
       "48821      0.0            0.0  \n",
       "48822      0.0            0.0  \n",
       "48823      1.0            0.0  \n",
       "48824      0.0            0.0  \n",
       "48825      1.0            0.0  \n",
       "48826      0.0            0.0  \n",
       "48827      1.0            0.0  \n",
       "48828      0.0            0.0  \n",
       "48829      0.0            0.0  \n",
       "48830      1.0            0.0  \n",
       "48831      1.0            0.0  \n",
       "48832      1.0            0.0  \n",
       "48833      1.0            0.0  \n",
       "48834      1.0            0.0  \n",
       "48835      0.0            0.0  \n",
       "48836      0.0            0.0  \n",
       "48837      0.0            0.0  \n",
       "48838      1.0            0.0  \n",
       "48839      0.0            0.0  \n",
       "48840      0.0            0.0  \n",
       "48841      0.0            0.0  \n",
       "\n",
       "[48842 rows x 25 columns]>"
      ]
     },
     "execution_count": 34,
     "metadata": {},
     "output_type": "execute_result"
    }
   ],
   "source": [
    "final_df.corr"
   ]
  },
  {
   "cell_type": "code",
   "execution_count": 35,
   "metadata": {
    "collapsed": true
   },
   "outputs": [],
   "source": [
    "import seaborn as sns"
   ]
  },
  {
   "cell_type": "code",
   "execution_count": 36,
   "metadata": {
    "collapsed": false
   },
   "outputs": [
    {
     "data": {
      "text/plain": [
       "<matplotlib.axes._subplots.AxesSubplot at 0x11bd33310>"
      ]
     },
     "execution_count": 36,
     "metadata": {},
     "output_type": "execute_result"
    },
    {
     "data": {
      "image/png": "[encoded data removed]",
      "text/plain": [
       "<matplotlib.figure.Figure at 0x11bce5bd0>"
      ]
     },
     "metadata": {},
     "output_type": "display_data"
    }
   ],
   "source": [
    "sns.heatmap(final_df.corr())"
   ]
  },
  {
   "cell_type": "code",
   "execution_count": 39,
   "metadata": {
    "collapsed": false
   },
   "outputs": [
    {
     "data": {
      "text/plain": [
       "(48842, 25)"
      ]
     },
     "execution_count": 39,
     "metadata": {},
     "output_type": "execute_result"
    }
   ],
   "source": [
    "from sklearn.preprocessing import StandardScaler\n",
    "\n",
    "x = StandardScaler().fit_transform(final_df)\n",
    "x.shape"
   ]
  },
  {
   "cell_type": "code",
   "execution_count": 40,
   "metadata": {
    "collapsed": true
   },
   "outputs": [],
   "source": [
    "from sklearn.cluster import KMeans\n",
    "\n",
    "kmeans = KMeans(2)"
   ]
  },
  {
   "cell_type": "code",
   "execution_count": 41,
   "metadata": {
    "collapsed": true
   },
   "outputs": [],
   "source": [
    "kmeans.fit(x)\n",
    "predictions = kmeans.predict(x)"
   ]
  },
  {
   "cell_type": "code",
   "execution_count": 42,
   "metadata": {
    "collapsed": true
   },
   "outputs": [],
   "source": [
    "final_df = final_df.join(pd.DataFrame(predictions, columns=['two_classes']))"
   ]
  },
  {
   "cell_type": "code",
   "execution_count": 48,
   "metadata": {
    "collapsed": false
   },
   "outputs": [
    {
     "data": {
      "text/html": [
       "<div>\n",
       "<table border=\"1\" class=\"dataframe\">\n",
       "  <thead>\n",
       "    <tr style=\"text-align: right;\">\n",
       "      <th></th>\n",
       "      <th>alt-education</th>\n",
       "      <th>college</th>\n",
       "      <th>hs_grad</th>\n",
       "      <th>lower_than_hs</th>\n",
       "    </tr>\n",
       "    <tr>\n",
       "      <th>two_classes</th>\n",
       "      <th></th>\n",
       "      <th></th>\n",
       "      <th></th>\n",
       "      <th></th>\n",
       "    </tr>\n",
       "  </thead>\n",
       "  <tbody>\n",
       "    <tr>\n",
       "      <th>0</th>\n",
       "      <td>33906</td>\n",
       "      <td>33906</td>\n",
       "      <td>33906</td>\n",
       "      <td>33906</td>\n",
       "    </tr>\n",
       "    <tr>\n",
       "      <th>1</th>\n",
       "      <td>14936</td>\n",
       "      <td>14936</td>\n",
       "      <td>14936</td>\n",
       "      <td>14936</td>\n",
       "    </tr>\n",
       "  </tbody>\n",
       "</table>\n",
       "</div>"
      ],
      "text/plain": [
       "             alt-education  college  hs_grad  lower_than_hs\n",
       "two_classes                                                \n",
       "0                    33906    33906    33906          33906\n",
       "1                    14936    14936    14936          14936"
      ]
     },
     "execution_count": 48,
     "metadata": {},
     "output_type": "execute_result"
    }
   ],
   "source": [
    "final_df.groupby('two_classes')[['alt-education', 'college', 'hs_grad','lower_than_hs']].count()"
   ]
  },
  {
   "cell_type": "code",
   "execution_count": 50,
   "metadata": {
    "collapsed": false
   },
   "outputs": [
    {
     "data": {
      "text/html": [
       "<div>\n",
       "<table border=\"1\" class=\"dataframe\">\n",
       "  <thead>\n",
       "    <tr style=\"text-align: right;\">\n",
       "      <th></th>\n",
       "      <th>income</th>\n",
       "      <th>two_classes</th>\n",
       "    </tr>\n",
       "  </thead>\n",
       "  <tbody>\n",
       "    <tr>\n",
       "      <th>income</th>\n",
       "      <td>1.000000</td>\n",
       "      <td>0.050878</td>\n",
       "    </tr>\n",
       "    <tr>\n",
       "      <th>two_classes</th>\n",
       "      <td>0.050878</td>\n",
       "      <td>1.000000</td>\n",
       "    </tr>\n",
       "  </tbody>\n",
       "</table>\n",
       "</div>"
      ],
      "text/plain": [
       "               income  two_classes\n",
       "income       1.000000     0.050878\n",
       "two_classes  0.050878     1.000000"
      ]
     },
     "execution_count": 50,
     "metadata": {},
     "output_type": "execute_result"
    }
   ],
   "source": [
    "dataframe_of_classes = pd.DataFrame(y).join(final_df['two_classes'])\n",
    "dataframe_of_classes.corr()"
   ]
  },
  {
   "cell_type": "code",
   "execution_count": 51,
   "metadata": {
    "collapsed": false
   },
   "outputs": [
    {
     "data": {
      "text/html": [
       "<div>\n",
       "<table border=\"1\" class=\"dataframe\">\n",
       "  <thead>\n",
       "    <tr style=\"text-align: right;\">\n",
       "      <th></th>\n",
       "      <th>income</th>\n",
       "      <th>two_classes</th>\n",
       "    </tr>\n",
       "  </thead>\n",
       "  <tbody>\n",
       "    <tr>\n",
       "      <th>count</th>\n",
       "      <td>48842.000000</td>\n",
       "      <td>48842.000000</td>\n",
       "    </tr>\n",
       "    <tr>\n",
       "      <th>mean</th>\n",
       "      <td>0.493878</td>\n",
       "      <td>0.305802</td>\n",
       "    </tr>\n",
       "    <tr>\n",
       "      <th>std</th>\n",
       "      <td>0.499968</td>\n",
       "      <td>0.460828</td>\n",
       "    </tr>\n",
       "    <tr>\n",
       "      <th>min</th>\n",
       "      <td>0.000000</td>\n",
       "      <td>0.000000</td>\n",
       "    </tr>\n",
       "    <tr>\n",
       "      <th>25%</th>\n",
       "      <td>0.000000</td>\n",
       "      <td>0.000000</td>\n",
       "    </tr>\n",
       "    <tr>\n",
       "      <th>50%</th>\n",
       "      <td>0.000000</td>\n",
       "      <td>0.000000</td>\n",
       "    </tr>\n",
       "    <tr>\n",
       "      <th>75%</th>\n",
       "      <td>1.000000</td>\n",
       "      <td>1.000000</td>\n",
       "    </tr>\n",
       "    <tr>\n",
       "      <th>max</th>\n",
       "      <td>1.000000</td>\n",
       "      <td>1.000000</td>\n",
       "    </tr>\n",
       "  </tbody>\n",
       "</table>\n",
       "</div>"
      ],
      "text/plain": [
       "             income   two_classes\n",
       "count  48842.000000  48842.000000\n",
       "mean       0.493878      0.305802\n",
       "std        0.499968      0.460828\n",
       "min        0.000000      0.000000\n",
       "25%        0.000000      0.000000\n",
       "50%        0.000000      0.000000\n",
       "75%        1.000000      1.000000\n",
       "max        1.000000      1.000000"
      ]
     },
     "execution_count": 51,
     "metadata": {},
     "output_type": "execute_result"
    }
   ],
   "source": [
    "dataframe_of_classes.describe()"
   ]
  },
  {
   "cell_type": "markdown",
   "metadata": {},
   "source": [
    "shows income category is almost nearly perfectly split\n"
   ]
  },
  {
   "cell_type": "code",
   "execution_count": 52,
   "metadata": {
    "collapsed": true
   },
   "outputs": [],
   "source": [
    "from sklearn.metrics import silhouette_score"
   ]
  },
  {
   "cell_type": "code",
   "execution_count": 53,
   "metadata": {
    "collapsed": true
   },
   "outputs": [],
   "source": [
    "silhouette_score?"
   ]
  },
  {
   "cell_type": "code",
   "execution_count": 54,
   "metadata": {
    "collapsed": true
   },
   "outputs": [],
   "source": []
  },
  {
   "cell_type": "code",
   "execution_count": null,
   "metadata": {
    "collapsed": true
   },
   "outputs": [],
   "source": []
  }
 ],
 "metadata": {
  "kernelspec": {
   "display_name": "Python [Root]",
   "language": "python",
   "name": "Python [Root]"
  },
  "language_info": {
   "codemirror_mode": {
    "name": "ipython",
    "version": 2
   },
   "file_extension": ".py",
   "mimetype": "text/x-python",
   "name": "python",
   "nbconvert_exporter": "python",
   "pygments_lexer": "ipython2",
   "version": "2.7.12"
  }
 },
 "nbformat": 4,
 "nbformat_minor": 0
}
