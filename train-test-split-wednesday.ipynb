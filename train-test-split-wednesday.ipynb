{
 "cells": [
  {
   "cell_type": "code",
   "execution_count": 3,
   "metadata": {
    "collapsed": false
   },
   "outputs": [
    {
     "ename": "AttributeError",
     "evalue": "head",
     "output_type": "error",
     "traceback": [
      "\u001b[0;31m---------------------------------------------------------------------------\u001b[0m",
      "\u001b[0;31mAttributeError\u001b[0m                            Traceback (most recent call last)",
      "\u001b[0;32m<ipython-input-3-ec4e0925f09d>\u001b[0m in \u001b[0;36m<module>\u001b[0;34m()\u001b[0m\n\u001b[1;32m     13\u001b[0m \u001b[0;34m\u001b[0m\u001b[0m\n\u001b[1;32m     14\u001b[0m \u001b[0mboston\u001b[0m \u001b[0;34m=\u001b[0m \u001b[0mdatasets\u001b[0m\u001b[0;34m.\u001b[0m\u001b[0mload_boston\u001b[0m\u001b[0;34m(\u001b[0m\u001b[0;34m)\u001b[0m\u001b[0;34m\u001b[0m\u001b[0m\n\u001b[0;32m---> 15\u001b[0;31m \u001b[0mboston\u001b[0m\u001b[0;34m.\u001b[0m\u001b[0mhead\u001b[0m\u001b[0;34m(\u001b[0m\u001b[0;34m)\u001b[0m\u001b[0;34m\u001b[0m\u001b[0m\n\u001b[0m",
      "\u001b[0;32m/Users/Driz/anaconda2/lib/python2.7/site-packages/sklearn/datasets/base.pyc\u001b[0m in \u001b[0;36m__getattr__\u001b[0;34m(self, key)\u001b[0m\n\u001b[1;32m     56\u001b[0m             \u001b[0;32mreturn\u001b[0m \u001b[0mself\u001b[0m\u001b[0;34m[\u001b[0m\u001b[0mkey\u001b[0m\u001b[0;34m]\u001b[0m\u001b[0;34m\u001b[0m\u001b[0m\n\u001b[1;32m     57\u001b[0m         \u001b[0;32mexcept\u001b[0m \u001b[0mKeyError\u001b[0m\u001b[0;34m:\u001b[0m\u001b[0;34m\u001b[0m\u001b[0m\n\u001b[0;32m---> 58\u001b[0;31m             \u001b[0;32mraise\u001b[0m \u001b[0mAttributeError\u001b[0m\u001b[0;34m(\u001b[0m\u001b[0mkey\u001b[0m\u001b[0;34m)\u001b[0m\u001b[0;34m\u001b[0m\u001b[0m\n\u001b[0m\u001b[1;32m     59\u001b[0m \u001b[0;34m\u001b[0m\u001b[0m\n\u001b[1;32m     60\u001b[0m     \u001b[0;32mdef\u001b[0m \u001b[0m__setstate__\u001b[0m\u001b[0;34m(\u001b[0m\u001b[0mself\u001b[0m\u001b[0;34m,\u001b[0m \u001b[0mstate\u001b[0m\u001b[0;34m)\u001b[0m\u001b[0;34m:\u001b[0m\u001b[0;34m\u001b[0m\u001b[0m\n",
      "\u001b[0;31mAttributeError\u001b[0m: head"
     ]
    }
   ],
   "source": [
    "% matplotlib inline\n",
    "\n",
    "from matplotlib import pyplot as plt\n",
    "# Make the plots bigger\n",
    "plt.rcParams['figure.figsize'] = 10, 10\n",
    "\n",
    "import numpy as np\n",
    "import pandas as pd\n",
    "from scipy import stats\n",
    "import seaborn as sns\n",
    "from sklearn import datasets, linear_model\n",
    "from sklearn.cross_validation import train_test_split\n",
    "\n",
    "boston = datasets.load_boston()\n"
   ]
  },
  {
   "cell_type": "code",
   "execution_count": 5,
   "metadata": {
    "collapsed": true
   },
   "outputs": [],
   "source": [
    "boston = datasets.load_boston()\n",
    "df = pd.DataFrame(boston.data, columns=boston.feature_names)"
   ]
  },
  {
   "cell_type": "code",
   "execution_count": 7,
   "metadata": {
    "collapsed": false
   },
   "outputs": [
    {
     "data": {
      "text/html": [
       "<div>\n",
       "<table border=\"1\" class=\"dataframe\">\n",
       "  <thead>\n",
       "    <tr style=\"text-align: right;\">\n",
       "      <th></th>\n",
       "      <th>CRIM</th>\n",
       "      <th>ZN</th>\n",
       "      <th>INDUS</th>\n",
       "      <th>CHAS</th>\n",
       "      <th>NOX</th>\n",
       "      <th>RM</th>\n",
       "      <th>AGE</th>\n",
       "      <th>DIS</th>\n",
       "      <th>RAD</th>\n",
       "      <th>TAX</th>\n",
       "      <th>PTRATIO</th>\n",
       "      <th>B</th>\n",
       "      <th>LSTAT</th>\n",
       "    </tr>\n",
       "  </thead>\n",
       "  <tbody>\n",
       "    <tr>\n",
       "      <th>0</th>\n",
       "      <td>0.00632</td>\n",
       "      <td>18.0</td>\n",
       "      <td>2.31</td>\n",
       "      <td>0.0</td>\n",
       "      <td>0.538</td>\n",
       "      <td>6.575</td>\n",
       "      <td>65.2</td>\n",
       "      <td>4.0900</td>\n",
       "      <td>1.0</td>\n",
       "      <td>296.0</td>\n",
       "      <td>15.3</td>\n",
       "      <td>396.90</td>\n",
       "      <td>4.98</td>\n",
       "    </tr>\n",
       "    <tr>\n",
       "      <th>1</th>\n",
       "      <td>0.02731</td>\n",
       "      <td>0.0</td>\n",
       "      <td>7.07</td>\n",
       "      <td>0.0</td>\n",
       "      <td>0.469</td>\n",
       "      <td>6.421</td>\n",
       "      <td>78.9</td>\n",
       "      <td>4.9671</td>\n",
       "      <td>2.0</td>\n",
       "      <td>242.0</td>\n",
       "      <td>17.8</td>\n",
       "      <td>396.90</td>\n",
       "      <td>9.14</td>\n",
       "    </tr>\n",
       "    <tr>\n",
       "      <th>2</th>\n",
       "      <td>0.02729</td>\n",
       "      <td>0.0</td>\n",
       "      <td>7.07</td>\n",
       "      <td>0.0</td>\n",
       "      <td>0.469</td>\n",
       "      <td>7.185</td>\n",
       "      <td>61.1</td>\n",
       "      <td>4.9671</td>\n",
       "      <td>2.0</td>\n",
       "      <td>242.0</td>\n",
       "      <td>17.8</td>\n",
       "      <td>392.83</td>\n",
       "      <td>4.03</td>\n",
       "    </tr>\n",
       "    <tr>\n",
       "      <th>3</th>\n",
       "      <td>0.03237</td>\n",
       "      <td>0.0</td>\n",
       "      <td>2.18</td>\n",
       "      <td>0.0</td>\n",
       "      <td>0.458</td>\n",
       "      <td>6.998</td>\n",
       "      <td>45.8</td>\n",
       "      <td>6.0622</td>\n",
       "      <td>3.0</td>\n",
       "      <td>222.0</td>\n",
       "      <td>18.7</td>\n",
       "      <td>394.63</td>\n",
       "      <td>2.94</td>\n",
       "    </tr>\n",
       "    <tr>\n",
       "      <th>4</th>\n",
       "      <td>0.06905</td>\n",
       "      <td>0.0</td>\n",
       "      <td>2.18</td>\n",
       "      <td>0.0</td>\n",
       "      <td>0.458</td>\n",
       "      <td>7.147</td>\n",
       "      <td>54.2</td>\n",
       "      <td>6.0622</td>\n",
       "      <td>3.0</td>\n",
       "      <td>222.0</td>\n",
       "      <td>18.7</td>\n",
       "      <td>396.90</td>\n",
       "      <td>5.33</td>\n",
       "    </tr>\n",
       "  </tbody>\n",
       "</table>\n",
       "</div>"
      ],
      "text/plain": [
       "      CRIM    ZN  INDUS  CHAS    NOX     RM   AGE     DIS  RAD    TAX  \\\n",
       "0  0.00632  18.0   2.31   0.0  0.538  6.575  65.2  4.0900  1.0  296.0   \n",
       "1  0.02731   0.0   7.07   0.0  0.469  6.421  78.9  4.9671  2.0  242.0   \n",
       "2  0.02729   0.0   7.07   0.0  0.469  7.185  61.1  4.9671  2.0  242.0   \n",
       "3  0.03237   0.0   2.18   0.0  0.458  6.998  45.8  6.0622  3.0  222.0   \n",
       "4  0.06905   0.0   2.18   0.0  0.458  7.147  54.2  6.0622  3.0  222.0   \n",
       "\n",
       "   PTRATIO       B  LSTAT  \n",
       "0     15.3  396.90   4.98  \n",
       "1     17.8  396.90   9.14  \n",
       "2     17.8  392.83   4.03  \n",
       "3     18.7  394.63   2.94  \n",
       "4     18.7  396.90   5.33  "
      ]
     },
     "execution_count": 7,
     "metadata": {},
     "output_type": "execute_result"
    }
   ],
   "source": [
    "df.head()"
   ]
  },
  {
   "cell_type": "code",
   "execution_count": 8,
   "metadata": {
    "collapsed": false
   },
   "outputs": [
    {
     "data": {
      "text/plain": [
       "CRIM       506\n",
       "ZN         506\n",
       "INDUS      506\n",
       "CHAS       506\n",
       "NOX        506\n",
       "RM         506\n",
       "AGE        506\n",
       "DIS        506\n",
       "RAD        506\n",
       "TAX        506\n",
       "PTRATIO    506\n",
       "B          506\n",
       "LSTAT      506\n",
       "dtype: int64"
      ]
     },
     "execution_count": 8,
     "metadata": {},
     "output_type": "execute_result"
    }
   ],
   "source": [
    "df.count()"
   ]
  },
  {
   "cell_type": "code",
   "execution_count": 10,
   "metadata": {
    "collapsed": true
   },
   "outputs": [],
   "source": [
    "y = boston.target"
   ]
  },
  {
   "cell_type": "code",
   "execution_count": 11,
   "metadata": {
    "collapsed": false
   },
   "outputs": [
    {
     "name": "stdout",
     "output_type": "stream",
     "text": [
      "(303, 13) (303,)\n",
      "(203, 13) (203,)\n"
     ]
    }
   ],
   "source": [
    "#test_size=0.4 means a 40:60 split\n",
    "#adjust that to change split ratio of data testing\n",
    "X_train, X_test, y_train, y_test = train_test_split(df, y, test_size=0.4)\n",
    "print X_train.shape, y_train.shape\n",
    "print X_test.shape, y_test.shape"
   ]
  },
  {
   "cell_type": "code",
   "execution_count": 12,
   "metadata": {
    "collapsed": true
   },
   "outputs": [],
   "source": [
    "lm = linear_model.LinearRegression()"
   ]
  },
  {
   "cell_type": "code",
   "execution_count": 13,
   "metadata": {
    "collapsed": false
   },
   "outputs": [
    {
     "data": {
      "text/plain": [
       "LinearRegression(copy_X=True, fit_intercept=True, n_jobs=1, normalize=False)"
      ]
     },
     "execution_count": 13,
     "metadata": {},
     "output_type": "execute_result"
    }
   ],
   "source": [
    "lm"
   ]
  },
  {
   "cell_type": "code",
   "execution_count": 14,
   "metadata": {
    "collapsed": true
   },
   "outputs": [],
   "source": [
    "model = lm.fit(X_train, y_train)"
   ]
  },
  {
   "cell_type": "code",
   "execution_count": 15,
   "metadata": {
    "collapsed": false
   },
   "outputs": [
    {
     "data": {
      "text/plain": [
       "LinearRegression(copy_X=True, fit_intercept=True, n_jobs=1, normalize=False)"
      ]
     },
     "execution_count": 15,
     "metadata": {},
     "output_type": "execute_result"
    }
   ],
   "source": [
    "model"
   ]
  },
  {
   "cell_type": "code",
   "execution_count": 16,
   "metadata": {
    "collapsed": false
   },
   "outputs": [
    {
     "data": {
      "text/plain": [
       "array([ 33.23152018,  22.33324589,  20.35702156,  21.31133993,\n",
       "        16.72145661,  13.36014578,  20.48244734,  15.89977003,\n",
       "        17.1425556 ,  33.48965781,  25.23317814,  20.58985351,\n",
       "        23.15541925,  13.44076328,  24.81390267,  13.32855116,\n",
       "        24.25487848,  18.56734116,  15.15587417,  33.51992683,\n",
       "        26.81290327,  14.79641932,  29.97703423,  34.20287718,\n",
       "        26.42205415,  14.04127688,  20.5678379 ,  23.70601073,\n",
       "        33.07530953,  17.49827515,  17.78886313,  21.64155779,\n",
       "        20.18897283,  11.12524342,  21.71006909,   9.42704767,\n",
       "        20.81749266,  24.69710283,  39.99056886,  32.07582366,\n",
       "        11.95268907,  20.78701974,  20.81765852,  22.40052986,\n",
       "        18.11521971,  30.67033206,  24.1711301 ,  25.26149664,\n",
       "        27.79894737,  37.43702503,  25.08899893,  15.48320867,\n",
       "        14.42720353,  18.75333352,  23.35080682,  21.60225467,\n",
       "        19.67350495,  18.58620515,  16.9493995 ,  18.22394799,\n",
       "        26.8055512 ,  20.01590619,  23.01095818,  15.35430123,\n",
       "        22.4500834 ,   6.52110958,   3.6673094 ,  27.18304653,\n",
       "        27.90903671,  10.37197181,  14.2337529 ,  29.0996301 ,\n",
       "        25.00707715,  18.33862486,  23.06800718,  32.14343646,\n",
       "        30.00421716,  22.81721576,  13.2538698 ,  33.41023652,\n",
       "        18.3732047 ,  21.74281415,  28.25333248,  17.6260429 ,\n",
       "        17.79173001,  19.34283977,  35.91259514,  24.45666902,\n",
       "        13.64469281,  39.17909036,  21.85685284,  22.08766453,\n",
       "        24.61447284,  23.39587867,  17.04236873,  11.18670926,\n",
       "        22.48559533,  24.59979919,  31.18650996,  22.68690261,\n",
       "        15.34231204,  21.48062151,  19.65411105,  22.68586259,\n",
       "        13.4945063 ,  26.94456315,  22.78672997,   9.59406182,\n",
       "        27.94788831,  19.92277553,  32.82565149,  17.42680596,\n",
       "        26.91940889,   1.40730322,  24.36430737,  11.64949545,\n",
       "        22.46082904,  17.20581247,  22.05510106,  20.01762924,\n",
       "        20.91854575,  19.34099335,  26.52765838,  34.83623236,\n",
       "         7.58947924,  19.86645114,  28.47170233,  14.7641579 ,\n",
       "        20.6193195 ,  12.56710579,  26.07717271,  33.04693699,\n",
       "        15.79143806,  36.03379432,  20.64329928,  17.38001229,\n",
       "        24.59403639,  28.3001111 ,  20.34807128,  30.79410696,\n",
       "        23.83994025,  34.55483868,  25.31384889,  21.18923335,\n",
       "        25.829064  ,  18.68203906,  37.47898951,  24.35386317,\n",
       "        31.47005995,  19.25187865,  28.6558342 ,  24.83555348,\n",
       "        34.99563102,  36.91110384,  25.62758831,  39.89006214,\n",
       "        18.39082027,  24.17862658,  14.67375038,  19.57482883,\n",
       "        18.06010508,  27.66327975,  17.02649716,  24.94700286,\n",
       "        38.39413903,  14.12623446,  21.45630939,  20.67704899,\n",
       "        13.07162941,  23.89856639,  43.66065629,  26.78552924,\n",
       "        18.58925183,  19.18301756,  17.83786035,  27.51484176,\n",
       "        20.30268068,  38.65519143,  30.56630316,  22.64108776,\n",
       "        36.40679206,  15.75437444,  24.20888598,   5.08739098,\n",
       "         6.29198492,  20.69290608,  19.39908693,  14.81008651,\n",
       "        34.99172023,   9.59644723,  20.91017876,  14.2377376 ,\n",
       "        17.72221716,  16.4817856 ,  22.3784235 ,  29.68214999,\n",
       "        27.20362185,  27.73954753,  24.09320504,  30.02195201,\n",
       "        24.1454212 ,  21.99915477,  20.39611306])"
      ]
     },
     "execution_count": 16,
     "metadata": {},
     "output_type": "execute_result"
    }
   ],
   "source": [
    "predictions = lm.predict(X_test)\n",
    "predictions"
   ]
  },
  {
   "cell_type": "code",
   "execution_count": 17,
   "metadata": {
    "collapsed": false
   },
   "outputs": [
    {
     "name": "stdout",
     "output_type": "stream",
     "text": [
      "Score: 0.727844624993\n"
     ]
    },
    {
     "data": {
      "image/png": "[encoded data removed]",
      "text/plain": [
       "<matplotlib.figure.Figure at 0x1154662d0>"
      ]
     },
     "metadata": {},
     "output_type": "display_data"
    }
   ],
   "source": [
    "## The line / model\n",
    "plt.scatter(y_test, predictions)\n",
    "plt.xlabel(\"True Values\")\n",
    "plt.ylabel(\"Predictions\")\n",
    "\n",
    "print \"Score:\", model.score(X_test, y_test) "
   ]
  },
  {
   "cell_type": "code",
   "execution_count": 20,
   "metadata": {
    "collapsed": false
   },
   "outputs": [
    {
     "name": "stdout",
     "output_type": "stream",
     "text": [
      "Cross-validated scores: [ 0.64224005  0.61152091  0.51447066  0.78503274 -0.14367345 -0.01539034]\n"
     ]
    }
   ],
   "source": [
    "from sklearn.cross_validation import cross_val_score, cross_val_predict\n",
    "from sklearn import metrics\n",
    "\n",
    "# Perform 6-fold cross validation\n",
    "scores = cross_val_score(lm, df, y, cv=6)\n",
    "print \"Cross-validated scores:\", scores\n"
   ]
  },
  {
   "cell_type": "code",
   "execution_count": 21,
   "metadata": {
    "collapsed": false
   },
   "outputs": [
    {
     "name": "stdout",
     "output_type": "stream",
     "text": [
      "Cross-Predicted Accuracy: 0.537671767736\n"
     ]
    },
    {
     "data": {
      "image/png": "[encoded data removed]",
      "text/plain": [
       "<matplotlib.figure.Figure at 0x1182b9210>"
      ]
     },
     "metadata": {},
     "output_type": "display_data"
    }
   ],
   "source": [
    "# Make cross validated predictions\n",
    "\n",
    "predictions = cross_val_predict(model, df, y, cv=6)\n",
    "plt.scatter(y, predictions)\n",
    "accuracy = metrics.r2_score(y, predictions)\n",
    "print \"Cross-Predicted Accuracy:\", accuracy"
   ]
  },
  {
   "cell_type": "code",
   "execution_count": 23,
   "metadata": {
    "collapsed": false
   },
   "outputs": [
    {
     "data": {
      "text/plain": [
       "(506,)"
      ]
     },
     "execution_count": 23,
     "metadata": {},
     "output_type": "execute_result"
    }
   ],
   "source": [
    "predictions.shape"
   ]
  },
  {
   "cell_type": "code",
   "execution_count": 25,
   "metadata": {
    "collapsed": false
   },
   "outputs": [
    {
     "name": "stdout",
     "output_type": "stream",
     "text": [
      "(253, 13) (253,)\n",
      "(253, 13) (253,)\n"
     ]
    }
   ],
   "source": [
    "#Practice above with different splits of 50:50, 70:30, 90:10\n",
    "X_train, X_test, y_train, y_test = train_test_split(df, y, test_size=0.5)\n",
    "print X_train.shape, y_train.shape\n",
    "print X_test.shape, y_test.shape"
   ]
  },
  {
   "cell_type": "code",
   "execution_count": 29,
   "metadata": {
    "collapsed": false
   },
   "outputs": [
    {
     "data": {
      "text/plain": [
       "LinearRegression(copy_X=True, fit_intercept=True, n_jobs=1, normalize=False)"
      ]
     },
     "execution_count": 29,
     "metadata": {},
     "output_type": "execute_result"
    }
   ],
   "source": [
    "lm = linear_model.LinearRegression()\n",
    "lm"
   ]
  },
  {
   "cell_type": "code",
   "execution_count": 28,
   "metadata": {
    "collapsed": false
   },
   "outputs": [
    {
     "data": {
      "text/plain": [
       "LinearRegression(copy_X=True, fit_intercept=True, n_jobs=1, normalize=False)"
      ]
     },
     "execution_count": 28,
     "metadata": {},
     "output_type": "execute_result"
    }
   ],
   "source": [
    "model = lm.fit(X_train, y_train)\n",
    "model"
   ]
  },
  {
   "cell_type": "code",
   "execution_count": 31,
   "metadata": {
    "collapsed": false
   },
   "outputs": [
    {
     "data": {
      "text/plain": [
       "array([ 25.85156457,  20.61457848,  19.69656684,  11.3609541 ,\n",
       "        19.03719169,  18.84789118,  26.94182756,  36.64432177,\n",
       "        28.24664443,  19.13331412,  20.12166099,  30.64092208,\n",
       "        18.37517773,  28.84385726,  25.55499018,  28.61055424,\n",
       "        14.26183006,  35.93380183,  19.61027691,  24.22392629,\n",
       "        17.75645209,  17.36403412,  29.11616484,  25.5548966 ,\n",
       "        13.09311803,  13.76474298,  20.68001542,  14.49684048,\n",
       "        19.5919529 ,  20.72822351,  24.23551596,  16.64711594,\n",
       "        29.59782694,  21.27953544,  19.1666651 ,  15.30763619,\n",
       "        22.29684035,  29.78841184,  18.22726466,  21.11887717,\n",
       "        13.20486814,  15.93825909,  20.88897066,  16.50205439,\n",
       "        24.0494909 ,  17.50976257,  27.44078007,  32.97316834,\n",
       "        35.10902208,  29.87714592,  27.73905877,  13.89194396,\n",
       "        16.60680938,  20.369833  ,  18.8004686 ,  21.03056358,\n",
       "        13.59366461,  28.11213663,  22.91614543,  21.19488068,\n",
       "        20.04327916,  18.54433769,  32.20017096,  15.1573017 ,\n",
       "        20.75945902,  24.81897762,  21.4786479 ,  28.19754912,\n",
       "        18.92431983,  24.19531856,  20.44305737,  19.40289823,\n",
       "        14.06124075,  19.69134722,  14.46380362,  24.83907941,\n",
       "        27.21940728,  16.49557104,  26.21431879,  27.31361701,\n",
       "        15.588729  ,  22.34950073,  24.63723036,  28.22756911,\n",
       "        18.32406996,  28.54420929,  31.75330607,  22.65695715,\n",
       "        25.79460365,  17.12697156,  36.29510398,  42.41889701,\n",
       "        22.45187453,  15.91344757,  40.49848255,   7.40757444,\n",
       "        31.67921738,  19.28312633,  30.41305202,  20.684092  ,\n",
       "        43.16541269,  23.4112334 ,  32.43211175,  19.68803701,\n",
       "        40.19666661,  31.470925  ,  32.15768936,  15.32406967,\n",
       "        12.22327564,  24.09187753,  24.90070305,  22.19951776,\n",
       "        15.28808572,  16.91122696,  19.71319476,  22.32491174,\n",
       "        11.94057511,  28.55209645,  34.14556361,  22.70571484,\n",
       "        31.06659847,  15.83829656,  20.09582476,  34.12112547,\n",
       "        20.71003014,  10.5244649 ,  11.1477679 ,  21.90851118,\n",
       "        37.10045966,  23.1037465 ,  22.30989281,   6.55063069,\n",
       "        19.667297  ,  30.71286268,  13.38117777,   8.35910627,\n",
       "        14.43902224,  17.31440171,  22.34291833,  15.57472754,\n",
       "        15.55908045,  32.74604818,  30.81729592,  13.66416942,\n",
       "         5.78223441,  28.09280746,  24.37730143,  24.61631641,\n",
       "        25.16144293,  36.12873993,  20.37919857,  27.88564064,\n",
       "        23.61195779,  22.33001933,  18.3205544 ,  34.86638285,\n",
       "        14.01241469,  18.75876901,  29.5592177 ,  23.29342129,\n",
       "        17.53573325,  -5.0871321 ,  33.19819756,  13.71866468,\n",
       "        35.61532549,  26.99530108,  26.81212403,  19.72688317,\n",
       "        39.5380758 ,  24.31781989,  33.80227607,  19.98395638,\n",
       "        19.16937919,  12.69414133,  18.83957167,  18.88046505,\n",
       "        17.00658245,   8.82853845,  22.13668511,  23.89838746,\n",
       "        30.23323066,  21.08899708,  13.42090333,  12.61050498,\n",
       "        31.20183159,  13.59347055,  14.14218677,  26.31033922,\n",
       "        17.59357469,  24.95250502,  24.95383965,  33.42399115,\n",
       "        21.64061662,  33.80536285,  20.64705043,  21.94474733,\n",
       "        23.46812121,  20.58656326,  25.24326041,  25.14334046,\n",
       "        42.79470015,  17.91965918,  13.75820887,  16.30877468,\n",
       "        23.71190279,  18.09512862,  16.71957357,  24.76750827,\n",
       "         7.26514989,  25.05779503,  16.67846785,  37.04160614,\n",
       "        21.50058149,  24.65040552,   5.1512966 ,  23.41801759,\n",
       "        38.69214787,  20.73083961,  16.04773837,  28.94905643,\n",
       "        25.38532119,  26.18477184,   3.78919599,  19.13676636,\n",
       "        11.23899384,  35.72674748,  30.54013854,  35.36468383,\n",
       "        10.15327409,  39.04788304,  23.87212622,  10.136637  ,\n",
       "         9.65742029,  32.07409187,   8.90576591,  23.54908823,\n",
       "        19.71429395,  33.09714212,  35.24837015,  28.27310018,\n",
       "        29.78054173,  14.56171805,   4.71809784,   4.10504427,\n",
       "        20.23479108,  24.43660641,  20.51686737,  18.39009433,\n",
       "        18.64587007,  25.66542682,  27.77405405,  17.96110677,   4.79921278])"
      ]
     },
     "execution_count": 31,
     "metadata": {},
     "output_type": "execute_result"
    }
   ],
   "source": [
    "predictions = model.predict(X_test)\n",
    "predictions"
   ]
  },
  {
   "cell_type": "code",
   "execution_count": 32,
   "metadata": {
    "collapsed": false
   },
   "outputs": [
    {
     "name": "stdout",
     "output_type": "stream",
     "text": [
      "Score: 0.690634433479\n"
     ]
    },
    {
     "data": {
      "image/png": "[encoded data removed]",
      "text/plain": [
       "<matplotlib.figure.Figure at 0x118635f90>"
      ]
     },
     "metadata": {},
     "output_type": "display_data"
    }
   ],
   "source": [
    "## The line / model\n",
    "plt.scatter(y_test, predictions)\n",
    "plt.xlabel(\"True Values\")\n",
    "plt.ylabel(\"Predictions\")\n",
    "\n",
    "print \"Score:\", model.score(X_test, y_test) "
   ]
  },
  {
   "cell_type": "code",
   "execution_count": 33,
   "metadata": {
    "collapsed": false
   },
   "outputs": [
    {
     "name": "stdout",
     "output_type": "stream",
     "text": [
      "Cross-validated scores: [ 0.64224005  0.61152091  0.51447066  0.78503274 -0.14367345 -0.01539034]\n"
     ]
    }
   ],
   "source": [
    "# Perform 6-fold cross validation\n",
    "scores = cross_val_score(lm, df, y, cv=6)\n",
    "print \"Cross-validated scores:\", scores"
   ]
  },
  {
   "cell_type": "code",
   "execution_count": 34,
   "metadata": {
    "collapsed": false
   },
   "outputs": [
    {
     "name": "stdout",
     "output_type": "stream",
     "text": [
      "Cross-Predicted Accuracy: 0.537671767736\n"
     ]
    },
    {
     "data": {
      "image/png": "[encoded data removed]",
      "text/plain": [
       "<matplotlib.figure.Figure at 0x11864d150>"
      ]
     },
     "metadata": {},
     "output_type": "display_data"
    }
   ],
   "source": [
    "# Make cross validated predictions\n",
    "\n",
    "predictions = cross_val_predict(model, df, y, cv=6)\n",
    "plt.scatter(y, predictions)\n",
    "accuracy = metrics.r2_score(y, predictions)\n",
    "print \"Cross-Predicted Accuracy:\", accuracy"
   ]
  },
  {
   "cell_type": "code",
   "execution_count": 36,
   "metadata": {
    "collapsed": false
   },
   "outputs": [
    {
     "name": "stdout",
     "output_type": "stream",
     "text": [
      "(151, 13) (151,)\n",
      "(355, 13) (355,)\n"
     ]
    }
   ],
   "source": [
    "#70:30 split\n",
    "X_train, X_test, y_train, y_test = train_test_split(df, y, test_size=0.7)\n",
    "print X_train.shape, y_train.shape\n",
    "print X_test.shape, y_test.shape"
   ]
  },
  {
   "cell_type": "code",
   "execution_count": 37,
   "metadata": {
    "collapsed": false
   },
   "outputs": [
    {
     "data": {
      "text/plain": [
       "LinearRegression(copy_X=True, fit_intercept=True, n_jobs=1, normalize=False)"
      ]
     },
     "execution_count": 37,
     "metadata": {},
     "output_type": "execute_result"
    }
   ],
   "source": [
    "lm = linear_model.LinearRegression()\n",
    "lm"
   ]
  },
  {
   "cell_type": "code",
   "execution_count": 38,
   "metadata": {
    "collapsed": false
   },
   "outputs": [
    {
     "data": {
      "text/plain": [
       "LinearRegression(copy_X=True, fit_intercept=True, n_jobs=1, normalize=False)"
      ]
     },
     "execution_count": 38,
     "metadata": {},
     "output_type": "execute_result"
    }
   ],
   "source": [
    "model = lm.fit(X_train, y_train)\n",
    "model"
   ]
  },
  {
   "cell_type": "code",
   "execution_count": 39,
   "metadata": {
    "collapsed": false
   },
   "outputs": [
    {
     "data": {
      "text/plain": [
       "array([ 18.29883349,  23.53323751,  22.43950572,  24.66486901,\n",
       "        15.60282757,   8.66779097,  24.19959796,  16.16408119,\n",
       "        21.33326232,  29.48096705,  17.65412453,  13.48030839,\n",
       "        21.39636684,  21.61781356,   7.91413235,  20.570248  ,\n",
       "        32.28045828,  11.49932608,   8.93175302,  15.83203822,\n",
       "        21.278612  ,  23.87037693,  24.9248567 ,  28.94420785,\n",
       "        14.29740346,  20.09816539,  19.89284451,  21.22686339,\n",
       "        17.96953673,  16.16379076,  33.73412772,  20.19853962,\n",
       "        29.45906698,  22.43825386,  23.51162868,  21.26150782,\n",
       "        22.15205446,  23.42689351,  22.9384595 ,  18.03772262,\n",
       "        40.70892467,  31.40744116,  20.06888538,  19.64034438,\n",
       "        30.60328242,  18.7924965 ,  31.3328367 ,  19.52850973,\n",
       "        19.95897208,  17.95717191,  41.40307371,  20.24990189,\n",
       "        18.54119655,  36.81686824,  22.03614489,  17.41480736,\n",
       "        12.4215777 ,  14.79847763,  20.70178152,  36.64570251,\n",
       "        19.22252948,  43.78206752,  24.09362551,  21.26123635,\n",
       "        18.89342486,  24.56316987,  16.29209308,  20.58378371,\n",
       "        31.01107094,  32.66284962,  19.41554527,  15.01405291,\n",
       "        24.46989708,  21.1306869 ,  12.74127682,  19.66928401,\n",
       "        20.57480494,  20.7706579 ,  24.54629011,  19.50656549,\n",
       "        26.78358106,  23.38319292,  18.92363187,  15.95641852,\n",
       "        24.22984082,  18.11690191,  21.76244792,  20.20282413,\n",
       "        22.52442559,  30.05202798,  28.09283094,  16.84576306,\n",
       "        11.12528232,  26.71456029,  21.1501351 ,  16.95300895,\n",
       "        14.48574115,  31.16886659,  20.64586374,  11.34297511,\n",
       "        19.69142409,  20.73548135,   6.43433029,  20.20796908,\n",
       "        31.88340913,  24.1151924 ,  15.19472061,  15.88620393,\n",
       "        24.25251848,  38.81925016,  35.49103258,  17.67535193,\n",
       "        35.71300869,  22.07553341,  14.66834263,  25.56963409,\n",
       "        26.64200777,  13.35160202,  23.87705121,  11.3129203 ,\n",
       "        31.75486317,  19.71866924,  19.78656485,  27.51055639,\n",
       "        25.66221567,  21.56162175,  30.00150399,  22.73914261,\n",
       "        17.43563761,  31.07435572,  21.97462602,  24.05831137,\n",
       "        22.21930763,  19.26183143,  10.74316018,  11.47335418,\n",
       "        40.58290837,  10.08654331,  22.30348908,  13.21628705,\n",
       "        23.08544619,  30.96233398,  19.16140661,  22.90101636,\n",
       "        18.38838027,   7.21492867,  23.03566658,  29.38164465,\n",
       "        30.57976339,  31.36174734,  25.85494636,  12.17316531,\n",
       "        32.21743117,  23.04150688,  33.5917003 ,  16.49528439,\n",
       "        19.37996643,  33.1804562 ,   9.17590481,  33.04471011,\n",
       "        19.89586199,  22.24868353,  11.2618348 ,  18.94788605,\n",
       "        26.08705284,  19.93618177,  36.1200249 ,  21.62237851,\n",
       "        17.42384478,  12.88889086,  20.66693027,  -1.3876443 ,\n",
       "        23.24332631,  27.13750125,  32.3562907 ,  10.97431125,\n",
       "        17.71388942,  27.31003052,  13.87202446,  20.1334894 ,\n",
       "        17.76255785,  25.69198447,  34.5553291 ,  26.76314559,\n",
       "        35.88926905,  30.56896077,  23.56329965,  24.30522703,\n",
       "        12.83700615,  11.18127617,  23.10479871,  11.1372372 ,\n",
       "        19.21141858,  20.16379173,  20.4286632 ,  36.05911553,\n",
       "        19.10231414,  28.18209175,  21.45952276,  45.64358079,\n",
       "        25.65994616,  36.71467082,  27.11409576,  15.38364035,\n",
       "        33.26404424,  19.06850621,  12.05714322,  27.67783118,\n",
       "        20.29684813,  27.06405633,  20.76577912,  32.25218234,\n",
       "        11.15111271,  23.41255347,  20.77577824,  19.77710453,\n",
       "        20.96272254,  12.27232475,  23.48679814,  19.06047254,\n",
       "        25.78180846,  23.65134507,  33.15080787,  19.78718613,\n",
       "        24.59748123,  19.54464444,  20.22327912,  27.00582468,\n",
       "        20.90930606,  17.12357871,  21.25435891,  22.27474512,\n",
       "        26.6369496 ,  28.83479496,  13.7285704 ,  20.90427862,\n",
       "        16.08718127,  12.81884512,  25.85989271,  16.8139898 ,\n",
       "        19.25608212,   7.1810558 ,  15.2228688 ,  18.17213428,\n",
       "        21.12612925,  38.61363807,  15.8015326 ,  24.71079811,\n",
       "        22.22453525,  20.16286037,  24.07900707,  34.65409948,\n",
       "        42.44623174,  21.42218891,  14.54443028,  24.24324637,\n",
       "        20.32255757,  12.47594615,  12.56843343,  20.17330523,\n",
       "        23.60379936,  29.89007395,  17.07373472,  36.3690661 ,\n",
       "        12.27142359,   5.21214986,  28.65466797,  27.43131329,\n",
       "        20.43405902,  17.64268593,  -3.8801079 ,  24.16335093,\n",
       "        15.18904722,  17.40302058,  11.4293422 ,  17.25602105,\n",
       "        33.44866698,  21.33910019,  29.58600224,  24.85133144,\n",
       "        18.47591604,  22.31414479,  27.62333956,  26.11248255,\n",
       "        12.62707112,  30.06854299,  36.86333272,  24.85966129,\n",
       "        13.19280272,  15.25907604,  29.68779102,  26.22860612,\n",
       "        40.0458103 ,  13.50823826,  17.17208775,  17.77788226,\n",
       "        24.77273374,  27.84635496,  24.6882233 ,  18.51617668,\n",
       "        15.86923445,  28.98958378,  13.14047811,  26.84386005,\n",
       "        30.95053604,  11.2045389 ,  20.57909855,  28.11964641,\n",
       "        39.49852519,   8.44916297,  25.60799804,  25.83791435,\n",
       "        20.5020168 ,  25.44196439,  30.09209066,  19.02387178,\n",
       "         4.68524402,  32.32920786,  20.66059894,  35.6492569 ,\n",
       "        21.76602273,  25.39460855,  10.51211088,  42.13976711,\n",
       "        27.9459173 ,  21.83378822,  11.54953598,  33.30870742,\n",
       "        17.50516559,  21.60925646,  19.18233108,  35.63496839,\n",
       "        14.54091839,  12.09379442,  23.8995629 ,  16.12044495,\n",
       "        29.84249804,  16.07161052,  17.60152588,  37.06959546,\n",
       "        14.22319231,  24.9283791 ,  45.04212174,  23.19170136,\n",
       "        26.47777115,  28.68340967,  13.80232642,  32.51080314,\n",
       "        27.88591289,  12.45057245,  14.16651141,  16.45188721,\n",
       "        27.52262383,  13.66399571,  24.40646538])"
      ]
     },
     "execution_count": 39,
     "metadata": {},
     "output_type": "execute_result"
    }
   ],
   "source": [
    "predictions = model.predict(X_test)\n",
    "predictions"
   ]
  },
  {
   "cell_type": "code",
   "execution_count": 40,
   "metadata": {
    "collapsed": false
   },
   "outputs": [
    {
     "name": "stdout",
     "output_type": "stream",
     "text": [
      "Score: 0.663784955594\n"
     ]
    },
    {
     "data": {
      "image/png": "[encoded data removed]",
      "text/plain": [
       "<matplotlib.figure.Figure at 0x118066350>"
      ]
     },
     "metadata": {},
     "output_type": "display_data"
    }
   ],
   "source": [
    "## The line / model\n",
    "plt.scatter(y_test, predictions)\n",
    "plt.xlabel(\"True Values\")\n",
    "plt.ylabel(\"Predictions\")\n",
    "\n",
    "print \"Score:\", model.score(X_test, y_test) "
   ]
  },
  {
   "cell_type": "code",
   "execution_count": 41,
   "metadata": {
    "collapsed": false
   },
   "outputs": [
    {
     "name": "stdout",
     "output_type": "stream",
     "text": [
      "Cross-validated scores: [ 0.64224005  0.61152091  0.51447066  0.78503274 -0.14367345 -0.01539034]\n"
     ]
    }
   ],
   "source": [
    "# Perform 6-fold cross validation\n",
    "scores = cross_val_score(lm, df, y, cv=6)\n",
    "print \"Cross-validated scores:\", scores"
   ]
  },
  {
   "cell_type": "code",
   "execution_count": 42,
   "metadata": {
    "collapsed": false
   },
   "outputs": [
    {
     "name": "stdout",
     "output_type": "stream",
     "text": [
      "Cross-Predicted Accuracy: 0.537671767736\n"
     ]
    },
    {
     "data": {
      "image/png": "[encoded data removed]",
      "text/plain": [
       "<matplotlib.figure.Figure at 0x11790a8d0>"
      ]
     },
     "metadata": {},
     "output_type": "display_data"
    }
   ],
   "source": [
    "# Make cross validated predictions\n",
    "\n",
    "predictions = cross_val_predict(model, df, y, cv=6)\n",
    "plt.scatter(y, predictions)\n",
    "accuracy = metrics.r2_score(y, predictions)\n",
    "print \"Cross-Predicted Accuracy:\", accuracy"
   ]
  },
  {
   "cell_type": "code",
   "execution_count": 43,
   "metadata": {
    "collapsed": false
   },
   "outputs": [
    {
     "name": "stdout",
     "output_type": "stream",
     "text": [
      "(151, 13) (151,)\n",
      "(355, 13) (355,)\n"
     ]
    }
   ],
   "source": [
    "#90:10 split\n",
    "X_train, X_test, y_train, y_test = train_test_split(df, y, test_size=0.7)\n",
    "print X_train.shape, y_train.shape\n",
    "print X_test.shape, y_test.shape"
   ]
  },
  {
   "cell_type": "code",
   "execution_count": 44,
   "metadata": {
    "collapsed": false
   },
   "outputs": [
    {
     "data": {
      "text/plain": [
       "LinearRegression(copy_X=True, fit_intercept=True, n_jobs=1, normalize=False)"
      ]
     },
     "execution_count": 44,
     "metadata": {},
     "output_type": "execute_result"
    }
   ],
   "source": [
    "lm = linear_model.LinearRegression()\n",
    "lm"
   ]
  },
  {
   "cell_type": "code",
   "execution_count": 45,
   "metadata": {
    "collapsed": false
   },
   "outputs": [
    {
     "data": {
      "text/plain": [
       "LinearRegression(copy_X=True, fit_intercept=True, n_jobs=1, normalize=False)"
      ]
     },
     "execution_count": 45,
     "metadata": {},
     "output_type": "execute_result"
    }
   ],
   "source": [
    "model = lm.fit(X_train, y_train)\n",
    "model"
   ]
  },
  {
   "cell_type": "code",
   "execution_count": 46,
   "metadata": {
    "collapsed": false
   },
   "outputs": [
    {
     "data": {
      "text/plain": [
       "array([ 19.4320339 ,   8.89362227,  17.78644117,  24.47369852,\n",
       "         7.56813657,  16.8087898 ,  14.96451013,  27.60174249,\n",
       "        28.96547452,  32.94650923,  30.40378953,  23.8297598 ,\n",
       "        15.51690346,  29.1772871 ,  20.96216967,  18.8027697 ,\n",
       "        32.75895967,  19.98367991,  22.04423524,  19.79994006,\n",
       "        15.30074195,  18.03146411,  31.92824786,  15.63777363,\n",
       "        14.36933326,  43.25556449,  35.36228132,  14.61618699,\n",
       "        25.85483426,  35.33464376,  14.12752677,  13.30609631,\n",
       "        26.79952731,   7.56498072,  20.55778696,  23.88891938,\n",
       "        31.0678832 ,  37.33985096,  23.3371744 ,  24.31423588,\n",
       "        35.11603264,  23.99021917,  28.78268308,  19.68625527,\n",
       "        20.02144771,  23.12555671,  22.86656147,  23.58138134,\n",
       "        18.68867367,  41.12355794,  21.32299976,  18.27764108,\n",
       "        23.08735235,  34.69493943,  30.6743146 ,  33.4361231 ,\n",
       "        23.3573183 ,  20.02832857,  19.2179468 ,  12.13561862,\n",
       "        22.82737547,  42.10054005,  18.12217309,  20.85419159,\n",
       "        19.14746213,  12.9705539 ,  30.90469385,  14.35442905,\n",
       "        20.48657311,  15.83755737,  32.82933179,  21.57993191,\n",
       "        31.23149547,  19.21273655,  24.93499321,  25.4289945 ,\n",
       "        30.90283351,  13.3507682 ,  27.77690639,  33.67603172,\n",
       "        35.44979087,  18.82691046,  32.45752402,   9.2643657 ,\n",
       "        19.50076339,  24.62149201,  44.06648385,   6.89732828,\n",
       "        33.7250535 ,  18.65601248,  16.90875506,  24.42327517,\n",
       "        17.34214484,  12.18752692,  22.05038886,  25.1996102 ,\n",
       "        20.71483272,   8.22499408,  20.62122147,  34.38817349,\n",
       "        15.51168621,  22.31812929,  21.23268225,  15.6382014 ,\n",
       "         3.74374592,  32.1296059 ,  19.49246705,  15.75550552,\n",
       "        19.51839146,  34.05596954,  24.98314581,  33.27222407,\n",
       "        20.27403499,  25.5627739 ,  22.49986786,  20.3561257 ,\n",
       "        34.73033052,  24.37639738,  17.01313515,  10.40920974,\n",
       "        37.36722623,  12.25705615,  21.88188675,  19.92715317,\n",
       "        32.15205571,  21.48218238,  26.18259612,  15.86760407,\n",
       "        21.15739701,  21.08453069,  20.69421053,  27.18484725,\n",
       "        24.5506857 ,  18.39677982,  23.69853969,  20.72130366,\n",
       "        28.4278656 ,  34.63205736,  36.22027292,  18.66619097,\n",
       "        31.14591303,  14.047278  ,  27.63982946,  22.00848396,\n",
       "        19.21856818,  11.31836115,   9.06535251,  15.90346764,\n",
       "        37.21668959,  20.07982896,  20.1974258 ,  30.98983066,\n",
       "        29.60030814,  21.45981487,  37.18972211,  26.10652145,\n",
       "        25.23763785,  17.31064084,  20.1208676 ,  22.32245949,\n",
       "        18.08250409,  17.14757839,  25.34904025,  31.15277448,\n",
       "        21.42747952,  15.25194086,  19.54847765,  23.26863035,\n",
       "        24.64416295,  25.1336161 ,  27.25983712,  23.18486449,\n",
       "        20.88353251,  23.87751417,  36.46906518,  14.18426258,\n",
       "        28.86945495,  14.20081905,  22.82479126,  21.47519834,\n",
       "        32.20056541,  15.44754043,  23.47652375,  11.34120498,\n",
       "        27.07920845,  26.7935464 ,  28.97786629,  32.06784017,\n",
       "         9.27329504,  15.58182619,  26.57060657,  35.65198511,\n",
       "        18.87098461,  20.75244808,  20.14778632,  23.88271803,\n",
       "        19.35568169,  35.63255616,  17.69015364,  18.27700322,\n",
       "        20.23514883,  26.28465828,  22.41547753,  12.96748747,\n",
       "        15.39084734,   8.18989883,  36.60467424,  39.19148442,\n",
       "        12.99289826,  35.00825524,  14.56944512,  20.2402345 ,\n",
       "        17.82790481,  18.27188398,   7.34920663,  23.41315223,\n",
       "         8.7549181 ,  29.20876609,  19.98970553,  27.88050372,\n",
       "        38.15843446,  18.30918083,  37.01778182,  33.29028407,\n",
       "        18.56761149,  14.21977739,  18.4844042 ,  14.13964308,\n",
       "        18.36062741,  21.58333554,  36.00603964,  21.40342619,\n",
       "        28.50937198,  33.19090594,  29.08673797,  19.38948375,\n",
       "        19.23232721,  28.9016853 ,  27.37595013,  19.74300241,\n",
       "         9.4098771 ,  29.27653762,  14.05523025,  18.76373931,\n",
       "        27.96610488,  32.8243467 ,  31.26207893,  20.69980052,\n",
       "        27.07353486,  22.51570248,  18.29549036,  19.06634333,\n",
       "        28.68101854,  28.36757498,  11.30130744,  29.152808  ,\n",
       "        22.36096568,  26.16827825,  23.50829094,  21.79254066,\n",
       "         5.29634884,  35.72007863,  33.45424265,  22.8155636 ,\n",
       "        19.60232044,  24.28926849,  13.92544379,  14.37302492,\n",
       "        29.23024917,  30.76098137,  26.54542147,  35.58131932,\n",
       "        26.03624369,  19.98398342,  21.81096884,  19.53719128,\n",
       "        31.14156889,  26.02590477,  24.20693977,  14.12680218,\n",
       "        39.27320308,  19.67776226,  19.23369267,  13.53030771,\n",
       "        24.53857611,  29.01339586,  27.11182997,  25.47762778,\n",
       "        20.81081545,  27.01001203,  21.49641943,  20.68423741,\n",
       "        32.86155327,  27.09672305,  33.09778973,  24.62590634,\n",
       "        30.20702803,  24.61173452,  12.19954326,  15.18846951,\n",
       "        19.76164895,  21.34828074,  21.74846095,   8.4534567 ,\n",
       "        19.9314239 ,  20.53734037,  25.47072531,  26.00135025,\n",
       "        29.76280374,  17.26267131,   8.51040495,  25.38823656,\n",
       "        17.28698818,  35.52238223,  38.65647566,  23.90801579,\n",
       "        17.98937002,  16.31303881,  22.5526067 ,  34.45255089,\n",
       "        26.34239734,  19.97534303,  24.81445312,  15.81801056,\n",
       "        36.78895314,  23.89257562,  29.99198151,  21.83619146,\n",
       "        16.95477756,  20.75157681,  31.73939736,   7.80274777,\n",
       "        20.07396618,  28.13636723,  35.44162454,  23.18144494,\n",
       "        10.70234203,  11.97898474,  15.70018033,   9.85041705,\n",
       "        22.30533768,  20.99488833,  19.60377494,  25.07344622,\n",
       "        26.32361079,  15.54181843,  19.21120835,   9.92551896,\n",
       "        25.10262848,  33.89908785,  22.84561332,  32.9380602 ,\n",
       "        18.54926803,  15.37985592,  23.28398461])"
      ]
     },
     "execution_count": 46,
     "metadata": {},
     "output_type": "execute_result"
    }
   ],
   "source": [
    "predictions = model.predict(X_test)\n",
    "predictions"
   ]
  },
  {
   "cell_type": "code",
   "execution_count": 47,
   "metadata": {
    "collapsed": false
   },
   "outputs": [
    {
     "name": "stdout",
     "output_type": "stream",
     "text": [
      "Score: 0.722215056316\n"
     ]
    },
    {
     "data": {
      "image/png": "[encoded data removed]",
      "text/plain": [
       "<matplotlib.figure.Figure at 0x1186a3950>"
      ]
     },
     "metadata": {},
     "output_type": "display_data"
    }
   ],
   "source": [
    "## The line / model\n",
    "plt.scatter(y_test, predictions)\n",
    "plt.xlabel(\"True Values\")\n",
    "plt.ylabel(\"Predictions\")\n",
    "\n",
    "print \"Score:\", model.score(X_test, y_test) "
   ]
  },
  {
   "cell_type": "code",
   "execution_count": 48,
   "metadata": {
    "collapsed": false
   },
   "outputs": [
    {
     "name": "stdout",
     "output_type": "stream",
     "text": [
      "Cross-validated scores: [ 0.64224005  0.61152091  0.51447066  0.78503274 -0.14367345 -0.01539034]\n"
     ]
    }
   ],
   "source": [
    "# Perform 6-fold cross validation\n",
    "scores = cross_val_score(lm, df, y, cv=6)\n",
    "print \"Cross-validated scores:\", scores"
   ]
  },
  {
   "cell_type": "code",
   "execution_count": 49,
   "metadata": {
    "collapsed": false
   },
   "outputs": [
    {
     "name": "stdout",
     "output_type": "stream",
     "text": [
      "Cross-Predicted Accuracy: 0.537671767736\n"
     ]
    },
    {
     "data": {
      "image/png": "[encoded data removed]",
      "text/plain": [
       "<matplotlib.figure.Figure at 0x114e08f90>"
      ]
     },
     "metadata": {},
     "output_type": "display_data"
    }
   ],
   "source": [
    "# Make cross validated predictions\n",
    "\n",
    "predictions = cross_val_predict(model, df, y, cv=6)\n",
    "plt.scatter(y, predictions)\n",
    "accuracy = metrics.r2_score(y, predictions)\n",
    "print \"Cross-Predicted Accuracy:\", accuracy"
   ]
  },
  {
   "cell_type": "code",
   "execution_count": 51,
   "metadata": {
    "collapsed": false
   },
   "outputs": [
    {
     "name": "stdout",
     "output_type": "stream",
     "text": [
      "0.0396902317056 0.689281506591\n",
      "0.0325282102408 0.702698554788\n",
      "0.105302251417 0.694561247647\n"
     ]
    }
   ],
   "source": [
    "fifty_fifty = []\n",
    "for i in range(1,11):\n",
    "    x_train, x_test, y_train, y_test = train_test_split(df, y, test_size=0.5)\n",
    "    lm = linear_model.LinearRegression()   \n",
    "    model = lm.fit(x_train, y_train)       \n",
    "    predictions = lm.predict(x_test)       \n",
    "    fifty_fifty.append(model.score(x_test, y_test))\n",
    "print np.std(fifty_fifty), np.mean(fifty_fifty)\n",
    "\n",
    "sixty_fourty = []\n",
    "for i in range(1,11):\n",
    "    x_train, x_test, y_train, y_test = train_test_split(df, y, test_size=0.4)\n",
    "    lm = linear_model.LinearRegression()   \n",
    "    model = lm.fit(x_train, y_train)       \n",
    "    predictions = lm.predict(x_test)      \n",
    "    sixty_fourty.append(model.score(x_test, y_test))\n",
    "print np.std(sixty_fourty), np.mean(sixty_fourty)\n",
    "\n",
    "ninety_ten = []\n",
    "for i in range(1,11):\n",
    "    x_train, x_test, y_train, y_test = train_test_split(df, y, test_size=0.1)\n",
    "    lm = linear_model.LinearRegression()   \n",
    "    model = lm.fit(x_train, y_train)     \n",
    "    predictions = lm.predict(x_test)    \n",
    "    ninety_ten.append(model.score(x_test, y_test))\n",
    "print np.std(ninety_ten), np.mean(ninety_ten)"
   ]
  },
  {
   "cell_type": "code",
   "execution_count": 52,
   "metadata": {
    "collapsed": false
   },
   "outputs": [
    {
     "name": "stdout",
     "output_type": "stream",
     "text": [
      "50/50 Std:  0.0353321779001\n",
      "60/40 Std:  0.0391373261956\n",
      "90/10 Std:  0.118163105158\n"
     ]
    }
   ],
   "source": [
    "fifty_fifty = []\n",
    "for i in range(1,50):\n",
    "    x_train, x_test, y_train, y_test = train_test_split(df, y, test_size=0.5)\n",
    "    lm = linear_model.LinearRegression()   \n",
    "    model = lm.fit(x_train, y_train)       \n",
    "    predictions = lm.predict(x_test)       \n",
    "    fifty_fifty.append(model.score(x_test, y_test))\n",
    "print \"50/50 Std: \", np.std(fifty_fifty)\n",
    "\n",
    "sixty_fourty = []\n",
    "for i in range(1,50):\n",
    "    x_train, x_test, y_train, y_test = train_test_split(df, y, test_size=0.4)\n",
    "    lm = linear_model.LinearRegression()   \n",
    "    model = lm.fit(x_train, y_train)       \n",
    "    predictions = lm.predict(x_test)      \n",
    "    sixty_fourty.append(model.score(x_test, y_test))\n",
    "print \"60/40 Std: \", np.std(sixty_fourty)\n",
    "\n",
    "ninety_ten = []\n",
    "for i in range(1,50):\n",
    "    x_train, x_test, y_train, y_test = train_test_split(df, y, test_size=0.1)\n",
    "    lm = linear_model.LinearRegression()   \n",
    "    model = lm.fit(x_train, y_train)     \n",
    "    predictions = lm.predict(x_test)    \n",
    "    ninety_ten.append(model.score(x_test, y_test))\n",
    "print \"90/10 Std: \", np.std(ninety_ten)"
   ]
  },
  {
   "cell_type": "code",
   "execution_count": 53,
   "metadata": {
    "collapsed": false
   },
   "outputs": [
    {
     "data": {
      "text/plain": [
       "Index([u'CRIM', u'ZN', u'INDUS', u'CHAS', u'NOX', u'RM', u'AGE', u'DIS',\n",
       "       u'RAD', u'TAX', u'PTRATIO', u'B', u'LSTAT'],\n",
       "      dtype='object')"
      ]
     },
     "execution_count": 53,
     "metadata": {},
     "output_type": "execute_result"
    }
   ],
   "source": [
    "df.columns"
   ]
  },
  {
   "cell_type": "code",
   "execution_count": 54,
   "metadata": {
    "collapsed": true
   },
   "outputs": [],
   "source": [
    "xs = df[['TAX', 'CRIM', 'CHAS']]"
   ]
  },
  {
   "cell_type": "code",
   "execution_count": 55,
   "metadata": {
    "collapsed": false
   },
   "outputs": [
    {
     "data": {
      "text/html": [
       "<div>\n",
       "<table border=\"1\" class=\"dataframe\">\n",
       "  <thead>\n",
       "    <tr style=\"text-align: right;\">\n",
       "      <th></th>\n",
       "      <th>TAX</th>\n",
       "      <th>CRIM</th>\n",
       "      <th>CHAS</th>\n",
       "    </tr>\n",
       "  </thead>\n",
       "  <tbody>\n",
       "    <tr>\n",
       "      <th>0</th>\n",
       "      <td>296.0</td>\n",
       "      <td>0.00632</td>\n",
       "      <td>0.0</td>\n",
       "    </tr>\n",
       "    <tr>\n",
       "      <th>1</th>\n",
       "      <td>242.0</td>\n",
       "      <td>0.02731</td>\n",
       "      <td>0.0</td>\n",
       "    </tr>\n",
       "    <tr>\n",
       "      <th>2</th>\n",
       "      <td>242.0</td>\n",
       "      <td>0.02729</td>\n",
       "      <td>0.0</td>\n",
       "    </tr>\n",
       "    <tr>\n",
       "      <th>3</th>\n",
       "      <td>222.0</td>\n",
       "      <td>0.03237</td>\n",
       "      <td>0.0</td>\n",
       "    </tr>\n",
       "    <tr>\n",
       "      <th>4</th>\n",
       "      <td>222.0</td>\n",
       "      <td>0.06905</td>\n",
       "      <td>0.0</td>\n",
       "    </tr>\n",
       "  </tbody>\n",
       "</table>\n",
       "</div>"
      ],
      "text/plain": [
       "     TAX     CRIM  CHAS\n",
       "0  296.0  0.00632   0.0\n",
       "1  242.0  0.02731   0.0\n",
       "2  242.0  0.02729   0.0\n",
       "3  222.0  0.03237   0.0\n",
       "4  222.0  0.06905   0.0"
      ]
     },
     "execution_count": 55,
     "metadata": {},
     "output_type": "execute_result"
    }
   ],
   "source": [
    "xs.head()"
   ]
  },
  {
   "cell_type": "code",
   "execution_count": null,
   "metadata": {
    "collapsed": true
   },
   "outputs": [],
   "source": [
    "#below is practice testing"
   ]
  },
  {
   "cell_type": "code",
   "execution_count": 56,
   "metadata": {
    "collapsed": true
   },
   "outputs": [],
   "source": [
    " x_train, x_test, y_train, y_test = train_test_split(xs, y, test_size=0.5)"
   ]
  },
  {
   "cell_type": "code",
   "execution_count": 57,
   "metadata": {
    "collapsed": true
   },
   "outputs": [],
   "source": [
    "lm = linear_model.LinearRegression()"
   ]
  },
  {
   "cell_type": "code",
   "execution_count": 58,
   "metadata": {
    "collapsed": true
   },
   "outputs": [],
   "source": [
    "model_1 = lm.fit(x_train, y_train)"
   ]
  },
  {
   "cell_type": "code",
   "execution_count": 59,
   "metadata": {
    "collapsed": false
   },
   "outputs": [
    {
     "data": {
      "text/plain": [
       "0.21955803668324114"
      ]
     },
     "execution_count": 59,
     "metadata": {},
     "output_type": "execute_result"
    }
   ],
   "source": [
    "model_1.score(x_test, y_test)"
   ]
  },
  {
   "cell_type": "code",
   "execution_count": 61,
   "metadata": {
    "collapsed": false
   },
   "outputs": [
    {
     "data": {
      "text/html": [
       "<div>\n",
       "<table border=\"1\" class=\"dataframe\">\n",
       "  <thead>\n",
       "    <tr style=\"text-align: right;\">\n",
       "      <th></th>\n",
       "      <th>TAX</th>\n",
       "      <th>CRIM</th>\n",
       "      <th>CHAS</th>\n",
       "      <th>DIS</th>\n",
       "      <th>AGE</th>\n",
       "    </tr>\n",
       "  </thead>\n",
       "  <tbody>\n",
       "    <tr>\n",
       "      <th>0</th>\n",
       "      <td>296.0</td>\n",
       "      <td>0.00632</td>\n",
       "      <td>0.0</td>\n",
       "      <td>4.0900</td>\n",
       "      <td>65.2</td>\n",
       "    </tr>\n",
       "    <tr>\n",
       "      <th>1</th>\n",
       "      <td>242.0</td>\n",
       "      <td>0.02731</td>\n",
       "      <td>0.0</td>\n",
       "      <td>4.9671</td>\n",
       "      <td>78.9</td>\n",
       "    </tr>\n",
       "    <tr>\n",
       "      <th>2</th>\n",
       "      <td>242.0</td>\n",
       "      <td>0.02729</td>\n",
       "      <td>0.0</td>\n",
       "      <td>4.9671</td>\n",
       "      <td>61.1</td>\n",
       "    </tr>\n",
       "    <tr>\n",
       "      <th>3</th>\n",
       "      <td>222.0</td>\n",
       "      <td>0.03237</td>\n",
       "      <td>0.0</td>\n",
       "      <td>6.0622</td>\n",
       "      <td>45.8</td>\n",
       "    </tr>\n",
       "    <tr>\n",
       "      <th>4</th>\n",
       "      <td>222.0</td>\n",
       "      <td>0.06905</td>\n",
       "      <td>0.0</td>\n",
       "      <td>6.0622</td>\n",
       "      <td>54.2</td>\n",
       "    </tr>\n",
       "  </tbody>\n",
       "</table>\n",
       "</div>"
      ],
      "text/plain": [
       "     TAX     CRIM  CHAS     DIS   AGE\n",
       "0  296.0  0.00632   0.0  4.0900  65.2\n",
       "1  242.0  0.02731   0.0  4.9671  78.9\n",
       "2  242.0  0.02729   0.0  4.9671  61.1\n",
       "3  222.0  0.03237   0.0  6.0622  45.8\n",
       "4  222.0  0.06905   0.0  6.0622  54.2"
      ]
     },
     "execution_count": 61,
     "metadata": {},
     "output_type": "execute_result"
    }
   ],
   "source": [
    "xs = df[['TAX', 'CRIM', 'CHAS','DIS', 'AGE']]\n",
    "xs.head()"
   ]
  },
  {
   "cell_type": "code",
   "execution_count": 62,
   "metadata": {
    "collapsed": true
   },
   "outputs": [],
   "source": [
    " x_train, x_test, y_train, y_test = train_test_split(xs, y, test_size=0.5)"
   ]
  },
  {
   "cell_type": "code",
   "execution_count": 63,
   "metadata": {
    "collapsed": true
   },
   "outputs": [],
   "source": [
    "lm = linear_model.LinearRegression()"
   ]
  },
  {
   "cell_type": "code",
   "execution_count": 64,
   "metadata": {
    "collapsed": true
   },
   "outputs": [],
   "source": [
    "model_1 = lm.fit(x_train, y_train)"
   ]
  },
  {
   "cell_type": "code",
   "execution_count": 65,
   "metadata": {
    "collapsed": false
   },
   "outputs": [
    {
     "data": {
      "text/plain": [
       "0.22795666165890563"
      ]
     },
     "execution_count": 65,
     "metadata": {},
     "output_type": "execute_result"
    }
   ],
   "source": [
    "model_1.score(x_test, y_test)"
   ]
  },
  {
   "cell_type": "code",
   "execution_count": 67,
   "metadata": {
    "collapsed": false
   },
   "outputs": [
    {
     "data": {
      "text/plain": [
       "0.2780893610437426"
      ]
     },
     "execution_count": 67,
     "metadata": {},
     "output_type": "execute_result"
    }
   ],
   "source": [
    "#some new variables\n",
    "xs = df[['TAX', 'CRIM', 'CHAS']]\n",
    "xs.head()\n",
    "x_train, x_test, y_train, y_test = train_test_split(xs, y, test_size=0.5)\n",
    "lm = linear_model.LinearRegression() \n",
    "model_1 = lm.fit(x_train, y_train)\n",
    "model_1.score(x_test, y_test)"
   ]
  },
  {
   "cell_type": "code",
   "execution_count": 68,
   "metadata": {
    "collapsed": false
   },
   "outputs": [
    {
     "data": {
      "text/plain": [
       "0.60061339998033847"
      ]
     },
     "execution_count": 68,
     "metadata": {},
     "output_type": "execute_result"
    }
   ],
   "source": [
    "#some new variables\n",
    "xs = df[['NOX', 'CRIM', 'RM']]\n",
    "xs.head()\n",
    "x_train, x_test, y_train, y_test = train_test_split(xs, y, test_size=0.5)\n",
    "lm = linear_model.LinearRegression() \n",
    "model_1 = lm.fit(x_train, y_train)\n",
    "model_1.score(x_test, y_test)"
   ]
  },
  {
   "cell_type": "code",
   "execution_count": 69,
   "metadata": {
    "collapsed": false
   },
   "outputs": [
    {
     "data": {
      "text/plain": [
       "0.58539473213566207"
      ]
     },
     "execution_count": 69,
     "metadata": {},
     "output_type": "execute_result"
    }
   ],
   "source": [
    "#some new variables\n",
    "xs = df[['LSTAT', 'CRIM', 'RM', 'NOX']]\n",
    "xs.head()\n",
    "x_train, x_test, y_train, y_test = train_test_split(xs, y, test_size=0.5)\n",
    "lm = linear_model.LinearRegression() \n",
    "model_1 = lm.fit(x_train, y_train)\n",
    "model_1.score(x_test, y_test)"
   ]
  },
  {
   "cell_type": "code",
   "execution_count": 70,
   "metadata": {
    "collapsed": false
   },
   "outputs": [
    {
     "data": {
      "text/plain": [
       "0.52662012942765035"
      ]
     },
     "execution_count": 70,
     "metadata": {},
     "output_type": "execute_result"
    }
   ],
   "source": [
    "#some new variables\n",
    "xs = df[['LSTAT', 'CRIM', 'INDUS', 'NOX']]\n",
    "xs.head()\n",
    "x_train, x_test, y_train, y_test = train_test_split(xs, y, test_size=0.5)\n",
    "lm = linear_model.LinearRegression() \n",
    "model_1 = lm.fit(x_train, y_train)\n",
    "model_1.score(x_test, y_test)"
   ]
  },
  {
   "cell_type": "code",
   "execution_count": 71,
   "metadata": {
    "collapsed": false
   },
   "outputs": [
    {
     "data": {
      "text/plain": [
       "0.55081471545292471"
      ]
     },
     "execution_count": 71,
     "metadata": {},
     "output_type": "execute_result"
    }
   ],
   "source": [
    "#some new variables\n",
    "xs = df[['CHAS', 'CRIM', 'B', 'LSTAT']]\n",
    "xs.head()\n",
    "x_train, x_test, y_train, y_test = train_test_split(xs, y, test_size=0.5)\n",
    "lm = linear_model.LinearRegression() \n",
    "model_1 = lm.fit(x_train, y_train)\n",
    "model_1.score(x_test, y_test)"
   ]
  },
  {
   "cell_type": "code",
   "execution_count": 72,
   "metadata": {
    "collapsed": false
   },
   "outputs": [
    {
     "data": {
      "text/plain": [
       "0.55027031616094457"
      ]
     },
     "execution_count": 72,
     "metadata": {},
     "output_type": "execute_result"
    }
   ],
   "source": [
    "#some new variables\n",
    "xs = df[['DIS', 'CRIM', 'RM', 'NOX']]\n",
    "xs.head()\n",
    "x_train, x_test, y_train, y_test = train_test_split(xs, y, test_size=0.5)\n",
    "lm = linear_model.LinearRegression() \n",
    "model_1 = lm.fit(x_train, y_train)\n",
    "model_1.score(x_test, y_test)"
   ]
  },
  {
   "cell_type": "code",
   "execution_count": null,
   "metadata": {
    "collapsed": true
   },
   "outputs": [],
   "source": []
  }
 ],
 "metadata": {
  "kernelspec": {
   "display_name": "Python [Root]",
   "language": "python",
   "name": "Python [Root]"
  },
  "language_info": {
   "codemirror_mode": {
    "name": "ipython",
    "version": 2
   },
   "file_extension": ".py",
   "mimetype": "text/x-python",
   "name": "python",
   "nbconvert_exporter": "python",
   "pygments_lexer": "ipython2",
   "version": "2.7.12"
  }
 },
 "nbformat": 4,
 "nbformat_minor": 0
}
