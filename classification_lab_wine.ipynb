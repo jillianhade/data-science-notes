{
 "cells": [
  {
   "cell_type": "code",
   "execution_count": 10,
   "metadata": {
    "collapsed": false
   },
   "outputs": [
    {
     "ename": "ImportError",
     "evalue": "cannot import name KNeighborsClassifier",
     "output_type": "error",
     "traceback": [
      "\u001b[0;31m---------------------------------------------------------------------------\u001b[0m",
      "\u001b[0;31mImportError\u001b[0m                               Traceback (most recent call last)",
      "\u001b[0;32m<ipython-input-10-518b3ac85a2e>\u001b[0m in \u001b[0;36m<module>\u001b[0;34m()\u001b[0m\n\u001b[1;32m      3\u001b[0m \u001b[0mget_ipython\u001b[0m\u001b[0;34m(\u001b[0m\u001b[0;34m)\u001b[0m\u001b[0;34m.\u001b[0m\u001b[0mmagic\u001b[0m\u001b[0;34m(\u001b[0m\u001b[0;34mu'matplotlib inline'\u001b[0m\u001b[0;34m)\u001b[0m\u001b[0;34m\u001b[0m\u001b[0m\n\u001b[1;32m      4\u001b[0m \u001b[0;32mimport\u001b[0m \u001b[0msklearn\u001b[0m\u001b[0;34m\u001b[0m\u001b[0m\n\u001b[0;32m----> 5\u001b[0;31m \u001b[0;32mfrom\u001b[0m \u001b[0msklearn\u001b[0m \u001b[0;32mimport\u001b[0m \u001b[0mKNeighborsClassifier\u001b[0m\u001b[0;34m\u001b[0m\u001b[0m\n\u001b[0m\u001b[1;32m      6\u001b[0m \u001b[0;32mfrom\u001b[0m \u001b[0msklearn\u001b[0m \u001b[0;32mimport\u001b[0m \u001b[0mpreprocessing\u001b[0m\u001b[0;34m\u001b[0m\u001b[0m\n",
      "\u001b[0;31mImportError\u001b[0m: cannot import name KNeighborsClassifier"
     ]
    }
   ],
   "source": [
    "import pandas as pd\n",
    "import seaborn as sns\n",
    "%matplotlib inline\n",
    "# import sklearn\n",
    "# from sklearn import KNeighborsClassifier\n",
    "# from sklearn import preprocessing"
   ]
  },
  {
   "cell_type": "code",
   "execution_count": 2,
   "metadata": {
    "collapsed": false
   },
   "outputs": [
    {
     "data": {
      "text/html": [
       "<div>\n",
       "<table border=\"1\" class=\"dataframe\">\n",
       "  <thead>\n",
       "    <tr style=\"text-align: right;\">\n",
       "      <th></th>\n",
       "      <th>fixed_acidity</th>\n",
       "      <th>volatile_acidity</th>\n",
       "      <th>citric_acid</th>\n",
       "      <th>residual_sugar</th>\n",
       "      <th>chlorides</th>\n",
       "      <th>free_sulfur_dioxide</th>\n",
       "      <th>total_sulfur_dioxide</th>\n",
       "      <th>density</th>\n",
       "      <th>pH</th>\n",
       "      <th>sulphates</th>\n",
       "      <th>alcohol</th>\n",
       "      <th>quality</th>\n",
       "      <th>color</th>\n",
       "      <th>is_red</th>\n",
       "      <th>high_quality</th>\n",
       "    </tr>\n",
       "  </thead>\n",
       "  <tbody>\n",
       "    <tr>\n",
       "      <th>0</th>\n",
       "      <td>7.4</td>\n",
       "      <td>0.70</td>\n",
       "      <td>0.00</td>\n",
       "      <td>1.9</td>\n",
       "      <td>0.076</td>\n",
       "      <td>11.0</td>\n",
       "      <td>34.0</td>\n",
       "      <td>0.9978</td>\n",
       "      <td>3.51</td>\n",
       "      <td>0.56</td>\n",
       "      <td>9.4</td>\n",
       "      <td>5</td>\n",
       "      <td>red</td>\n",
       "      <td>1.0</td>\n",
       "      <td>0.0</td>\n",
       "    </tr>\n",
       "    <tr>\n",
       "      <th>1</th>\n",
       "      <td>7.8</td>\n",
       "      <td>0.88</td>\n",
       "      <td>0.00</td>\n",
       "      <td>2.6</td>\n",
       "      <td>0.098</td>\n",
       "      <td>25.0</td>\n",
       "      <td>67.0</td>\n",
       "      <td>0.9968</td>\n",
       "      <td>3.20</td>\n",
       "      <td>0.68</td>\n",
       "      <td>9.8</td>\n",
       "      <td>5</td>\n",
       "      <td>red</td>\n",
       "      <td>1.0</td>\n",
       "      <td>0.0</td>\n",
       "    </tr>\n",
       "    <tr>\n",
       "      <th>2</th>\n",
       "      <td>7.8</td>\n",
       "      <td>0.76</td>\n",
       "      <td>0.04</td>\n",
       "      <td>2.3</td>\n",
       "      <td>0.092</td>\n",
       "      <td>15.0</td>\n",
       "      <td>54.0</td>\n",
       "      <td>0.9970</td>\n",
       "      <td>3.26</td>\n",
       "      <td>0.65</td>\n",
       "      <td>9.8</td>\n",
       "      <td>5</td>\n",
       "      <td>red</td>\n",
       "      <td>1.0</td>\n",
       "      <td>0.0</td>\n",
       "    </tr>\n",
       "    <tr>\n",
       "      <th>3</th>\n",
       "      <td>11.2</td>\n",
       "      <td>0.28</td>\n",
       "      <td>0.56</td>\n",
       "      <td>1.9</td>\n",
       "      <td>0.075</td>\n",
       "      <td>17.0</td>\n",
       "      <td>60.0</td>\n",
       "      <td>0.9980</td>\n",
       "      <td>3.16</td>\n",
       "      <td>0.58</td>\n",
       "      <td>9.8</td>\n",
       "      <td>6</td>\n",
       "      <td>red</td>\n",
       "      <td>1.0</td>\n",
       "      <td>0.0</td>\n",
       "    </tr>\n",
       "    <tr>\n",
       "      <th>4</th>\n",
       "      <td>7.4</td>\n",
       "      <td>0.70</td>\n",
       "      <td>0.00</td>\n",
       "      <td>1.9</td>\n",
       "      <td>0.076</td>\n",
       "      <td>11.0</td>\n",
       "      <td>34.0</td>\n",
       "      <td>0.9978</td>\n",
       "      <td>3.51</td>\n",
       "      <td>0.56</td>\n",
       "      <td>9.4</td>\n",
       "      <td>5</td>\n",
       "      <td>red</td>\n",
       "      <td>1.0</td>\n",
       "      <td>0.0</td>\n",
       "    </tr>\n",
       "  </tbody>\n",
       "</table>\n",
       "</div>"
      ],
      "text/plain": [
       "   fixed_acidity  volatile_acidity  citric_acid  residual_sugar  chlorides  \\\n",
       "0            7.4              0.70         0.00             1.9      0.076   \n",
       "1            7.8              0.88         0.00             2.6      0.098   \n",
       "2            7.8              0.76         0.04             2.3      0.092   \n",
       "3           11.2              0.28         0.56             1.9      0.075   \n",
       "4            7.4              0.70         0.00             1.9      0.076   \n",
       "\n",
       "   free_sulfur_dioxide  total_sulfur_dioxide  density    pH  sulphates  \\\n",
       "0                 11.0                  34.0   0.9978  3.51       0.56   \n",
       "1                 25.0                  67.0   0.9968  3.20       0.68   \n",
       "2                 15.0                  54.0   0.9970  3.26       0.65   \n",
       "3                 17.0                  60.0   0.9980  3.16       0.58   \n",
       "4                 11.0                  34.0   0.9978  3.51       0.56   \n",
       "\n",
       "   alcohol  quality color  is_red  high_quality  \n",
       "0      9.4        5   red     1.0           0.0  \n",
       "1      9.8        5   red     1.0           0.0  \n",
       "2      9.8        5   red     1.0           0.0  \n",
       "3      9.8        6   red     1.0           0.0  \n",
       "4      9.4        5   red     1.0           0.0  "
      ]
     },
     "execution_count": 2,
     "metadata": {},
     "output_type": "execute_result"
    }
   ],
   "source": [
    "# Load in the dataset\n",
    "df = pd.read_csv(\"https://s3.amazonaws.com/demo-datasets/wine.csv\")\n",
    "df.head()"
   ]
  },
  {
   "cell_type": "code",
   "execution_count": 6,
   "metadata": {
    "collapsed": false
   },
   "outputs": [
    {
     "data": {
      "text/html": [
       "<div>\n",
       "<table border=\"1\" class=\"dataframe\">\n",
       "  <thead>\n",
       "    <tr style=\"text-align: right;\">\n",
       "      <th>high_quality</th>\n",
       "      <th>0.0</th>\n",
       "      <th>1.0</th>\n",
       "    </tr>\n",
       "    <tr>\n",
       "      <th>quality</th>\n",
       "      <th></th>\n",
       "      <th></th>\n",
       "    </tr>\n",
       "  </thead>\n",
       "  <tbody>\n",
       "    <tr>\n",
       "      <th>3</th>\n",
       "      <td>30</td>\n",
       "      <td>0</td>\n",
       "    </tr>\n",
       "    <tr>\n",
       "      <th>4</th>\n",
       "      <td>216</td>\n",
       "      <td>0</td>\n",
       "    </tr>\n",
       "    <tr>\n",
       "      <th>5</th>\n",
       "      <td>2138</td>\n",
       "      <td>0</td>\n",
       "    </tr>\n",
       "    <tr>\n",
       "      <th>6</th>\n",
       "      <td>2836</td>\n",
       "      <td>0</td>\n",
       "    </tr>\n",
       "    <tr>\n",
       "      <th>7</th>\n",
       "      <td>0</td>\n",
       "      <td>1079</td>\n",
       "    </tr>\n",
       "    <tr>\n",
       "      <th>8</th>\n",
       "      <td>0</td>\n",
       "      <td>193</td>\n",
       "    </tr>\n",
       "    <tr>\n",
       "      <th>9</th>\n",
       "      <td>0</td>\n",
       "      <td>5</td>\n",
       "    </tr>\n",
       "  </tbody>\n",
       "</table>\n",
       "</div>"
      ],
      "text/plain": [
       "high_quality   0.0   1.0\n",
       "quality                 \n",
       "3               30     0\n",
       "4              216     0\n",
       "5             2138     0\n",
       "6             2836     0\n",
       "7                0  1079\n",
       "8                0   193\n",
       "9                0     5"
      ]
     },
     "execution_count": 6,
     "metadata": {},
     "output_type": "execute_result"
    }
   ],
   "source": [
    "pd.crosstab(df['quality'], df['high_quality'])"
   ]
  },
  {
   "cell_type": "code",
   "execution_count": 7,
   "metadata": {
    "collapsed": false
   },
   "outputs": [
    {
     "data": {
      "text/plain": [
       "count    6497.000000\n",
       "mean        0.196552\n",
       "std         0.397421\n",
       "min         0.000000\n",
       "25%         0.000000\n",
       "50%         0.000000\n",
       "75%         0.000000\n",
       "max         1.000000\n",
       "Name: high_quality, dtype: float64"
      ]
     },
     "execution_count": 7,
     "metadata": {},
     "output_type": "execute_result"
    }
   ],
   "source": [
    "#if we randomly pick wine ~20% will be high quality\n",
    "#now we make a model with baselines and see if we can get more high\n",
    "#quality wines with our model. \n",
    "df['high_quality'].describe()"
   ]
  },
  {
   "cell_type": "code",
   "execution_count": 12,
   "metadata": {
    "collapsed": false
   },
   "outputs": [
    {
     "data": {
      "text/plain": [
       "fixed_acidity          -0.049447\n",
       "volatile_acidity       -0.151714\n",
       "citric_acid             0.054444\n",
       "residual_sugar         -0.063992\n",
       "chlorides              -0.161781\n",
       "free_sulfur_dioxide     0.014767\n",
       "total_sulfur_dioxide   -0.051226\n",
       "density                -0.275441\n",
       "pH                      0.028149\n",
       "sulphates               0.033971\n",
       "alcohol                 0.390486\n",
       "quality                 0.759360\n",
       "is_red                 -0.087479\n",
       "high_quality            1.000000\n",
       "Name: high_quality, dtype: float64"
      ]
     },
     "execution_count": 12,
     "metadata": {},
     "output_type": "execute_result"
    }
   ],
   "source": [
    "#find some things to tell us what may link together fine wines\n",
    "df.corr().loc[:, 'high_quality']"
   ]
  },
  {
   "cell_type": "code",
   "execution_count": 15,
   "metadata": {
    "collapsed": false
   },
   "outputs": [
    {
     "data": {
      "image/png": "[encoded data removed]",
      "text/plain": [
       "<matplotlib.figure.Figure at 0x11ac68e10>"
      ]
     },
     "metadata": {},
     "output_type": "display_data"
    }
   ],
   "source": [
    "sns.heatmap(df.corr());"
   ]
  },
  {
   "cell_type": "code",
   "execution_count": 21,
   "metadata": {
    "collapsed": false
   },
   "outputs": [],
   "source": [
    "good_features = ['volatile_acidity', 'chlorides', 'density', 'alcohol']\n",
    "df[good_features].head()\n",
    "good_features = df[good_features]"
   ]
  },
  {
   "cell_type": "code",
   "execution_count": 26,
   "metadata": {
    "collapsed": false
   },
   "outputs": [],
   "source": [
    "from sklearn.preprocessing import StandardScaler\n",
    "from sklearn.neighbors import KNeighborsClassifier"
   ]
  },
  {
   "cell_type": "code",
   "execution_count": 23,
   "metadata": {
    "collapsed": false
   },
   "outputs": [
    {
     "data": {
      "text/plain": [
       "array([[ 2.18883292,  0.56995782,  1.03499282, -0.91546416],\n",
       "       [ 3.28223494,  1.1979747 ,  0.70148631, -0.58006813],\n",
       "       [ 2.55330026,  1.02669737,  0.76818761, -0.58006813],\n",
       "       ..., \n",
       "       [-0.6054167 , -0.42915996, -0.71925142, -0.91546416],\n",
       "       [-0.30169391, -0.97153818, -2.00325148,  1.9354021 ],\n",
       "       [-0.78765037, -1.02863062, -1.7631268 ,  1.09691202]])"
      ]
     },
     "execution_count": 23,
     "metadata": {},
     "output_type": "execute_result"
    }
   ],
   "source": [
    "SS = StandardScaler()\n",
    "SS.fit_transform(good_features)"
   ]
  },
  {
   "cell_type": "code",
   "execution_count": 24,
   "metadata": {
    "collapsed": false
   },
   "outputs": [
    {
     "data": {
      "text/html": [
       "<div>\n",
       "<table border=\"1\" class=\"dataframe\">\n",
       "  <thead>\n",
       "    <tr style=\"text-align: right;\">\n",
       "      <th></th>\n",
       "      <th>volatile_acidity</th>\n",
       "      <th>chlorides</th>\n",
       "      <th>density</th>\n",
       "      <th>alcohol</th>\n",
       "    </tr>\n",
       "  </thead>\n",
       "  <tbody>\n",
       "    <tr>\n",
       "      <th>0</th>\n",
       "      <td>0.70</td>\n",
       "      <td>0.076</td>\n",
       "      <td>0.9978</td>\n",
       "      <td>9.4</td>\n",
       "    </tr>\n",
       "    <tr>\n",
       "      <th>1</th>\n",
       "      <td>0.88</td>\n",
       "      <td>0.098</td>\n",
       "      <td>0.9968</td>\n",
       "      <td>9.8</td>\n",
       "    </tr>\n",
       "    <tr>\n",
       "      <th>2</th>\n",
       "      <td>0.76</td>\n",
       "      <td>0.092</td>\n",
       "      <td>0.9970</td>\n",
       "      <td>9.8</td>\n",
       "    </tr>\n",
       "    <tr>\n",
       "      <th>3</th>\n",
       "      <td>0.28</td>\n",
       "      <td>0.075</td>\n",
       "      <td>0.9980</td>\n",
       "      <td>9.8</td>\n",
       "    </tr>\n",
       "    <tr>\n",
       "      <th>4</th>\n",
       "      <td>0.70</td>\n",
       "      <td>0.076</td>\n",
       "      <td>0.9978</td>\n",
       "      <td>9.4</td>\n",
       "    </tr>\n",
       "  </tbody>\n",
       "</table>\n",
       "</div>"
      ],
      "text/plain": [
       "   volatile_acidity  chlorides  density  alcohol\n",
       "0              0.70      0.076   0.9978      9.4\n",
       "1              0.88      0.098   0.9968      9.8\n",
       "2              0.76      0.092   0.9970      9.8\n",
       "3              0.28      0.075   0.9980      9.8\n",
       "4              0.70      0.076   0.9978      9.4"
      ]
     },
     "execution_count": 24,
     "metadata": {},
     "output_type": "execute_result"
    }
   ],
   "source": [
    "good_features.head()"
   ]
  },
  {
   "cell_type": "code",
   "execution_count": 38,
   "metadata": {
    "collapsed": true
   },
   "outputs": [],
   "source": [
    "knn = KNeighborsClassifier(n_neighbors=7)"
   ]
  },
  {
   "cell_type": "code",
   "execution_count": 39,
   "metadata": {
    "collapsed": false
   },
   "outputs": [
    {
     "data": {
      "text/plain": [
       "KNeighborsClassifier(algorithm='auto', leaf_size=30, metric='minkowski',\n",
       "           metric_params=None, n_jobs=1, n_neighbors=7, p=2,\n",
       "           weights='uniform')"
      ]
     },
     "execution_count": 39,
     "metadata": {},
     "output_type": "execute_result"
    }
   ],
   "source": [
    "knn"
   ]
  },
  {
   "cell_type": "code",
   "execution_count": 46,
   "metadata": {
    "collapsed": true
   },
   "outputs": [],
   "source": [
    "y = df['high_quality']"
   ]
  },
  {
   "cell_type": "code",
   "execution_count": 47,
   "metadata": {
    "collapsed": true
   },
   "outputs": [],
   "source": [
    "x = SS.fit_transform(good_features)"
   ]
  },
  {
   "cell_type": "code",
   "execution_count": 48,
   "metadata": {
    "collapsed": false
   },
   "outputs": [
    {
     "name": "stdout",
     "output_type": "stream",
     "text": [
      "0       0.0\n",
      "1       0.0\n",
      "2       0.0\n",
      "3       0.0\n",
      "4       0.0\n",
      "5       0.0\n",
      "6       0.0\n",
      "7       1.0\n",
      "8       1.0\n",
      "9       0.0\n",
      "10      0.0\n",
      "11      0.0\n",
      "12      0.0\n",
      "13      0.0\n",
      "14      0.0\n",
      "15      0.0\n",
      "16      1.0\n",
      "17      0.0\n",
      "18      0.0\n",
      "19      0.0\n",
      "20      0.0\n",
      "21      0.0\n",
      "22      0.0\n",
      "23      0.0\n",
      "24      0.0\n",
      "25      0.0\n",
      "26      0.0\n",
      "27      0.0\n",
      "28      0.0\n",
      "29      0.0\n",
      "       ... \n",
      "6467    0.0\n",
      "6468    0.0\n",
      "6469    1.0\n",
      "6470    0.0\n",
      "6471    0.0\n",
      "6472    0.0\n",
      "6473    0.0\n",
      "6474    0.0\n",
      "6475    1.0\n",
      "6476    0.0\n",
      "6477    0.0\n",
      "6478    0.0\n",
      "6479    0.0\n",
      "6480    0.0\n",
      "6481    0.0\n",
      "6482    0.0\n",
      "6483    0.0\n",
      "6484    0.0\n",
      "6485    1.0\n",
      "6486    1.0\n",
      "6487    0.0\n",
      "6488    0.0\n",
      "6489    0.0\n",
      "6490    0.0\n",
      "6491    0.0\n",
      "6492    0.0\n",
      "6493    0.0\n",
      "6494    0.0\n",
      "6495    1.0\n",
      "6496    0.0\n",
      "Name: high_quality, dtype: float64 [[ 2.18883292  0.56995782  1.03499282 -0.91546416]\n",
      " [ 3.28223494  1.1979747   0.70148631 -0.58006813]\n",
      " [ 2.55330026  1.02669737  0.76818761 -0.58006813]\n",
      " ..., \n",
      " [-0.6054167  -0.42915996 -0.71925142 -0.91546416]\n",
      " [-0.30169391 -0.97153818 -2.00325148  1.9354021 ]\n",
      " [-0.78765037 -1.02863062 -1.7631268   1.09691202]]\n"
     ]
    }
   ],
   "source": [
    "print y,x"
   ]
  },
  {
   "cell_type": "code",
   "execution_count": 49,
   "metadata": {
    "collapsed": false
   },
   "outputs": [
    {
     "data": {
      "text/plain": [
       "(6497,)"
      ]
     },
     "execution_count": 49,
     "metadata": {},
     "output_type": "execute_result"
    }
   ],
   "source": [
    "y.shape"
   ]
  },
  {
   "cell_type": "code",
   "execution_count": 50,
   "metadata": {
    "collapsed": false
   },
   "outputs": [
    {
     "data": {
      "text/plain": [
       "(6497, 4)"
      ]
     },
     "execution_count": 50,
     "metadata": {},
     "output_type": "execute_result"
    }
   ],
   "source": [
    "x.shape"
   ]
  },
  {
   "cell_type": "code",
   "execution_count": 51,
   "metadata": {
    "collapsed": false
   },
   "outputs": [
    {
     "data": {
      "text/plain": [
       "KNeighborsClassifier(algorithm='auto', leaf_size=30, metric='minkowski',\n",
       "           metric_params=None, n_jobs=1, n_neighbors=7, p=2,\n",
       "           weights='uniform')"
      ]
     },
     "execution_count": 51,
     "metadata": {},
     "output_type": "execute_result"
    }
   ],
   "source": [
    "knn.fit(x,y)"
   ]
  },
  {
   "cell_type": "code",
   "execution_count": 52,
   "metadata": {
    "collapsed": false
   },
   "outputs": [
    {
     "data": {
      "text/plain": [
       "0.85978143758657843"
      ]
     },
     "execution_count": 52,
     "metadata": {},
     "output_type": "execute_result"
    }
   ],
   "source": [
    "knn.score(x,y)"
   ]
  },
  {
   "cell_type": "code",
   "execution_count": 53,
   "metadata": {
    "collapsed": true
   },
   "outputs": [],
   "source": [
    "#cross validate to check accuracy\n",
    "from sklearn.cross_validation import cross_val_score"
   ]
  },
  {
   "cell_type": "code",
   "execution_count": 55,
   "metadata": {
    "collapsed": false
   },
   "outputs": [
    {
     "name": "stdout",
     "output_type": "stream",
     "text": [
      "Cross-validated scores: [ 0.80516685  0.7255113   0.79332616  0.7887931   0.79310345  0.73570658\n",
      "  0.78856526]\n"
     ]
    }
   ],
   "source": [
    "knn = KNeighborsClassifier(n_neighbors=7)\n",
    "scores = cross_val_score(knn,x, y, cv=7)\n",
    "print \"Cross-validated scores:\", scores"
   ]
  },
  {
   "cell_type": "code",
   "execution_count": 57,
   "metadata": {
    "collapsed": false
   },
   "outputs": [
    {
     "data": {
      "text/plain": [
       "0.77573895744134158"
      ]
     },
     "execution_count": 57,
     "metadata": {},
     "output_type": "execute_result"
    }
   ],
   "source": [
    "import numpy as np\n",
    "np.mean(scores)"
   ]
  },
  {
   "cell_type": "code",
   "execution_count": 60,
   "metadata": {
    "collapsed": false
   },
   "outputs": [
    {
     "name": "stdout",
     "output_type": "stream",
     "text": [
      "For 1 neighbors, 0.745096732421 average accuracy across 7-fold cv!\n",
      "For 2 neighbors, 0.776353889598 average accuracy across 7-fold cv!\n",
      "For 3 neighbors, 0.754032440648 average accuracy across 7-fold cv!\n",
      "For 4 neighbors, 0.782668457956 average accuracy across 7-fold cv!\n",
      "For 5 neighbors, 0.76973774559 average accuracy across 7-fold cv!\n",
      "For 6 neighbors, 0.781128883383 average accuracy across 7-fold cv!\n",
      "For 7 neighbors, 0.775738957441 average accuracy across 7-fold cv!\n",
      "For 8 neighbors, 0.792984164793 average accuracy across 7-fold cv!\n",
      "For 9 neighbors, 0.786367355101 average accuracy across 7-fold cv!\n",
      "For 10 neighbors, 0.795604813264 average accuracy across 7-fold cv!\n",
      "For 11 neighbors, 0.786824201933 average accuracy across 7-fold cv!\n",
      "For 12 neighbors, 0.794526229961 average accuracy across 7-fold cv!\n",
      "For 13 neighbors, 0.792985325808 average accuracy across 7-fold cv!\n",
      "For 14 neighbors, 0.796987793867 average accuracy across 7-fold cv!\n",
      "For 15 neighbors, 0.792367239517 average accuracy across 7-fold cv!\n",
      "For 16 neighbors, 0.802222119002 average accuracy across 7-fold cv!\n",
      "For 17 neighbors, 0.799296077207 average accuracy across 7-fold cv!\n",
      "For 18 neighbors, 0.800373997329 average accuracy across 7-fold cv!\n",
      "For 19 neighbors, 0.79806239236 average accuracy across 7-fold cv!\n",
      "For 20 neighbors, 0.800527772867 average accuracy across 7-fold cv!\n",
      "For 21 neighbors, 0.800528269628 average accuracy across 7-fold cv!\n",
      "For 22 neighbors, 0.798678987297 average accuracy across 7-fold cv!\n",
      "For 23 neighbors, 0.798985374857 average accuracy across 7-fold cv!\n",
      "For 24 neighbors, 0.79914329805 average accuracy across 7-fold cv!\n",
      "For 25 neighbors, 0.798832760691 average accuracy across 7-fold cv!\n",
      "For 26 neighbors, 0.800220720339 average accuracy across 7-fold cv!\n",
      "For 27 neighbors, 0.798062890194 average accuracy across 7-fold cv!\n",
      "For 28 neighbors, 0.800835322871 average accuracy across 7-fold cv!\n",
      "For 29 neighbors, 0.801140715121 average accuracy across 7-fold cv!\n",
      "For 30 neighbors, 0.799913502462 average accuracy across 7-fold cv!\n",
      "For 31 neighbors, 0.800064787762 average accuracy across 7-fold cv!\n",
      "For 32 neighbors, 0.800066945873 average accuracy across 7-fold cv!\n",
      "For 33 neighbors, 0.797140241254 average accuracy across 7-fold cv!\n",
      "For 34 neighbors, 0.799143464829 average accuracy across 7-fold cv!\n",
      "For 35 neighbors, 0.796987627088 average accuracy across 7-fold cv!\n",
      "For 36 neighbors, 0.799605454267 average accuracy across 7-fold cv!\n",
      "For 37 neighbors, 0.796988787388 average accuracy across 7-fold cv!\n",
      "For 38 neighbors, 0.798681310042 average accuracy across 7-fold cv!\n",
      "For 39 neighbors, 0.797295010314 average accuracy across 7-fold cv!\n",
      "For 40 neighbors, 0.796679412473 average accuracy across 7-fold cv!\n",
      "For 41 neighbors, 0.796062487554 average accuracy across 7-fold cv!\n",
      "For 42 neighbors, 0.796218419415 average accuracy across 7-fold cv!\n",
      "For 43 neighbors, 0.797601400375 average accuracy across 7-fold cv!\n",
      "For 44 neighbors, 0.797758161482 average accuracy across 7-fold cv!\n",
      "For 45 neighbors, 0.799603296157 average accuracy across 7-fold cv!\n",
      "For 46 neighbors, 0.800680884509 average accuracy across 7-fold cv!\n",
      "For 47 neighbors, 0.801296481992 average accuracy across 7-fold cv!\n",
      "For 48 neighbors, 0.802221289399 average accuracy across 7-fold cv!\n",
      "For 49 neighbors, 0.800836483886 average accuracy across 7-fold cv!\n",
      "For 50 neighbors, 0.801452413138 average accuracy across 7-fold cv!\n",
      "For 51 neighbors, 0.801297808355 average accuracy across 7-fold cv!\n",
      "For 52 neighbors, 0.800682211587 average accuracy across 7-fold cv!\n",
      "For 53 neighbors, 0.800835488219 average accuracy across 7-fold cv!\n",
      "For 54 neighbors, 0.802375064937 average accuracy across 7-fold cv!\n",
      "For 55 neighbors, 0.801757475407 average accuracy across 7-fold cv!\n",
      "For 56 neighbors, 0.799756076744 average accuracy across 7-fold cv!\n",
      "For 57 neighbors, 0.800370347506 average accuracy across 7-fold cv!\n",
      "For 58 neighbors, 0.800525284417 average accuracy across 7-fold cv!\n",
      "For 59 neighbors, 0.800986277117 average accuracy across 7-fold cv!\n",
      "For 60 neighbors, 0.800986609244 average accuracy across 7-fold cv!\n",
      "For 61 neighbors, 0.798833093175 average accuracy across 7-fold cv!\n",
      "For 62 neighbors, 0.800064124223 average accuracy across 7-fold cv!\n",
      "For 63 neighbors, 0.800680053476 average accuracy across 7-fold cv!\n",
      "For 64 neighbors, 0.798830770431 average accuracy across 7-fold cv!\n",
      "For 65 neighbors, 0.798214840105 average accuracy across 7-fold cv!\n",
      "For 66 neighbors, 0.800368356532 average accuracy across 7-fold cv!\n",
      "For 67 neighbors, 0.798675668529 average accuracy across 7-fold cv!\n",
      "For 68 neighbors, 0.800213752106 average accuracy across 7-fold cv!\n",
      "For 69 neighbors, 0.799443548767 average accuracy across 7-fold cv!\n",
      "For 70 neighbors, 0.798673844333 average accuracy across 7-fold cv!\n",
      "For 71 neighbors, 0.798365298663 average accuracy across 7-fold cv!\n",
      "For 72 neighbors, 0.7997522605 average accuracy across 7-fold cv!\n",
      "For 73 neighbors, 0.800213419621 average accuracy across 7-fold cv!\n",
      "For 74 neighbors, 0.80144461709 average accuracy across 7-fold cv!\n",
      "For 75 neighbors, 0.801289846244 average accuracy across 7-fold cv!\n",
      "For 76 neighbors, 0.80128968018 average accuracy across 7-fold cv!\n",
      "For 77 neighbors, 0.800519974674 average accuracy across 7-fold cv!\n",
      "For 78 neighbors, 0.801444782796 average accuracy across 7-fold cv!\n",
      "For 79 neighbors, 0.801443786058 average accuracy across 7-fold cv!\n",
      "For 80 neighbors, 0.801597230184 average accuracy across 7-fold cv!\n",
      "For 81 neighbors, 0.802059385329 average accuracy across 7-fold cv!\n",
      "For 82 neighbors, 0.801597728375 average accuracy across 7-fold cv!\n",
      "For 83 neighbors, 0.802368097062 average accuracy across 7-fold cv!\n",
      "For 84 neighbors, 0.801906274045 average accuracy across 7-fold cv!\n",
      "For 85 neighbors, 0.802214321166 average accuracy across 7-fold cv!\n",
      "For 86 neighbors, 0.802522535424 average accuracy across 7-fold cv!\n",
      "For 87 neighbors, 0.801445943454 average accuracy across 7-fold cv!\n",
      "For 88 neighbors, 0.800983955445 average accuracy across 7-fold cv!\n",
      "For 89 neighbors, 0.801136568181 average accuracy across 7-fold cv!\n",
      "For 90 neighbors, 0.801290343719 average accuracy across 7-fold cv!\n",
      "For 91 neighbors, 0.801289845886 average accuracy across 7-fold cv!\n",
      "For 92 neighbors, 0.800365867724 average accuracy across 7-fold cv!\n",
      "For 93 neighbors, 0.800365369891 average accuracy across 7-fold cv!\n",
      "For 94 neighbors, 0.800365204185 average accuracy across 7-fold cv!\n",
      "For 95 neighbors, 0.800519477199 average accuracy across 7-fold cv!\n",
      "For 96 neighbors, 0.800366863032 average accuracy across 7-fold cv!\n",
      "For 97 neighbors, 0.800828851756 average accuracy across 7-fold cv!\n",
      "For 98 neighbors, 0.800828187502 average accuracy across 7-fold cv!\n",
      "For 99 neighbors, 0.800057819172 average accuracy across 7-fold cv!\n",
      "For 100 neighbors, 0.800674248045 average accuracy across 7-fold cv!\n"
     ]
    }
   ],
   "source": [
    "my_scores = {}\n",
    "\n",
    "for n in range(1,101):\n",
    "    knn = KNeighborsClassifier(n_neighbors=n)\n",
    "    scores = cross_val_score(knn,x, y, cv=7)\n",
    "    print 'For %s neighbors, %s average accuracy across 7-fold cv!' % (n, np.mean(scores))\n",
    "    my_scores[n] = np.mean(scores)"
   ]
  },
  {
   "cell_type": "code",
   "execution_count": 62,
   "metadata": {
    "collapsed": false
   },
   "outputs": [
    {
     "ename": "AttributeError",
     "evalue": "'dict' object has no attribute 'key'",
     "output_type": "error",
     "traceback": [
      "\u001b[0;31m---------------------------------------------------------------------------\u001b[0m",
      "\u001b[0;31mAttributeError\u001b[0m                            Traceback (most recent call last)",
      "\u001b[0;32m<ipython-input-62-60ac0b471ce9>\u001b[0m in \u001b[0;36m<module>\u001b[0;34m()\u001b[0m\n\u001b[1;32m      1\u001b[0m \u001b[0;32mimport\u001b[0m \u001b[0mmatplotlib\u001b[0m\u001b[0;34m.\u001b[0m\u001b[0mpyplot\u001b[0m \u001b[0;32mas\u001b[0m \u001b[0mplt\u001b[0m\u001b[0;34m\u001b[0m\u001b[0m\n\u001b[0;32m----> 2\u001b[0;31m \u001b[0mplt\u001b[0m\u001b[0;34m.\u001b[0m\u001b[0mscatter\u001b[0m\u001b[0;34m(\u001b[0m\u001b[0mmy_scores\u001b[0m\u001b[0;34m.\u001b[0m\u001b[0mkey\u001b[0m\u001b[0;34m(\u001b[0m\u001b[0;34m)\u001b[0m\u001b[0;34m,\u001b[0m \u001b[0mmy_scores\u001b[0m\u001b[0;34m.\u001b[0m\u001b[0mvalues\u001b[0m\u001b[0;34m(\u001b[0m\u001b[0;34m)\u001b[0m\u001b[0;34m)\u001b[0m\u001b[0;34m\u001b[0m\u001b[0m\n\u001b[0m",
      "\u001b[0;31mAttributeError\u001b[0m: 'dict' object has no attribute 'key'"
     ]
    }
   ],
   "source": [
    "import matplotlib.pyplot as plt\n",
    "plt.scatter(my_scores.key(), my_scores.values())"
   ]
  },
  {
   "cell_type": "code",
   "execution_count": null,
   "metadata": {
    "collapsed": true
   },
   "outputs": [],
   "source": []
  }
 ],
 "metadata": {
  "kernelspec": {
   "display_name": "Python [Root]",
   "language": "python",
   "name": "Python [Root]"
  },
  "language_info": {
   "codemirror_mode": {
    "name": "ipython",
    "version": 2
   },
   "file_extension": ".py",
   "mimetype": "text/x-python",
   "name": "python",
   "nbconvert_exporter": "python",
   "pygments_lexer": "ipython2",
   "version": "2.7.12"
  }
 },
 "nbformat": 4,
 "nbformat_minor": 0
}
