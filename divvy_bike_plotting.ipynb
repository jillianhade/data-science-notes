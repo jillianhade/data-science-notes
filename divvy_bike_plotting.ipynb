{
 "cells": [
  {
   "cell_type": "code",
   "execution_count": 1,
   "metadata": {
    "collapsed": true
   },
   "outputs": [],
   "source": [
    "%matplotlib inline\n",
    "import matplotlib.pyplot as plt\n",
    "import seaborn as sns \n",
    "import pandas as pd"
   ]
  },
  {
   "cell_type": "code",
   "execution_count": 2,
   "metadata": {
    "collapsed": true
   },
   "outputs": [],
   "source": [
    "import os"
   ]
  },
  {
   "cell_type": "code",
   "execution_count": 3,
   "metadata": {
    "collapsed": false
   },
   "outputs": [
    {
     "data": {
      "text/plain": [
       "u'/Users/Driz/data_sci_wk3'"
      ]
     },
     "execution_count": 3,
     "metadata": {},
     "output_type": "execute_result"
    }
   ],
   "source": [
    "%pwd"
   ]
  },
  {
   "cell_type": "code",
   "execution_count": 4,
   "metadata": {
    "collapsed": false
   },
   "outputs": [
    {
     "data": {
      "text/plain": [
       "['.bash_history',\n",
       " '.bash_profile',\n",
       " '.bash_sessions',\n",
       " '.CFUserTextEncoding',\n",
       " '.conda',\n",
       " '.continuum',\n",
       " '.DS_Store',\n",
       " '.git',\n",
       " '.gitconfig',\n",
       " '.ipynb_checkpoints',\n",
       " '.ipython',\n",
       " '.jupyter',\n",
       " '.matplotlib',\n",
       " '.ssh',\n",
       " '.Trash',\n",
       " '.viminfo',\n",
       " 'anaconda.sh',\n",
       " 'anaconda2',\n",
       " 'Applications',\n",
       " 'class_notes',\n",
       " 'data_sci_wk3',\n",
       " 'Desktop',\n",
       " 'Documents',\n",
       " 'Downloads',\n",
       " 'DSI-CHI-1',\n",
       " 'final_csv_of_divvy_rides.csv',\n",
       " 'Homework_practice.ipynb',\n",
       " 'Into to Pandas.ipynb',\n",
       " 'jills_folder',\n",
       " 'Library',\n",
       " 'Markdowns.ipynb',\n",
       " 'Movies',\n",
       " 'Music',\n",
       " 'my_new_repo',\n",
       " 'my_new_repository',\n",
       " 'Pictures',\n",
       " 'Public',\n",
       " 'seaborn-data',\n",
       " 'Untitled.ipynb',\n",
       " 'Untitled1.ipynb',\n",
       " 'Untitled2.ipynb',\n",
       " 'Untitled3.ipynb',\n",
       " 'Untitled4.ipynb',\n",
       " 'Untitled5.ipynb',\n",
       " 'Untitled6.ipynb',\n",
       " 'writeTest.csv',\n",
       " 'writeTest_newfile.csv']"
      ]
     },
     "execution_count": 4,
     "metadata": {},
     "output_type": "execute_result"
    }
   ],
   "source": [
    "os.listdir('/Users/Driz/')"
   ]
  },
  {
   "cell_type": "code",
   "execution_count": 5,
   "metadata": {
    "collapsed": false
   },
   "outputs": [
    {
     "name": "stderr",
     "output_type": "stream",
     "text": [
      "/Users/Driz/anaconda2/lib/python2.7/site-packages/IPython/core/interactiveshell.py:2723: DtypeWarning: Columns (5) have mixed types. Specify dtype option on import or set low_memory=False.\n",
      "  interactivity=interactivity, compiler=compiler, result=result)\n"
     ]
    }
   ],
   "source": [
    "data = pd.read_csv('/Users/Driz/final_csv_of_divvy_rides.csv')"
   ]
  },
  {
   "cell_type": "code",
   "execution_count": 6,
   "metadata": {
    "collapsed": false
   },
   "outputs": [
    {
     "data": {
      "text/html": [
       "<div>\n",
       "<table border=\"1\" class=\"dataframe\">\n",
       "  <thead>\n",
       "    <tr style=\"text-align: right;\">\n",
       "      <th></th>\n",
       "      <th>bikeid</th>\n",
       "      <th>birthday</th>\n",
       "      <th>birthyear</th>\n",
       "      <th>from_station_id</th>\n",
       "      <th>from_station_name</th>\n",
       "      <th>gender</th>\n",
       "      <th>starttime</th>\n",
       "      <th>stoptime</th>\n",
       "      <th>to_station_id</th>\n",
       "      <th>to_station_name</th>\n",
       "      <th>trip_id</th>\n",
       "      <th>tripduration</th>\n",
       "      <th>usertype</th>\n",
       "    </tr>\n",
       "  </thead>\n",
       "  <tbody>\n",
       "    <tr>\n",
       "      <th>0</th>\n",
       "      <td>480</td>\n",
       "      <td>NaN</td>\n",
       "      <td>NaN</td>\n",
       "      <td>85</td>\n",
       "      <td>Michigan Ave &amp; Oak St</td>\n",
       "      <td>NaN</td>\n",
       "      <td>2013-06-27 12:11</td>\n",
       "      <td>2013-06-27 12:16</td>\n",
       "      <td>28</td>\n",
       "      <td>Larrabee St &amp; Menomonee St</td>\n",
       "      <td>4118</td>\n",
       "      <td>316</td>\n",
       "      <td>Customer</td>\n",
       "    </tr>\n",
       "    <tr>\n",
       "      <th>1</th>\n",
       "      <td>77</td>\n",
       "      <td>NaN</td>\n",
       "      <td>NaN</td>\n",
       "      <td>32</td>\n",
       "      <td>Racine Ave &amp; Congress Pkwy</td>\n",
       "      <td>NaN</td>\n",
       "      <td>2013-06-27 14:44</td>\n",
       "      <td>2013-06-27 14:45</td>\n",
       "      <td>32</td>\n",
       "      <td>Racine Ave &amp; Congress Pkwy</td>\n",
       "      <td>4275</td>\n",
       "      <td>64</td>\n",
       "      <td>Customer</td>\n",
       "    </tr>\n",
       "    <tr>\n",
       "      <th>2</th>\n",
       "      <td>77</td>\n",
       "      <td>NaN</td>\n",
       "      <td>NaN</td>\n",
       "      <td>32</td>\n",
       "      <td>Racine Ave &amp; Congress Pkwy</td>\n",
       "      <td>NaN</td>\n",
       "      <td>2013-06-27 14:58</td>\n",
       "      <td>2013-06-27 15:05</td>\n",
       "      <td>19</td>\n",
       "      <td>Loomis St &amp; Taylor St</td>\n",
       "      <td>4291</td>\n",
       "      <td>433</td>\n",
       "      <td>Customer</td>\n",
       "    </tr>\n",
       "    <tr>\n",
       "      <th>3</th>\n",
       "      <td>77</td>\n",
       "      <td>NaN</td>\n",
       "      <td>NaN</td>\n",
       "      <td>19</td>\n",
       "      <td>Loomis St &amp; Taylor St</td>\n",
       "      <td>NaN</td>\n",
       "      <td>2013-06-27 15:06</td>\n",
       "      <td>2013-06-27 15:09</td>\n",
       "      <td>19</td>\n",
       "      <td>Loomis St &amp; Taylor St</td>\n",
       "      <td>4316</td>\n",
       "      <td>123</td>\n",
       "      <td>Customer</td>\n",
       "    </tr>\n",
       "    <tr>\n",
       "      <th>4</th>\n",
       "      <td>77</td>\n",
       "      <td>NaN</td>\n",
       "      <td>NaN</td>\n",
       "      <td>19</td>\n",
       "      <td>Loomis St &amp; Taylor St</td>\n",
       "      <td>NaN</td>\n",
       "      <td>2013-06-27 15:13</td>\n",
       "      <td>2013-06-27 15:27</td>\n",
       "      <td>55</td>\n",
       "      <td>Halsted St &amp; James M Rochford St</td>\n",
       "      <td>4342</td>\n",
       "      <td>852</td>\n",
       "      <td>Customer</td>\n",
       "    </tr>\n",
       "  </tbody>\n",
       "</table>\n",
       "</div>"
      ],
      "text/plain": [
       "   bikeid  birthday  birthyear  from_station_id           from_station_name  \\\n",
       "0     480       NaN        NaN               85       Michigan Ave & Oak St   \n",
       "1      77       NaN        NaN               32  Racine Ave & Congress Pkwy   \n",
       "2      77       NaN        NaN               32  Racine Ave & Congress Pkwy   \n",
       "3      77       NaN        NaN               19       Loomis St & Taylor St   \n",
       "4      77       NaN        NaN               19       Loomis St & Taylor St   \n",
       "\n",
       "  gender         starttime          stoptime  to_station_id  \\\n",
       "0    NaN  2013-06-27 12:11  2013-06-27 12:16             28   \n",
       "1    NaN  2013-06-27 14:44  2013-06-27 14:45             32   \n",
       "2    NaN  2013-06-27 14:58  2013-06-27 15:05             19   \n",
       "3    NaN  2013-06-27 15:06  2013-06-27 15:09             19   \n",
       "4    NaN  2013-06-27 15:13  2013-06-27 15:27             55   \n",
       "\n",
       "                    to_station_name  trip_id  tripduration  usertype  \n",
       "0        Larrabee St & Menomonee St     4118           316  Customer  \n",
       "1        Racine Ave & Congress Pkwy     4275            64  Customer  \n",
       "2             Loomis St & Taylor St     4291           433  Customer  \n",
       "3             Loomis St & Taylor St     4316           123  Customer  \n",
       "4  Halsted St & James M Rochford St     4342           852  Customer  "
      ]
     },
     "execution_count": 6,
     "metadata": {},
     "output_type": "execute_result"
    }
   ],
   "source": [
    "data.head()"
   ]
  },
  {
   "cell_type": "code",
   "execution_count": 7,
   "metadata": {
    "collapsed": false
   },
   "outputs": [
    {
     "data": {
      "text/plain": [
       "872     2820\n",
       "478     2814\n",
       "267     2757\n",
       "94      2745\n",
       "1329    2739\n",
       "441     2728\n",
       "417     2721\n",
       "686     2714\n",
       "225     2701\n",
       "909     2698\n",
       "Name: bikeid, dtype: int64"
      ]
     },
     "execution_count": 7,
     "metadata": {},
     "output_type": "execute_result"
    }
   ],
   "source": [
    "data['bikeid'].value_counts().head(10)"
   ]
  },
  {
   "cell_type": "code",
   "execution_count": 8,
   "metadata": {
    "collapsed": false
   },
   "outputs": [
    {
     "data": {
      "text/plain": [
       "Streeter Dr & Illinois St       137683\n",
       "Lake Shore Dr & Monroe St       124674\n",
       "Clinton St & Washington Blvd    112140\n",
       "Theater on the Lake             108426\n",
       "Michigan Ave & Oak St           101762\n",
       "Millennium Park                 100545\n",
       "Lake Shore Dr & North Blvd       90112\n",
       "Canal St & Adams St              88121\n",
       "Canal St & Madison St            86289\n",
       "Clinton St & Madison St          71598\n",
       "Name: from_station_name, dtype: int64"
      ]
     },
     "execution_count": 8,
     "metadata": {},
     "output_type": "execute_result"
    }
   ],
   "source": [
    "data['from_station_name'].value_counts().head(10)"
   ]
  },
  {
   "cell_type": "code",
   "execution_count": 9,
   "metadata": {
    "collapsed": false
   },
   "outputs": [
    {
     "data": {
      "text/plain": [
       "Streeter Dr & Illinois St       164101\n",
       "Lake Shore Dr & Monroe St       122493\n",
       "Theater on the Lake             115330\n",
       "Clinton St & Washington Blvd    110611\n",
       "Millennium Park                 110085\n",
       "Michigan Ave & Oak St           109586\n",
       "Lake Shore Dr & North Blvd      101364\n",
       "Canal St & Madison St            96899\n",
       "Canal St & Adams St              85913\n",
       "McClurg Ct & Illinois St         69345\n",
       "Name: to_station_name, dtype: int64"
      ]
     },
     "execution_count": 9,
     "metadata": {},
     "output_type": "execute_result"
    }
   ],
   "source": [
    "data['to_station_name'].value_counts().head(10)"
   ]
  },
  {
   "cell_type": "code",
   "execution_count": 11,
   "metadata": {
    "collapsed": false
   },
   "outputs": [],
   "source": [
    "departure_arrival = pd.DataFrame(data['from_station_name'].value_counts()).join(data['to_station_name'].value_counts())"
   ]
  },
  {
   "cell_type": "code",
   "execution_count": 12,
   "metadata": {
    "collapsed": true
   },
   "outputs": [],
   "source": [
    "departure_arrival['net_departures'] = departure_arrival['from_station_name'] - departure_arrival['to_station_name']"
   ]
  },
  {
   "cell_type": "code",
   "execution_count": 14,
   "metadata": {
    "collapsed": false
   },
   "outputs": [
    {
     "data": {
      "text/html": [
       "<div>\n",
       "<table border=\"1\" class=\"dataframe\">\n",
       "  <thead>\n",
       "    <tr style=\"text-align: right;\">\n",
       "      <th></th>\n",
       "      <th>from_station_name</th>\n",
       "      <th>to_station_name</th>\n",
       "      <th>net_departures</th>\n",
       "    </tr>\n",
       "  </thead>\n",
       "  <tbody>\n",
       "    <tr>\n",
       "      <th>Columbus Dr &amp; Randolph St</th>\n",
       "      <td>70126</td>\n",
       "      <td>47723.0</td>\n",
       "      <td>22403.0</td>\n",
       "    </tr>\n",
       "    <tr>\n",
       "      <th>Canal St &amp; Monroe St</th>\n",
       "      <td>34496</td>\n",
       "      <td>22198.0</td>\n",
       "      <td>12298.0</td>\n",
       "    </tr>\n",
       "    <tr>\n",
       "      <th>Clinton St &amp; Madison St</th>\n",
       "      <td>71598</td>\n",
       "      <td>63789.0</td>\n",
       "      <td>7809.0</td>\n",
       "    </tr>\n",
       "    <tr>\n",
       "      <th>Stetson Ave &amp; South Water St</th>\n",
       "      <td>31514</td>\n",
       "      <td>23837.0</td>\n",
       "      <td>7677.0</td>\n",
       "    </tr>\n",
       "    <tr>\n",
       "      <th>Desplaines St &amp; Kinzie St</th>\n",
       "      <td>46823</td>\n",
       "      <td>41509.0</td>\n",
       "      <td>5314.0</td>\n",
       "    </tr>\n",
       "  </tbody>\n",
       "</table>\n",
       "</div>"
      ],
      "text/plain": [
       "                              from_station_name  to_station_name  \\\n",
       "Columbus Dr & Randolph St                 70126          47723.0   \n",
       "Canal St & Monroe St                      34496          22198.0   \n",
       "Clinton St & Madison St                   71598          63789.0   \n",
       "Stetson Ave & South Water St              31514          23837.0   \n",
       "Desplaines St & Kinzie St                 46823          41509.0   \n",
       "\n",
       "                              net_departures  \n",
       "Columbus Dr & Randolph St            22403.0  \n",
       "Canal St & Monroe St                 12298.0  \n",
       "Clinton St & Madison St               7809.0  \n",
       "Stetson Ave & South Water St          7677.0  \n",
       "Desplaines St & Kinzie St             5314.0  "
      ]
     },
     "execution_count": 14,
     "metadata": {},
     "output_type": "execute_result"
    }
   ],
   "source": [
    "departure_arrival.sort_values(by='net_departures', ascending=False).head()"
   ]
  },
  {
   "cell_type": "code",
   "execution_count": 15,
   "metadata": {
    "collapsed": false
   },
   "outputs": [
    {
     "data": {
      "text/html": [
       "<div>\n",
       "<table border=\"1\" class=\"dataframe\">\n",
       "  <thead>\n",
       "    <tr style=\"text-align: right;\">\n",
       "      <th></th>\n",
       "      <th>from_station_name</th>\n",
       "      <th>to_station_name</th>\n",
       "      <th>net_departures</th>\n",
       "    </tr>\n",
       "  </thead>\n",
       "  <tbody>\n",
       "    <tr>\n",
       "      <th>Streeter Dr &amp; Illinois St</th>\n",
       "      <td>137683</td>\n",
       "      <td>164101.0</td>\n",
       "      <td>-26418.0</td>\n",
       "    </tr>\n",
       "    <tr>\n",
       "      <th>Lake Shore Dr &amp; North Blvd</th>\n",
       "      <td>90112</td>\n",
       "      <td>101364.0</td>\n",
       "      <td>-11252.0</td>\n",
       "    </tr>\n",
       "    <tr>\n",
       "      <th>Canal St &amp; Madison St</th>\n",
       "      <td>86289</td>\n",
       "      <td>96899.0</td>\n",
       "      <td>-10610.0</td>\n",
       "    </tr>\n",
       "    <tr>\n",
       "      <th>Millennium Park</th>\n",
       "      <td>100545</td>\n",
       "      <td>110085.0</td>\n",
       "      <td>-9540.0</td>\n",
       "    </tr>\n",
       "    <tr>\n",
       "      <th>Michigan Ave &amp; Oak St</th>\n",
       "      <td>101762</td>\n",
       "      <td>109586.0</td>\n",
       "      <td>-7824.0</td>\n",
       "    </tr>\n",
       "  </tbody>\n",
       "</table>\n",
       "</div>"
      ],
      "text/plain": [
       "                            from_station_name  to_station_name  net_departures\n",
       "Streeter Dr & Illinois St              137683         164101.0        -26418.0\n",
       "Lake Shore Dr & North Blvd              90112         101364.0        -11252.0\n",
       "Canal St & Madison St                   86289          96899.0        -10610.0\n",
       "Millennium Park                        100545         110085.0         -9540.0\n",
       "Michigan Ave & Oak St                  101762         109586.0         -7824.0"
      ]
     },
     "execution_count": 15,
     "metadata": {},
     "output_type": "execute_result"
    }
   ],
   "source": [
    "departure_arrival.sort_values(by='net_departures').head()"
   ]
  },
  {
   "cell_type": "code",
   "execution_count": 16,
   "metadata": {
    "collapsed": false
   },
   "outputs": [
    {
     "data": {
      "text/plain": [
       "(array([ 389.,  101.,   47.,   22.,   11.,    2.,    3.,    3.,    1.,    2.]),\n",
       " array([  1.00000000e+00,   1.37692000e+04,   2.75374000e+04,\n",
       "          4.13056000e+04,   5.50738000e+04,   6.88420000e+04,\n",
       "          8.26102000e+04,   9.63784000e+04,   1.10146600e+05,\n",
       "          1.23914800e+05,   1.37683000e+05]),\n",
       " <a list of 10 Patch objects>)"
      ]
     },
     "execution_count": 16,
     "metadata": {},
     "output_type": "execute_result"
    },
    {
     "data": {
      "image/png": "[encoded data removed]",
      "text/plain": [
       "<matplotlib.figure.Figure at 0x114914110>"
      ]
     },
     "metadata": {},
     "output_type": "display_data"
    }
   ],
   "source": [
    "plt.hist(departure_arrival['from_station_name'])"
   ]
  },
  {
   "cell_type": "code",
   "execution_count": 17,
   "metadata": {
    "collapsed": false
   },
   "outputs": [
    {
     "data": {
      "text/plain": [
       "from_station_name    581\n",
       "to_station_name      579\n",
       "net_departures       579\n",
       "dtype: int64"
      ]
     },
     "execution_count": 17,
     "metadata": {},
     "output_type": "execute_result"
    }
   ],
   "source": [
    "departure_arrival.count()"
   ]
  },
  {
   "cell_type": "code",
   "execution_count": 19,
   "metadata": {
    "collapsed": false
   },
   "outputs": [],
   "source": [
    "departure_arrival.fillna(0, inplace=True)"
   ]
  },
  {
   "cell_type": "code",
   "execution_count": 20,
   "metadata": {
    "collapsed": false
   },
   "outputs": [
    {
     "data": {
      "text/plain": [
       "from_station_name    581\n",
       "to_station_name      581\n",
       "net_departures       581\n",
       "dtype: int64"
      ]
     },
     "execution_count": 20,
     "metadata": {},
     "output_type": "execute_result"
    }
   ],
   "source": [
    "departure_arrival.count()"
   ]
  },
  {
   "cell_type": "code",
   "execution_count": 21,
   "metadata": {
    "collapsed": true
   },
   "outputs": [],
   "source": [
    "departure_arrival['net_departures'] = departure_arrival['from_station_name'] - departure_arrival['to_station_name']"
   ]
  },
  {
   "cell_type": "code",
   "execution_count": 23,
   "metadata": {
    "collapsed": false
   },
   "outputs": [
    {
     "data": {
      "image/png": "[encoded data removed]",
      "text/plain": [
       "<matplotlib.figure.Figure at 0x117bb7d10>"
      ]
     },
     "metadata": {},
     "output_type": "display_data"
    }
   ],
   "source": [
    "plt.hist(departure_arrival['from_station_name'], bins=100);"
   ]
  },
  {
   "cell_type": "code",
   "execution_count": 24,
   "metadata": {
    "collapsed": false
   },
   "outputs": [
    {
     "data": {
      "text/html": [
       "<div>\n",
       "<table border=\"1\" class=\"dataframe\">\n",
       "  <thead>\n",
       "    <tr style=\"text-align: right;\">\n",
       "      <th></th>\n",
       "      <th>from_station_name</th>\n",
       "      <th>to_station_name</th>\n",
       "      <th>net_departures</th>\n",
       "    </tr>\n",
       "  </thead>\n",
       "  <tbody>\n",
       "    <tr>\n",
       "      <th>Elizabeth St &amp; 47th St</th>\n",
       "      <td>1</td>\n",
       "      <td>0.0</td>\n",
       "      <td>1.0</td>\n",
       "    </tr>\n",
       "    <tr>\n",
       "      <th>Normal Ave &amp; 72nd St</th>\n",
       "      <td>1</td>\n",
       "      <td>1.0</td>\n",
       "      <td>0.0</td>\n",
       "    </tr>\n",
       "    <tr>\n",
       "      <th>Central St Metra</th>\n",
       "      <td>1</td>\n",
       "      <td>1.0</td>\n",
       "      <td>0.0</td>\n",
       "    </tr>\n",
       "    <tr>\n",
       "      <th>Racine Ave &amp; Garfield Blvd</th>\n",
       "      <td>1</td>\n",
       "      <td>1.0</td>\n",
       "      <td>0.0</td>\n",
       "    </tr>\n",
       "    <tr>\n",
       "      <th>Ashland Ave &amp; 69th St</th>\n",
       "      <td>1</td>\n",
       "      <td>3.0</td>\n",
       "      <td>-2.0</td>\n",
       "    </tr>\n",
       "  </tbody>\n",
       "</table>\n",
       "</div>"
      ],
      "text/plain": [
       "                            from_station_name  to_station_name  net_departures\n",
       "Elizabeth St & 47th St                      1              0.0             1.0\n",
       "Normal Ave & 72nd St                        1              1.0             0.0\n",
       "Central St Metra                            1              1.0             0.0\n",
       "Racine Ave & Garfield Blvd                  1              1.0             0.0\n",
       "Ashland Ave & 69th St                       1              3.0            -2.0"
      ]
     },
     "execution_count": 24,
     "metadata": {},
     "output_type": "execute_result"
    }
   ],
   "source": [
    "departure_arrival.sort_values(by='from_station_name', ascending=True).head()"
   ]
  },
  {
   "cell_type": "code",
   "execution_count": 25,
   "metadata": {
    "collapsed": false
   },
   "outputs": [
    {
     "data": {
      "text/html": [
       "<div>\n",
       "<table border=\"1\" class=\"dataframe\">\n",
       "  <thead>\n",
       "    <tr style=\"text-align: right;\">\n",
       "      <th></th>\n",
       "      <th>from_station_name</th>\n",
       "      <th>to_station_name</th>\n",
       "      <th>net_departures</th>\n",
       "    </tr>\n",
       "  </thead>\n",
       "  <tbody>\n",
       "    <tr>\n",
       "      <th>Elizabeth St &amp; 47th St</th>\n",
       "      <td>1</td>\n",
       "      <td>0.0</td>\n",
       "      <td>1.0</td>\n",
       "    </tr>\n",
       "    <tr>\n",
       "      <th>Marion St &amp; South Blvd</th>\n",
       "      <td>3</td>\n",
       "      <td>0.0</td>\n",
       "      <td>3.0</td>\n",
       "    </tr>\n",
       "    <tr>\n",
       "      <th>State St &amp; 76th St</th>\n",
       "      <td>1</td>\n",
       "      <td>1.0</td>\n",
       "      <td>0.0</td>\n",
       "    </tr>\n",
       "    <tr>\n",
       "      <th>Throop St &amp; 52nd St</th>\n",
       "      <td>1</td>\n",
       "      <td>1.0</td>\n",
       "      <td>0.0</td>\n",
       "    </tr>\n",
       "    <tr>\n",
       "      <th>Racine Ave &amp; Garfield Blvd</th>\n",
       "      <td>1</td>\n",
       "      <td>1.0</td>\n",
       "      <td>0.0</td>\n",
       "    </tr>\n",
       "  </tbody>\n",
       "</table>\n",
       "</div>"
      ],
      "text/plain": [
       "                            from_station_name  to_station_name  net_departures\n",
       "Elizabeth St & 47th St                      1              0.0             1.0\n",
       "Marion St & South Blvd                      3              0.0             3.0\n",
       "State St & 76th St                          1              1.0             0.0\n",
       "Throop St & 52nd St                         1              1.0             0.0\n",
       "Racine Ave & Garfield Blvd                  1              1.0             0.0"
      ]
     },
     "execution_count": 25,
     "metadata": {},
     "output_type": "execute_result"
    }
   ],
   "source": [
    "departure_arrival.sort_values(by='to_station_name', ascending=True).head()"
   ]
  },
  {
   "cell_type": "code",
   "execution_count": null,
   "metadata": {
    "collapsed": true
   },
   "outputs": [],
   "source": [
    "departure_arrival.sort_values(by='to_station_name', ascending=True).head()"
   ]
  },
  {
   "cell_type": "code",
   "execution_count": 26,
   "metadata": {
    "collapsed": false
   },
   "outputs": [
    {
     "data": {
      "image/png": "[encoded data removed]",
      "text/plain": [
       "<matplotlib.figure.Figure at 0x1184c7790>"
      ]
     },
     "metadata": {},
     "output_type": "display_data"
    }
   ],
   "source": [
    "plt.hist(departure_arrival['net_departures'], bins=100);"
   ]
  },
  {
   "cell_type": "code",
   "execution_count": 27,
   "metadata": {
    "collapsed": false
   },
   "outputs": [
    {
     "data": {
      "text/plain": [
       "count      581.000000\n",
       "mean         0.001721\n",
       "std       2082.847606\n",
       "min     -26418.000000\n",
       "25%       -217.000000\n",
       "50%          0.000000\n",
       "75%        222.000000\n",
       "max      22403.000000\n",
       "Name: net_departures, dtype: float64"
      ]
     },
     "execution_count": 27,
     "metadata": {},
     "output_type": "execute_result"
    }
   ],
   "source": [
    "departure_arrival['net_departures'].describe()"
   ]
  },
  {
   "cell_type": "code",
   "execution_count": 28,
   "metadata": {
    "collapsed": false
   },
   "outputs": [
    {
     "data": {
      "text/plain": [
       "Index([u'bikeid', u'birthday', u'birthyear', u'from_station_id',\n",
       "       u'from_station_name', u'gender', u'starttime', u'stoptime',\n",
       "       u'to_station_id', u'to_station_name', u'trip_id', u'tripduration',\n",
       "       u'usertype'],\n",
       "      dtype='object')"
      ]
     },
     "execution_count": 28,
     "metadata": {},
     "output_type": "execute_result"
    }
   ],
   "source": [
    "data.columns"
   ]
  },
  {
   "cell_type": "code",
   "execution_count": 30,
   "metadata": {
    "collapsed": false
   },
   "outputs": [
    {
     "data": {
      "text/plain": [
       "count    7.867601e+06\n",
       "mean     1.035279e+03\n",
       "std      2.063022e+03\n",
       "min      6.000000e+01\n",
       "25%      4.220000e+02\n",
       "50%      7.300000e+02\n",
       "75%      1.216000e+03\n",
       "max      8.639900e+04\n",
       "Name: tripduration, dtype: float64"
      ]
     },
     "execution_count": 30,
     "metadata": {},
     "output_type": "execute_result"
    }
   ],
   "source": [
    "data['tripduration'].describe()"
   ]
  },
  {
   "cell_type": "code",
   "execution_count": 33,
   "metadata": {
    "collapsed": false
   },
   "outputs": [
    {
     "data": {
      "text/plain": [
       "0"
      ]
     },
     "execution_count": 33,
     "metadata": {},
     "output_type": "execute_result"
    }
   ],
   "source": [
    "#tells you if there are missing data in column\n",
    "data['tripduration'].isnull().sum()"
   ]
  },
  {
   "cell_type": "code",
   "execution_count": 34,
   "metadata": {
    "collapsed": false
   },
   "outputs": [
    {
     "data": {
      "text/plain": [
       "False"
      ]
     },
     "execution_count": 34,
     "metadata": {},
     "output_type": "execute_result"
    }
   ],
   "source": [
    "#tells you if there are missing data in column\n",
    "data['tripduration'].isnull().any()"
   ]
  },
  {
   "cell_type": "code",
   "execution_count": 39,
   "metadata": {
    "collapsed": false
   },
   "outputs": [
    {
     "data": {
      "image/png": "[encoded data removed]",
      "text/plain": [
       "<matplotlib.figure.Figure at 0x1189679d0>"
      ]
     },
     "metadata": {},
     "output_type": "display_data"
    }
   ],
   "source": [
    "plt.hist(data['tripduration'], bins=100);"
   ]
  },
  {
   "cell_type": "code",
   "execution_count": 38,
   "metadata": {
    "collapsed": false
   },
   "outputs": [
    {
     "data": {
      "text/plain": [
       "166.66666666666666"
      ]
     },
     "execution_count": 38,
     "metadata": {},
     "output_type": "execute_result"
    }
   ],
   "source": [
    "10000 / 60.0"
   ]
  },
  {
   "cell_type": "code",
   "execution_count": 40,
   "metadata": {
    "collapsed": false
   },
   "outputs": [
    {
     "data": {
      "text/plain": [
       "1500.0"
      ]
     },
     "execution_count": 40,
     "metadata": {},
     "output_type": "execute_result"
    }
   ],
   "source": [
    "90000 / 60.0"
   ]
  },
  {
   "cell_type": "code",
   "execution_count": 41,
   "metadata": {
    "collapsed": false
   },
   "outputs": [
    {
     "data": {
      "text/plain": [
       "1800"
      ]
     },
     "execution_count": 41,
     "metadata": {},
     "output_type": "execute_result"
    }
   ],
   "source": [
    "30 * 60"
   ]
  },
  {
   "cell_type": "code",
   "execution_count": 43,
   "metadata": {
    "collapsed": false
   },
   "outputs": [
    {
     "data": {
      "text/plain": [
       "(0, 1800)"
      ]
     },
     "execution_count": 43,
     "metadata": {},
     "output_type": "execute_result"
    },
    {
     "data": {
      "image/png": "[encoded data removed]",
      "text/plain": [
       "<matplotlib.figure.Figure at 0x119f48810>"
      ]
     },
     "metadata": {},
     "output_type": "display_data"
    }
   ],
   "source": [
    "plt.hist(data['tripduration'], bins=100)\n",
    "plt.xlim(0,1800)"
   ]
  },
  {
   "cell_type": "code",
   "execution_count": null,
   "metadata": {
    "collapsed": true
   },
   "outputs": [],
   "source": [
    "plt.hist(data['tripduration'], bins=100)"
   ]
  },
  {
   "cell_type": "code",
   "execution_count": 47,
   "metadata": {
    "collapsed": false
   },
   "outputs": [
    {
     "data": {
      "text/plain": [
       "0           316\n",
       "1            64\n",
       "2           433\n",
       "3           123\n",
       "4           852\n",
       "6          1094\n",
       "7          1020\n",
       "9           653\n",
       "10         1738\n",
       "12         1712\n",
       "13          996\n",
       "14          818\n",
       "16          730\n",
       "17         1292\n",
       "18         1511\n",
       "19         1512\n",
       "20         1125\n",
       "21          964\n",
       "22          972\n",
       "23          977\n",
       "26         1758\n",
       "27          730\n",
       "30         1117\n",
       "31          980\n",
       "32         1642\n",
       "35          423\n",
       "38          944\n",
       "39         1656\n",
       "40          736\n",
       "41          223\n",
       "           ... \n",
       "7867571     871\n",
       "7867572    1698\n",
       "7867573     522\n",
       "7867574    1320\n",
       "7867575    1335\n",
       "7867576    1707\n",
       "7867577     469\n",
       "7867578    1254\n",
       "7867579    1178\n",
       "7867580     404\n",
       "7867581    1652\n",
       "7867582    1322\n",
       "7867583    1342\n",
       "7867584     423\n",
       "7867585     117\n",
       "7867586     372\n",
       "7867587     381\n",
       "7867588     282\n",
       "7867589     253\n",
       "7867590     609\n",
       "7867591    1540\n",
       "7867592    1613\n",
       "7867593     721\n",
       "7867594     704\n",
       "7867595     590\n",
       "7867596     484\n",
       "7867597     512\n",
       "7867598     744\n",
       "7867599     615\n",
       "7867600     508\n",
       "Name: tripduration, dtype: int64"
      ]
     },
     "execution_count": 47,
     "metadata": {},
     "output_type": "execute_result"
    }
   ],
   "source": [
    "#another way to subset data\n",
    "data[(data['tripduration'] <= 1800.0)]['tripduration']"
   ]
  },
  {
   "cell_type": "code",
   "execution_count": 53,
   "metadata": {
    "collapsed": false
   },
   "outputs": [
    {
     "data": {
      "image/png": "[encoded data removed]",
      "text/plain": [
       "<matplotlib.figure.Figure at 0x118773cd0>"
      ]
     },
     "metadata": {},
     "output_type": "display_data"
    }
   ],
   "source": [
    "plt.hist(data[(data['tripduration'] <= 1800.0)]['tripduration'], bins=100);"
   ]
  },
  {
   "cell_type": "code",
   "execution_count": 55,
   "metadata": {
    "collapsed": false
   },
   "outputs": [
    {
     "data": {
      "image/png": "[encoded data removed]",
      "text/plain": [
       "<matplotlib.figure.Figure at 0x119989c50>"
      ]
     },
     "metadata": {},
     "output_type": "display_data"
    }
   ],
   "source": [
    "plt.hist(data[(data['tripduration'] <= 1800.0)]['tripduration'], bins=100);\n",
    "plt.hist(data[(data['tripduration'] > 1800.0) & (data['tripduration'] <= 3600.0)]['tripduration'], \n",
    "         bins=100, color='g');"
   ]
  },
  {
   "cell_type": "code",
   "execution_count": 72,
   "metadata": {
    "collapsed": true
   },
   "outputs": [],
   "source": [
    "under_30 = data[(data['tripduration'] <= 1800.0)]['tripduration']\n",
    "over_30 = data[(data['tripduration'] > 1800.0) & (data['tripduration'] <= 3600.0)]['tripduration']"
   ]
  },
  {
   "cell_type": "code",
   "execution_count": 73,
   "metadata": {
    "collapsed": true
   },
   "outputs": [],
   "source": [
    "import numpy as np"
   ]
  },
  {
   "cell_type": "code",
   "execution_count": 76,
   "metadata": {
    "collapsed": false
   },
   "outputs": [
    {
     "data": {
      "image/png": "[encoded data removed]",
      "text/plain": [
       "<matplotlib.figure.Figure at 0x11a06c710>"
      ]
     },
     "metadata": {},
     "output_type": "display_data"
    }
   ],
   "source": [
    "plt.hist(under_30, bins=range(0, 1900, 10), color='g')\n",
    "plt.hist(over_30, bins=range(1800, 3700, 10) , color='b');"
   ]
  },
  {
   "cell_type": "code",
   "execution_count": 77,
   "metadata": {
    "collapsed": false
   },
   "outputs": [
    {
     "data": {
      "text/plain": [
       "Subscriber    5466758\n",
       "Customer      2400700\n",
       "Dependent         143\n",
       "Name: usertype, dtype: int64"
      ]
     },
     "execution_count": 77,
     "metadata": {},
     "output_type": "execute_result"
    }
   ],
   "source": [
    "data['usertype'].value_counts()"
   ]
  },
  {
   "cell_type": "code",
   "execution_count": 79,
   "metadata": {
    "collapsed": false
   },
   "outputs": [],
   "source": [
    "no_dependents = data.copy()\n",
    "no_dependents = no_dependents[(no_dependents['usertype'] != 'Dependent')]"
   ]
  },
  {
   "cell_type": "code",
   "execution_count": 81,
   "metadata": {
    "collapsed": false
   },
   "outputs": [
    {
     "data": {
      "text/plain": [
       "bikeid               7867458\n",
       "birthday              402909\n",
       "birthyear            5063774\n",
       "from_station_id      7867458\n",
       "from_station_name    7867458\n",
       "gender               5466497\n",
       "starttime            7867458\n",
       "stoptime             7867458\n",
       "to_station_id        7867458\n",
       "to_station_name      7867458\n",
       "trip_id              7867458\n",
       "tripduration         7867458\n",
       "usertype             7867458\n",
       "dtype: int64"
      ]
     },
     "execution_count": 81,
     "metadata": {},
     "output_type": "execute_result"
    }
   ],
   "source": [
    "no_dependents.count()"
   ]
  },
  {
   "cell_type": "code",
   "execution_count": 82,
   "metadata": {
    "collapsed": false
   },
   "outputs": [
    {
     "data": {
      "text/plain": [
       "Subscriber    5466758\n",
       "Customer      2400700\n",
       "Name: usertype, dtype: int64"
      ]
     },
     "execution_count": 82,
     "metadata": {},
     "output_type": "execute_result"
    }
   ],
   "source": [
    "no_dependents['usertype'].value_counts()"
   ]
  },
  {
   "cell_type": "code",
   "execution_count": 83,
   "metadata": {
    "collapsed": true
   },
   "outputs": [],
   "source": [
    "import math\n",
    "no_dependents['minutes'] = no_dependents['tripduration'].apply(lambda x: math.floor (x/60.0))"
   ]
  },
  {
   "cell_type": "code",
   "execution_count": 84,
   "metadata": {
    "collapsed": false
   },
   "outputs": [
    {
     "data": {
      "text/plain": [
       "count    7.867458e+06\n",
       "mean     1.676345e+01\n",
       "std      3.438507e+01\n",
       "min      1.000000e+00\n",
       "25%      7.000000e+00\n",
       "50%      1.200000e+01\n",
       "75%      2.000000e+01\n",
       "max      1.439000e+03\n",
       "Name: minutes, dtype: float64"
      ]
     },
     "execution_count": 84,
     "metadata": {},
     "output_type": "execute_result"
    }
   ],
   "source": [
    "no_dependents['minutes'].describe()"
   ]
  },
  {
   "cell_type": "code",
   "execution_count": 86,
   "metadata": {
    "collapsed": false
   },
   "outputs": [
    {
     "data": {
      "text/plain": [
       "0     5.0\n",
       "1     1.0\n",
       "2     7.0\n",
       "3     2.0\n",
       "4    14.0\n",
       "Name: minutes, dtype: float64"
      ]
     },
     "execution_count": 86,
     "metadata": {},
     "output_type": "execute_result"
    }
   ],
   "source": [
    "no_dependents['minutes'].head()"
   ]
  },
  {
   "cell_type": "code",
   "execution_count": 87,
   "metadata": {
    "collapsed": false
   },
   "outputs": [
    {
     "data": {
      "text/html": [
       "<div>\n",
       "<table border=\"1\" class=\"dataframe\">\n",
       "  <thead>\n",
       "    <tr style=\"text-align: right;\">\n",
       "      <th></th>\n",
       "      <th>Customer</th>\n",
       "      <th>Subscriber</th>\n",
       "    </tr>\n",
       "  </thead>\n",
       "  <tbody>\n",
       "    <tr>\n",
       "      <th>0</th>\n",
       "      <td>1.0</td>\n",
       "      <td>0.0</td>\n",
       "    </tr>\n",
       "    <tr>\n",
       "      <th>1</th>\n",
       "      <td>1.0</td>\n",
       "      <td>0.0</td>\n",
       "    </tr>\n",
       "    <tr>\n",
       "      <th>2</th>\n",
       "      <td>1.0</td>\n",
       "      <td>0.0</td>\n",
       "    </tr>\n",
       "    <tr>\n",
       "      <th>3</th>\n",
       "      <td>1.0</td>\n",
       "      <td>0.0</td>\n",
       "    </tr>\n",
       "    <tr>\n",
       "      <th>4</th>\n",
       "      <td>1.0</td>\n",
       "      <td>0.0</td>\n",
       "    </tr>\n",
       "  </tbody>\n",
       "</table>\n",
       "</div>"
      ],
      "text/plain": [
       "   Customer  Subscriber\n",
       "0       1.0         0.0\n",
       "1       1.0         0.0\n",
       "2       1.0         0.0\n",
       "3       1.0         0.0\n",
       "4       1.0         0.0"
      ]
     },
     "execution_count": 87,
     "metadata": {},
     "output_type": "execute_result"
    }
   ],
   "source": [
    "usertypes = pd.get_dummies(no_dependents['usertype'])\n",
    "usertypes.head()"
   ]
  },
  {
   "cell_type": "code",
   "execution_count": 88,
   "metadata": {
    "collapsed": false
   },
   "outputs": [
    {
     "data": {
      "text/html": [
       "<div>\n",
       "<table border=\"1\" class=\"dataframe\">\n",
       "  <thead>\n",
       "    <tr style=\"text-align: right;\">\n",
       "      <th></th>\n",
       "      <th>bikeid</th>\n",
       "      <th>birthday</th>\n",
       "      <th>birthyear</th>\n",
       "      <th>from_station_id</th>\n",
       "      <th>from_station_name</th>\n",
       "      <th>gender</th>\n",
       "      <th>starttime</th>\n",
       "      <th>stoptime</th>\n",
       "      <th>to_station_id</th>\n",
       "      <th>to_station_name</th>\n",
       "      <th>trip_id</th>\n",
       "      <th>tripduration</th>\n",
       "      <th>usertype</th>\n",
       "      <th>minutes</th>\n",
       "      <th>Customer</th>\n",
       "      <th>Subscriber</th>\n",
       "    </tr>\n",
       "  </thead>\n",
       "  <tbody>\n",
       "    <tr>\n",
       "      <th>0</th>\n",
       "      <td>480</td>\n",
       "      <td>NaN</td>\n",
       "      <td>NaN</td>\n",
       "      <td>85</td>\n",
       "      <td>Michigan Ave &amp; Oak St</td>\n",
       "      <td>NaN</td>\n",
       "      <td>2013-06-27 12:11</td>\n",
       "      <td>2013-06-27 12:16</td>\n",
       "      <td>28</td>\n",
       "      <td>Larrabee St &amp; Menomonee St</td>\n",
       "      <td>4118</td>\n",
       "      <td>316</td>\n",
       "      <td>Customer</td>\n",
       "      <td>5.0</td>\n",
       "      <td>1.0</td>\n",
       "      <td>0.0</td>\n",
       "    </tr>\n",
       "    <tr>\n",
       "      <th>1</th>\n",
       "      <td>77</td>\n",
       "      <td>NaN</td>\n",
       "      <td>NaN</td>\n",
       "      <td>32</td>\n",
       "      <td>Racine Ave &amp; Congress Pkwy</td>\n",
       "      <td>NaN</td>\n",
       "      <td>2013-06-27 14:44</td>\n",
       "      <td>2013-06-27 14:45</td>\n",
       "      <td>32</td>\n",
       "      <td>Racine Ave &amp; Congress Pkwy</td>\n",
       "      <td>4275</td>\n",
       "      <td>64</td>\n",
       "      <td>Customer</td>\n",
       "      <td>1.0</td>\n",
       "      <td>1.0</td>\n",
       "      <td>0.0</td>\n",
       "    </tr>\n",
       "    <tr>\n",
       "      <th>2</th>\n",
       "      <td>77</td>\n",
       "      <td>NaN</td>\n",
       "      <td>NaN</td>\n",
       "      <td>32</td>\n",
       "      <td>Racine Ave &amp; Congress Pkwy</td>\n",
       "      <td>NaN</td>\n",
       "      <td>2013-06-27 14:58</td>\n",
       "      <td>2013-06-27 15:05</td>\n",
       "      <td>19</td>\n",
       "      <td>Loomis St &amp; Taylor St</td>\n",
       "      <td>4291</td>\n",
       "      <td>433</td>\n",
       "      <td>Customer</td>\n",
       "      <td>7.0</td>\n",
       "      <td>1.0</td>\n",
       "      <td>0.0</td>\n",
       "    </tr>\n",
       "    <tr>\n",
       "      <th>3</th>\n",
       "      <td>77</td>\n",
       "      <td>NaN</td>\n",
       "      <td>NaN</td>\n",
       "      <td>19</td>\n",
       "      <td>Loomis St &amp; Taylor St</td>\n",
       "      <td>NaN</td>\n",
       "      <td>2013-06-27 15:06</td>\n",
       "      <td>2013-06-27 15:09</td>\n",
       "      <td>19</td>\n",
       "      <td>Loomis St &amp; Taylor St</td>\n",
       "      <td>4316</td>\n",
       "      <td>123</td>\n",
       "      <td>Customer</td>\n",
       "      <td>2.0</td>\n",
       "      <td>1.0</td>\n",
       "      <td>0.0</td>\n",
       "    </tr>\n",
       "    <tr>\n",
       "      <th>4</th>\n",
       "      <td>77</td>\n",
       "      <td>NaN</td>\n",
       "      <td>NaN</td>\n",
       "      <td>19</td>\n",
       "      <td>Loomis St &amp; Taylor St</td>\n",
       "      <td>NaN</td>\n",
       "      <td>2013-06-27 15:13</td>\n",
       "      <td>2013-06-27 15:27</td>\n",
       "      <td>55</td>\n",
       "      <td>Halsted St &amp; James M Rochford St</td>\n",
       "      <td>4342</td>\n",
       "      <td>852</td>\n",
       "      <td>Customer</td>\n",
       "      <td>14.0</td>\n",
       "      <td>1.0</td>\n",
       "      <td>0.0</td>\n",
       "    </tr>\n",
       "  </tbody>\n",
       "</table>\n",
       "</div>"
      ],
      "text/plain": [
       "   bikeid  birthday  birthyear  from_station_id           from_station_name  \\\n",
       "0     480       NaN        NaN               85       Michigan Ave & Oak St   \n",
       "1      77       NaN        NaN               32  Racine Ave & Congress Pkwy   \n",
       "2      77       NaN        NaN               32  Racine Ave & Congress Pkwy   \n",
       "3      77       NaN        NaN               19       Loomis St & Taylor St   \n",
       "4      77       NaN        NaN               19       Loomis St & Taylor St   \n",
       "\n",
       "  gender         starttime          stoptime  to_station_id  \\\n",
       "0    NaN  2013-06-27 12:11  2013-06-27 12:16             28   \n",
       "1    NaN  2013-06-27 14:44  2013-06-27 14:45             32   \n",
       "2    NaN  2013-06-27 14:58  2013-06-27 15:05             19   \n",
       "3    NaN  2013-06-27 15:06  2013-06-27 15:09             19   \n",
       "4    NaN  2013-06-27 15:13  2013-06-27 15:27             55   \n",
       "\n",
       "                    to_station_name  trip_id  tripduration  usertype  minutes  \\\n",
       "0        Larrabee St & Menomonee St     4118           316  Customer      5.0   \n",
       "1        Racine Ave & Congress Pkwy     4275            64  Customer      1.0   \n",
       "2             Loomis St & Taylor St     4291           433  Customer      7.0   \n",
       "3             Loomis St & Taylor St     4316           123  Customer      2.0   \n",
       "4  Halsted St & James M Rochford St     4342           852  Customer     14.0   \n",
       "\n",
       "   Customer  Subscriber  \n",
       "0       1.0         0.0  \n",
       "1       1.0         0.0  \n",
       "2       1.0         0.0  \n",
       "3       1.0         0.0  \n",
       "4       1.0         0.0  "
      ]
     },
     "execution_count": 88,
     "metadata": {},
     "output_type": "execute_result"
    }
   ],
   "source": [
    "no_dependents = no_dependents.join(usertypes)\n",
    "no_dependents.head()"
   ]
  },
  {
   "cell_type": "code",
   "execution_count": 89,
   "metadata": {
    "collapsed": false
   },
   "outputs": [
    {
     "data": {
      "text/plain": [
       "minutes\n",
       "1.0       11774.0\n",
       "2.0       12694.0\n",
       "3.0       18447.0\n",
       "4.0       26803.0\n",
       "5.0       34227.0\n",
       "6.0       42052.0\n",
       "7.0       49372.0\n",
       "8.0       55955.0\n",
       "9.0       61414.0\n",
       "10.0      65174.0\n",
       "11.0      69195.0\n",
       "12.0      71453.0\n",
       "13.0      74183.0\n",
       "14.0      76212.0\n",
       "15.0      78379.0\n",
       "16.0      80074.0\n",
       "17.0      81286.0\n",
       "18.0      82635.0\n",
       "19.0      83696.0\n",
       "20.0      82701.0\n",
       "21.0      83495.0\n",
       "22.0      82488.0\n",
       "23.0      80318.0\n",
       "24.0      78146.0\n",
       "25.0      73964.0\n",
       "26.0      69233.0\n",
       "27.0      64424.0\n",
       "28.0      58353.0\n",
       "29.0      50364.0\n",
       "30.0      43830.0\n",
       "           ...   \n",
       "1410.0        4.0\n",
       "1411.0        5.0\n",
       "1412.0        2.0\n",
       "1413.0        5.0\n",
       "1414.0        3.0\n",
       "1415.0        7.0\n",
       "1416.0       11.0\n",
       "1417.0        4.0\n",
       "1418.0        5.0\n",
       "1419.0        3.0\n",
       "1420.0       14.0\n",
       "1421.0        6.0\n",
       "1422.0       14.0\n",
       "1423.0        8.0\n",
       "1424.0        9.0\n",
       "1425.0        7.0\n",
       "1426.0        3.0\n",
       "1427.0        4.0\n",
       "1428.0        2.0\n",
       "1429.0        7.0\n",
       "1430.0        8.0\n",
       "1431.0        5.0\n",
       "1432.0        1.0\n",
       "1433.0        6.0\n",
       "1434.0        2.0\n",
       "1435.0        6.0\n",
       "1436.0        8.0\n",
       "1437.0        7.0\n",
       "1438.0        6.0\n",
       "1439.0        5.0\n",
       "Name: Customer, dtype: float64"
      ]
     },
     "execution_count": 89,
     "metadata": {},
     "output_type": "execute_result"
    }
   ],
   "source": [
    "customers_by_minutes = no_dependents.groupby('minutes')['Customer'].sum()"
   ]
  },
  {
   "cell_type": "code",
   "execution_count": null,
   "metadata": {
    "collapsed": true
   },
   "outputs": [],
   "source": [
    "#same as above, but in a pivot table\n",
    "pd.pivot_table(no_dependents, index'minutes', values='Customer', aggfunc=sum)"
   ]
  },
  {
   "cell_type": "code",
   "execution_count": 90,
   "metadata": {
    "collapsed": true
   },
   "outputs": [],
   "source": [
    "customers_by_minutes = no_dependents.groupby('minutes')['Customer'].sum()\n",
    "suscribers_by_minutes = no_dependents.groupby('minutes')['Subscriber'].sum()"
   ]
  },
  {
   "cell_type": "code",
   "execution_count": 93,
   "metadata": {
    "collapsed": false
   },
   "outputs": [
    {
     "data": {
      "text/plain": [
       "(0, 90)"
      ]
     },
     "execution_count": 93,
     "metadata": {},
     "output_type": "execute_result"
    },
    {
     "data": {
      "image/png": "[encoded data removed]",
      "text/plain": [
       "<matplotlib.figure.Figure at 0x11cd1b7d0>"
      ]
     },
     "metadata": {},
     "output_type": "display_data"
    }
   ],
   "source": [
    "#make a line graph\n",
    "plt.plot(customers_by_minutes)\n",
    "plt.plot(suscribers_by_minutes, color='limegreen')\n",
    "plt.xlim(0, 90)"
   ]
  },
  {
   "cell_type": "code",
   "execution_count": 105,
   "metadata": {
    "collapsed": false
   },
   "outputs": [
    {
     "data": {
      "text/plain": [
       "<matplotlib.legend.Legend at 0x11c410b90>"
      ]
     },
     "execution_count": 105,
     "metadata": {},
     "output_type": "execute_result"
    },
    {
     "data": {
      "image/png": "[encoded data removed]",
      "text/plain": [
       "<matplotlib.figure.Figure at 0x119d88b90>"
      ]
     },
     "metadata": {},
     "output_type": "display_data"
    }
   ],
   "source": [
    "plt.axes(axisbg='black')\n",
    "plt.plot(customers_by_minutes, label = 'Customers')\n",
    "plt.plot(suscribers_by_minutes, color='limegreen', label = 'Subscribers')\n",
    "plt.xlim(0, 90)\n",
    "plt.ylabel('Number of Rides 2013 Q3 - 2016 Q2')\n",
    "plt.xlabel('Duration of Ride')\n",
    "plt.title('Number of Subscriber and Customer Rides, per minute')\n",
    "plt.legend(loc='upper right', shadow=True)\n"
   ]
  },
  {
   "cell_type": "code",
   "execution_count": 108,
   "metadata": {
    "collapsed": false
   },
   "outputs": [
    {
     "data": {
      "image/png": "[encoded data removed]",
      "text/plain": [
       "<matplotlib.figure.Figure at 0x119936990>"
      ]
     },
     "metadata": {},
     "output_type": "display_data"
    }
   ],
   "source": [
    "plt.style.use('fivethirtyeight')\n",
    "plt.plot(customers_by_minutes, label = 'Customers')\n",
    "plt.plot(suscribers_by_minutes, label = 'Subscribers')\n",
    "plt.xlim(0, 90)\n",
    "plt.ylabel('Number of Rides 2013 Q3 - 2016 Q2')\n",
    "plt.xlabel('Duration of Ride')\n",
    "plt.title('Number of Subscriber and Customer Rides, per minute')\n",
    "plt.legend(loc='upper right', shadow=True);"
   ]
  },
  {
   "cell_type": "code",
   "execution_count": 109,
   "metadata": {
    "collapsed": false
   },
   "outputs": [
    {
     "data": {
      "image/png": "[encoded data removed]",
      "text/plain": [
       "<matplotlib.figure.Figure at 0x11a8c8c10>"
      ]
     },
     "metadata": {},
     "output_type": "display_data"
    }
   ],
   "source": [
    "plt.style.use('ggplot')\n",
    "plt.plot(customers_by_minutes, label = 'Customers')\n",
    "plt.plot(suscribers_by_minutes, label = 'Subscribers')\n",
    "plt.xlim(0, 90)\n",
    "plt.ylabel('Number of Rides 2013 Q3 - 2016 Q2')\n",
    "plt.xlabel('Duration of Ride')\n",
    "plt.title('Number of Subscriber and Customer Rides, per minute')\n",
    "plt.legend(loc='upper right', shadow=True);"
   ]
  },
  {
   "cell_type": "code",
   "execution_count": 111,
   "metadata": {
    "collapsed": false
   },
   "outputs": [
    {
     "data": {
      "image/png": "[encoded data removed]",
      "text/plain": [
       "<matplotlib.figure.Figure at 0x114b5a090>"
      ]
     },
     "metadata": {},
     "output_type": "display_data"
    }
   ],
   "source": [
    "#plt.style.use('dark_background') customize this line\n",
    "\n",
    "plt.style.use('dark_background')\n",
    "plt.plot(customers_by_minutes, label = 'Customers')\n",
    "plt.plot(suscribers_by_minutes, label = 'Subscribers')\n",
    "plt.xlim(0, 90)\n",
    "plt.ylabel('Number of Rides 2013 Q3 - 2016 Q2')\n",
    "plt.xlabel('Duration of Ride')\n",
    "plt.title('Number of Subscriber and Customer Rides, per minute')\n",
    "plt.legend(loc='upper right', shadow=True);"
   ]
  },
  {
   "cell_type": "code",
   "execution_count": null,
   "metadata": {
    "collapsed": true
   },
   "outputs": [],
   "source": []
  }
 ],
 "metadata": {
  "anaconda-cloud": {},
  "kernelspec": {
   "display_name": "Python [Root]",
   "language": "python",
   "name": "Python [Root]"
  },
  "language_info": {
   "codemirror_mode": {
    "name": "ipython",
    "version": 2
   },
   "file_extension": ".py",
   "mimetype": "text/x-python",
   "name": "python",
   "nbconvert_exporter": "python",
   "pygments_lexer": "ipython2",
   "version": "2.7.12"
  }
 },
 "nbformat": 4,
 "nbformat_minor": 0
}
