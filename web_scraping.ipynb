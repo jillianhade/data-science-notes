{
 "cells": [
  {
   "cell_type": "code",
   "execution_count": 1,
   "metadata": {
    "collapsed": true
   },
   "outputs": [],
   "source": [
    "import urllib2\n",
    "from bs4 import BeautifulSoup"
   ]
  },
  {
   "cell_type": "code",
   "execution_count": 3,
   "metadata": {
    "collapsed": false
   },
   "outputs": [],
   "source": [
    "soup = BeautifulSoup(urllib2.urlopen('http://www.timeanddate.com/worldclock/astronomy.html?n=78').read())"
   ]
  },
  {
   "cell_type": "code",
   "execution_count": 6,
   "metadata": {
    "collapsed": false
   },
   "outputs": [
    {
     "name": "stdout",
     "output_type": "stream",
     "text": [
      "<table class=\"va-m fw\" id=\"lm-key\"><tbody><tr id=\"lm-leg-0\"><td><div class=\"c-key as-night\"></div></td><td>Night</td><td class=\"tr\">12:00 AM – 6:00 AM</td></tr><tr id=\"lm-leg-1\"><td><div class=\"c-key as-astronomical-twilight\"></div></td><td>Astro. Twilight</td><td class=\"tr\">6:00 AM – 6:40 AM</td></tr><tr id=\"lm-leg-2\"><td><div class=\"c-key as-nautical-twilight\"></div></td><td>Nautical Twilight</td><td class=\"tr\">6:40 AM – 7:21 AM</td></tr><tr id=\"lm-leg-3\"><td><div class=\"c-key as-civil-twilight\"></div></td><td>Civil Twilight</td><td class=\"tr\">7:21 AM – 7:56 AM</td></tr><tr id=\"lm-leg-4\"><td><div class=\"c-key as-daylight\"></div></td><td>Daylight</td><td class=\"tr\">7:56 AM – 6:24 PM</td></tr><tr id=\"lm-leg-5\"><td><div class=\"c-key as-civil-twilight\"></div></td><td>Civil Twilight</td><td class=\"tr\">6:24 PM – 6:59 PM</td></tr><tr id=\"lm-leg-6\"><td><div class=\"c-key as-nautical-twilight\"></div></td><td>Nautical Twilight</td><td class=\"tr\">6:59 PM – 7:39 PM</td></tr><tr id=\"lm-leg-7\"><td><div class=\"c-key as-astronomical-twilight\"></div></td><td>Astro. Twilight</td><td class=\"tr\">7:39 PM – 8:19 PM</td></tr><tr id=\"lm-leg-8\"><td><div class=\"c-key as-night\"></div></td><td>Night</td><td class=\"tr\">8:19 PM – 11:59 PM</td></tr></tbody></table>\n",
      "\n",
      "\n",
      "<table class=\"zebra tb-sm tb-hover fw va-m\" id=\"as-monthsun\"><thead><tr class=\"bg-wt\"><th>2016</th><th class=\"sep c\" colspan=\"2\" id=\"h_a_3_0\">Sunrise/Sunset</th><th class=\"sep c sep-l\" colspan=\"2\" id=\"h_a_5_0\">Daylength</th><th class=\"sep c sep-l\" colspan=\"2\" id=\"h_a_7_0\">Solar Noon</th></tr><tr><th rowspan=\"2\">Oct</th><th class=\"sep c\" rowspan=\"2\">Sunrise</th><th class=\"sep c\" rowspan=\"2\">Sunset</th><th class=\"sep c sep-l tr\" rowspan=\"2\">Length</th><th class=\"sep c tr\" rowspan=\"2\">Difference</th><th class=\"sep c sep-l\" rowspan=\"2\">Time</th><th class=\"sep c tr\" rowspan=\"2\"><span title=\"Million miles\">Mil. mi</span></th></tr><tr></tr></thead><tbody><tr data-day=\"17\" title=\"Click to expand for more details\"><th>Oct 17</th><td class=\"c sep\">7:56 AM</td><td class=\"sep c\">6:24 PM</td><td class=\"c tr sep-l\">10:27:22</td><td class=\"c tr sep\">−4:05</td><td class=\"c sep-l\">1:10 PM <span class=\"small soft\">(27.2°)</span></td><td class=\"tr sep\">92.620</td></tr><tr data-day=\"18\" title=\"Click to expand for more details\"><th>Oct 18</th><td class=\"c sep\">7:58 AM</td><td class=\"sep c\">6:21 PM</td><td class=\"c tr sep-l\">10:23:17</td><td class=\"c tr sep\">−4:04</td><td class=\"c sep-l\">1:10 PM <span class=\"small soft\">(26.8°)</span></td><td class=\"tr sep\">92.594</td></tr><tr data-day=\"19\" title=\"Click to expand for more details\"><th>Oct 19</th><td class=\"c sep\">8:00 AM</td><td class=\"sep c\">6:19 PM</td><td class=\"c tr sep-l\">10:19:13</td><td class=\"c tr sep\">−4:04</td><td class=\"c sep-l\">1:10 PM <span class=\"small soft\">(26.5°)</span></td><td class=\"tr sep\">92.569</td></tr><tr data-day=\"20\" title=\"Click to expand for more details\"><th>Oct 20</th><td class=\"c sep\">8:02 AM</td><td class=\"sep c\">6:17 PM</td><td class=\"c tr sep-l\">10:15:09</td><td class=\"c tr sep\">−4:03</td><td class=\"c sep-l\">1:10 PM <span class=\"small soft\">(26.1°)</span></td><td class=\"tr sep\">92.543</td></tr><tr data-day=\"21\" title=\"Click to expand for more details\"><th>Oct 21</th><td class=\"c sep\">8:04 AM</td><td class=\"sep c\">6:15 PM</td><td class=\"c tr sep-l\">10:11:06</td><td class=\"c tr sep\">−4:02</td><td class=\"c sep-l\">1:10 PM <span class=\"small soft\">(25.7°)</span></td><td class=\"tr sep\">92.518</td></tr><tr data-day=\"22\" title=\"Click to expand for more details\"><th>Oct 22</th><td class=\"c sep\">8:06 AM</td><td class=\"sep c\">6:13 PM</td><td class=\"c tr sep-l\">10:07:04</td><td class=\"c tr sep\">−4:02</td><td class=\"c sep-l\">1:09 PM <span class=\"small soft\">(25.4°)</span></td><td class=\"tr sep\">92.493</td></tr><tr data-day=\"23\" title=\"Click to expand for more details\"><th>Oct 23</th><td class=\"c sep\">8:07 AM</td><td class=\"sep c\">6:10 PM</td><td class=\"c tr sep-l\">10:03:03</td><td class=\"c tr sep\">−4:01</td><td class=\"c sep-l\">1:09 PM <span class=\"small soft\">(25.0°)</span></td><td class=\"tr sep\">92.468</td></tr></tbody><tfoot><tr><td colspan=\"7\"> * All times are local time for Dublin. Time is adjusted for <a href=\"/time/dst/\">DST</a> when applicable. Dates are based on the <a href=\"/calendar/gregorian-calendar.html\">Gregorian calendar</a>. </td></tr></tfoot></table>\n",
      "\n",
      "\n",
      "<table class=\"fw tb-wc zebra\"><thead><tr class=\"bg-wt\"><th>2016</th><th class=\"sep\">Date</th><th class=\"sep\">Time</th></tr></thead><tbody><tr><th><a href=\"/calendar/march-equinox.html\">March Equinox</a></th><td>Mar 20</td><td>4:30 AM</td></tr><tr><th><a href=\"/calendar/june-solstice.html\">June Solstice</a></th><td>Jun 20</td><td>11:34 PM</td></tr><tr><th><a href=\"/calendar/september-equinox.html\">September Equinox</a></th><td>Sep 22</td><td>3:21 PM</td></tr><tr><th><a href=\"/calendar/december-solstice.html\">December Solstice</a></th><td>Dec 21</td><td>10:44 AM</td></tr></tbody><tfoot><tr><td colspan=\"3\">* All times are local Dublin time.</td></tr></tfoot></table>\n",
      "\n",
      "\n",
      "<table class=\"fw zebra tb-sm tb-hover va-m\" id=\"tb-7dmn\"><thead><tr class=\"bg-wt\"><th>2016</th><th class=\"sep\" colspan=\"6\">Moonrise/Moonset</th><th class=\"sep-l\" colspan=\"4\">Meridian Passing</th></tr><tr><th>Oct</th><th class=\"sep tc\" colspan=\"2\">Moonrise</th><th class=\"sep tc\" colspan=\"2\">Moonset</th><th class=\"sep tc\" colspan=\"2\">Moonrise</th><th class=\"sep-l tc\" colspan=\"2\">Time</th><th class=\"tr sep\">Distance (mi)</th><th class=\"tr sep\">Illumination</th></tr></thead><tbody><tr data-day=\"17\" title=\"Click to expand for more details\"><th rowspan=\"1\">Oct 17</th><td class=\"sep tc\" colspan=\"2\">-</td><td class=\"c sep\" colspan=\"2\" title=\"The Moon sets in the West-northwest at 9:18 AM\">9:18 AM</td><td class=\"c sep\" colspan=\"2\" title=\"The Moon rises in the East-northeast at 7:35 PM\">7:35 PM</td><td class=\"pdr0 sep-l\" title=\"The Moon crosses the local meridian at 2:03 AM (45.6° above the horizon)\">2:03 AM</td><td class=\"pdl0\" title=\"The Moon crosses the local meridian at 2:03 AM (45.6° above the horizon)\"><span class=\"small soft\">(45.6°)</span></td><td class=\"tr sep\" title=\"The Moon is 222,367 mi from Earth's center when it crosses the local meridian\">222,367</td><td class=\"tr sep\" title=\"The Moon's disk is 98.7% illuminated when it crosses the local meridian\">98.7%</td></tr><tr data-day=\"18\" title=\"Click to expand for more details\"><th rowspan=\"1\">Oct 18</th><td class=\"sep tc\" colspan=\"2\">-</td><td class=\"c sep\" colspan=\"2\" title=\"The Moon sets in the West-northwest at 10:40 AM\">10:40 AM</td><td class=\"c sep\" colspan=\"2\" title=\"The Moon rises in the East-northeast at 8:14 PM\">8:14 PM</td><td class=\"pdr0 sep-l\" title=\"The Moon crosses the local meridian at 3:01 AM (49.6° above the horizon)\">3:01 AM</td><td class=\"pdl0\" title=\"The Moon crosses the local meridian at 3:01 AM (49.6° above the horizon)\"><span class=\"small soft\">(49.6°)</span></td><td class=\"tr sep\" title=\"The Moon is 223,069 mi from Earth's center when it crosses the local meridian\">223,069</td><td class=\"tr sep\" title=\"The Moon's disk is 94.4% illuminated when it crosses the local meridian\">94.4%</td></tr><tr data-day=\"19\" title=\"Click to expand for more details\"><th rowspan=\"1\">Oct 19</th><td class=\"sep tc\" colspan=\"2\">-</td><td class=\"c sep\" colspan=\"2\" title=\"The Moon sets in the West-northwest at 11:57 AM\">11:57 AM</td><td class=\"c sep\" colspan=\"2\" title=\"The Moon rises in the East-northeast at 9:00 PM\">9:00 PM</td><td class=\"pdr0 sep-l\" title=\"The Moon crosses the local meridian at 4:01 AM (52.6° above the horizon)\">4:01 AM</td><td class=\"pdl0\" title=\"The Moon crosses the local meridian at 4:01 AM (52.6° above the horizon)\"><span class=\"small soft\">(52.6°)</span></td><td class=\"tr sep\" title=\"The Moon is 224,916 mi from Earth's center when it crosses the local meridian\">224,916</td><td class=\"tr sep\" title=\"The Moon's disk is 87.3% illuminated when it crosses the local meridian\">87.3%</td></tr><tr data-day=\"20\" title=\"Click to expand for more details\"><th rowspan=\"1\">Oct 20</th><td class=\"sep tc\" colspan=\"2\">-</td><td class=\"c sep\" colspan=\"2\" title=\"The Moon sets in the West-northwest at 1:05 PM\">1:05 PM</td><td class=\"c sep\" colspan=\"2\" title=\"The Moon rises in the East-northeast at 9:53 PM\">9:53 PM</td><td class=\"pdr0 sep-l\" title=\"The Moon crosses the local meridian at 5:00 AM (54.3° above the horizon)\">5:00 AM</td><td class=\"pdl0\" title=\"The Moon crosses the local meridian at 5:00 AM (54.3° above the horizon)\"><span class=\"small soft\">(54.3°)</span></td><td class=\"tr sep\" title=\"The Moon is 227,654 mi from Earth's center when it crosses the local meridian\">227,654</td><td class=\"tr sep\" title=\"The Moon's disk is 78.0% illuminated when it crosses the local meridian\">78.0%</td></tr><tr data-day=\"21\" title=\"Click to expand for more details\"><th rowspan=\"1\">Oct 21</th><td class=\"sep tc\" colspan=\"2\">-</td><td class=\"c sep\" colspan=\"2\" title=\"The Moon sets in the West-northwest at 2:02 PM\">2:02 PM</td><td class=\"c sep\" colspan=\"2\" title=\"The Moon rises in the East-northeast at 10:53 PM\">10:53 PM</td><td class=\"pdr0 sep-l\" title=\"The Moon crosses the local meridian at 5:58 AM (54.7° above the horizon)\">5:58 AM</td><td class=\"pdl0\" title=\"The Moon crosses the local meridian at 5:58 AM (54.7° above the horizon)\"><span class=\"small soft\">(54.7°)</span></td><td class=\"tr sep\" title=\"The Moon is 230,966 mi from Earth's center when it crosses the local meridian\">230,966</td><td class=\"tr sep\" title=\"The Moon's disk is 67.4% illuminated when it crosses the local meridian\">67.4%</td></tr><tr data-day=\"22\" title=\"Click to expand for more details\"><th rowspan=\"1\" title=\"Third Quarter at 8:13 PM\"><img class=\"fl\" height=\"11\" src=\"//c.tadst.com/gfx/moon2.svg\" title=\"Third Quarter at 8:13 PM\" width=\"11\"/> Oct 22</th><td class=\"sep tc\" colspan=\"2\">-</td><td class=\"c sep\" colspan=\"2\" title=\"The Moon sets in the West-northwest at 2:49 PM\">2:49 PM</td><td class=\"c sep\" colspan=\"2\" title=\"The Moon rises in the East-northeast at 11:58 PM\">11:58 PM</td><td class=\"pdr0 sep-l\" title=\"The Moon crosses the local meridian at 6:54 AM (53.8° above the horizon)\">6:54 AM</td><td class=\"pdl0\" title=\"The Moon crosses the local meridian at 6:54 AM (53.8° above the horizon)\"><span class=\"small soft\">(53.8°)</span></td><td class=\"tr sep\" title=\"The Moon is 234,528 mi from Earth's center when it crosses the local meridian\">234,528</td><td class=\"tr sep\" title=\"The Moon's disk is 56.1% illuminated when it crosses the local meridian\">56.1%</td></tr><tr data-day=\"23\" title=\"Click to expand for more details\"><th rowspan=\"1\">Oct 23</th><td class=\"sep tc\" colspan=\"2\">-</td><td class=\"c sep\" colspan=\"2\" title=\"The Moon sets in the West-northwest at 3:28 PM\">3:28 PM</td><td class=\"sep tc\" colspan=\"2\">-</td><td class=\"pdr0 sep-l\" title=\"The Moon crosses the local meridian at 7:48 AM (51.9° above the horizon)\">7:48 AM</td><td class=\"pdl0\" title=\"The Moon crosses the local meridian at 7:48 AM (51.9° above the horizon)\"><span class=\"small soft\">(51.9°)</span></td><td class=\"tr sep\" title=\"The Moon is 238,061 mi from Earth's center when it crosses the local meridian\">238,061</td><td class=\"tr sep\" title=\"The Moon's disk is 45.0% illuminated when it crosses the local meridian\">45.0%</td></tr></tbody><tfoot><tr><td colspan=\"11\"> * All times are local time for Dublin. Time is adjusted for <a href=\"/time/dst/\">DST</a> when applicable. Dates are based on the <a href=\"/calendar/gregorian-calendar.html\">Gregorian calendar</a>. Illumination is calculated at lunar noon. </td></tr></tfoot></table>\n",
      "\n",
      "\n",
      "<table class=\"tb-wc sep zebra fw\"><thead><tr class=\"bg-wt\"><th> </th><th class=\"sep\" colspan=\"4\">Planetrise/Planetset, Mon, Oct 17, 2016</th></tr><tr><th>Planet</th><th class=\"sep\">Rise</th><th class=\"sep\">Set</th><th class=\"sep\">Meridian</th><th class=\"sep\">Comment</th></tr></thead><tbody><tr class=\"c0\"><th>Mercury</th><td class=\"c\">Tue 7:16 AM</td><td class=\"c\">Tue 6:19 PM</td><td class=\"c sep-l\">Tue 12:48 PM</td><td>Difficult to see</td></tr><tr class=\"c1\"><th>Venus</th><td class=\"c\">Tue 11:28 AM</td><td class=\"c\">Tue 7:25 PM</td><td class=\"c sep-l\">Tue 3:27 PM</td><td>Good visibility</td></tr><tr class=\"c0\"><th>Mars</th><td class=\"c\">Mon 3:09 PM</td><td class=\"c\">Mon 10:11 PM</td><td class=\"c sep-l\">Mon 6:40 PM</td><td>Average visiblity</td></tr><tr class=\"c1\"><th>Jupiter</th><td class=\"c\">Tue 6:17 AM</td><td class=\"c\">Tue 5:59 PM</td><td class=\"c sep-l\">Tue 12:08 PM</td><td>Average visiblity</td></tr><tr class=\"c0\"><th>Saturn</th><td class=\"c\">Tue 12:22 PM</td><td class=\"c\">Tue 8:22 PM</td><td class=\"c sep-l\">Tue 4:22 PM</td><td>Average visiblity</td></tr><tr class=\"c1\"><th>Uranus</th><td class=\"c\">Mon 6:14 PM</td><td class=\"c\">Tue 7:48 AM</td><td class=\"c sep-l\">Tue 1:01 AM</td><td>Average visiblity</td></tr><tr class=\"c0\"><th>Neptune</th><td class=\"c\">Mon 5:09 PM</td><td class=\"c\">Tue 3:39 AM</td><td class=\"c sep-l\">Mon 10:24 PM</td><td>Difficult to see</td></tr></tbody><tfoot><tr><td colspan=\"5\">* All times are local time for Dublin.</td></tr></tfoot></table>\n",
      "\n",
      "\n"
     ]
    }
   ],
   "source": [
    "for table in soup('table'):\n",
    "    print table\n",
    "    print'\\n'\n"
   ]
  },
  {
   "cell_type": "code",
   "execution_count": 9,
   "metadata": {
    "collapsed": false
   },
   "outputs": [
    {
     "name": "stdout",
     "output_type": "stream",
     "text": [
      "<table class=\"va-m fw\" id=\"lm-key\"><tbody><tr id=\"lm-leg-0\"><td><div class=\"c-key as-night\"></div></td><td>Night</td><td class=\"tr\">12:00 AM – 6:00 AM</td></tr><tr id=\"lm-leg-1\"><td><div class=\"c-key as-astronomical-twilight\"></div></td><td>Astro. Twilight</td><td class=\"tr\">6:00 AM – 6:40 AM</td></tr><tr id=\"lm-leg-2\"><td><div class=\"c-key as-nautical-twilight\"></div></td><td>Nautical Twilight</td><td class=\"tr\">6:40 AM – 7:21 AM</td></tr><tr id=\"lm-leg-3\"><td><div class=\"c-key as-civil-twilight\"></div></td><td>Civil Twilight</td><td class=\"tr\">7:21 AM – 7:56 AM</td></tr><tr id=\"lm-leg-4\"><td><div class=\"c-key as-daylight\"></div></td><td>Daylight</td><td class=\"tr\">7:56 AM – 6:24 PM</td></tr><tr id=\"lm-leg-5\"><td><div class=\"c-key as-civil-twilight\"></div></td><td>Civil Twilight</td><td class=\"tr\">6:24 PM – 6:59 PM</td></tr><tr id=\"lm-leg-6\"><td><div class=\"c-key as-nautical-twilight\"></div></td><td>Nautical Twilight</td><td class=\"tr\">6:59 PM – 7:39 PM</td></tr><tr id=\"lm-leg-7\"><td><div class=\"c-key as-astronomical-twilight\"></div></td><td>Astro. Twilight</td><td class=\"tr\">7:39 PM – 8:19 PM</td></tr><tr id=\"lm-leg-8\"><td><div class=\"c-key as-night\"></div></td><td>Night</td><td class=\"tr\">8:19 PM – 11:59 PM</td></tr></tbody></table> \n",
      "\n",
      "<table class=\"zebra tb-sm tb-hover fw va-m\" id=\"as-monthsun\"><thead><tr class=\"bg-wt\"><th>2016</th><th class=\"sep c\" colspan=\"2\" id=\"h_a_3_0\">Sunrise/Sunset</th><th class=\"sep c sep-l\" colspan=\"2\" id=\"h_a_5_0\">Daylength</th><th class=\"sep c sep-l\" colspan=\"2\" id=\"h_a_7_0\">Solar Noon</th></tr><tr><th rowspan=\"2\">Oct</th><th class=\"sep c\" rowspan=\"2\">Sunrise</th><th class=\"sep c\" rowspan=\"2\">Sunset</th><th class=\"sep c sep-l tr\" rowspan=\"2\">Length</th><th class=\"sep c tr\" rowspan=\"2\">Difference</th><th class=\"sep c sep-l\" rowspan=\"2\">Time</th><th class=\"sep c tr\" rowspan=\"2\"><span title=\"Million miles\">Mil. mi</span></th></tr><tr></tr></thead><tbody><tr data-day=\"17\" title=\"Click to expand for more details\"><th>Oct 17</th><td class=\"c sep\">7:56 AM</td><td class=\"sep c\">6:24 PM</td><td class=\"c tr sep-l\">10:27:22</td><td class=\"c tr sep\">−4:05</td><td class=\"c sep-l\">1:10 PM <span class=\"small soft\">(27.2°)</span></td><td class=\"tr sep\">92.620</td></tr><tr data-day=\"18\" title=\"Click to expand for more details\"><th>Oct 18</th><td class=\"c sep\">7:58 AM</td><td class=\"sep c\">6:21 PM</td><td class=\"c tr sep-l\">10:23:17</td><td class=\"c tr sep\">−4:04</td><td class=\"c sep-l\">1:10 PM <span class=\"small soft\">(26.8°)</span></td><td class=\"tr sep\">92.594</td></tr><tr data-day=\"19\" title=\"Click to expand for more details\"><th>Oct 19</th><td class=\"c sep\">8:00 AM</td><td class=\"sep c\">6:19 PM</td><td class=\"c tr sep-l\">10:19:13</td><td class=\"c tr sep\">−4:04</td><td class=\"c sep-l\">1:10 PM <span class=\"small soft\">(26.5°)</span></td><td class=\"tr sep\">92.569</td></tr><tr data-day=\"20\" title=\"Click to expand for more details\"><th>Oct 20</th><td class=\"c sep\">8:02 AM</td><td class=\"sep c\">6:17 PM</td><td class=\"c tr sep-l\">10:15:09</td><td class=\"c tr sep\">−4:03</td><td class=\"c sep-l\">1:10 PM <span class=\"small soft\">(26.1°)</span></td><td class=\"tr sep\">92.543</td></tr><tr data-day=\"21\" title=\"Click to expand for more details\"><th>Oct 21</th><td class=\"c sep\">8:04 AM</td><td class=\"sep c\">6:15 PM</td><td class=\"c tr sep-l\">10:11:06</td><td class=\"c tr sep\">−4:02</td><td class=\"c sep-l\">1:10 PM <span class=\"small soft\">(25.7°)</span></td><td class=\"tr sep\">92.518</td></tr><tr data-day=\"22\" title=\"Click to expand for more details\"><th>Oct 22</th><td class=\"c sep\">8:06 AM</td><td class=\"sep c\">6:13 PM</td><td class=\"c tr sep-l\">10:07:04</td><td class=\"c tr sep\">−4:02</td><td class=\"c sep-l\">1:09 PM <span class=\"small soft\">(25.4°)</span></td><td class=\"tr sep\">92.493</td></tr><tr data-day=\"23\" title=\"Click to expand for more details\"><th>Oct 23</th><td class=\"c sep\">8:07 AM</td><td class=\"sep c\">6:10 PM</td><td class=\"c tr sep-l\">10:03:03</td><td class=\"c tr sep\">−4:01</td><td class=\"c sep-l\">1:09 PM <span class=\"small soft\">(25.0°)</span></td><td class=\"tr sep\">92.468</td></tr></tbody><tfoot><tr><td colspan=\"7\"> * All times are local time for Dublin. Time is adjusted for <a href=\"/time/dst/\">DST</a> when applicable. Dates are based on the <a href=\"/calendar/gregorian-calendar.html\">Gregorian calendar</a>. </td></tr></tfoot></table> \n",
      "\n",
      "<table class=\"fw zebra tb-sm tb-hover va-m\" id=\"tb-7dmn\"><thead><tr class=\"bg-wt\"><th>2016</th><th class=\"sep\" colspan=\"6\">Moonrise/Moonset</th><th class=\"sep-l\" colspan=\"4\">Meridian Passing</th></tr><tr><th>Oct</th><th class=\"sep tc\" colspan=\"2\">Moonrise</th><th class=\"sep tc\" colspan=\"2\">Moonset</th><th class=\"sep tc\" colspan=\"2\">Moonrise</th><th class=\"sep-l tc\" colspan=\"2\">Time</th><th class=\"tr sep\">Distance (mi)</th><th class=\"tr sep\">Illumination</th></tr></thead><tbody><tr data-day=\"17\" title=\"Click to expand for more details\"><th rowspan=\"1\">Oct 17</th><td class=\"sep tc\" colspan=\"2\">-</td><td class=\"c sep\" colspan=\"2\" title=\"The Moon sets in the West-northwest at 9:18 AM\">9:18 AM</td><td class=\"c sep\" colspan=\"2\" title=\"The Moon rises in the East-northeast at 7:35 PM\">7:35 PM</td><td class=\"pdr0 sep-l\" title=\"The Moon crosses the local meridian at 2:03 AM (45.6° above the horizon)\">2:03 AM</td><td class=\"pdl0\" title=\"The Moon crosses the local meridian at 2:03 AM (45.6° above the horizon)\"><span class=\"small soft\">(45.6°)</span></td><td class=\"tr sep\" title=\"The Moon is 222,367 mi from Earth's center when it crosses the local meridian\">222,367</td><td class=\"tr sep\" title=\"The Moon's disk is 98.7% illuminated when it crosses the local meridian\">98.7%</td></tr><tr data-day=\"18\" title=\"Click to expand for more details\"><th rowspan=\"1\">Oct 18</th><td class=\"sep tc\" colspan=\"2\">-</td><td class=\"c sep\" colspan=\"2\" title=\"The Moon sets in the West-northwest at 10:40 AM\">10:40 AM</td><td class=\"c sep\" colspan=\"2\" title=\"The Moon rises in the East-northeast at 8:14 PM\">8:14 PM</td><td class=\"pdr0 sep-l\" title=\"The Moon crosses the local meridian at 3:01 AM (49.6° above the horizon)\">3:01 AM</td><td class=\"pdl0\" title=\"The Moon crosses the local meridian at 3:01 AM (49.6° above the horizon)\"><span class=\"small soft\">(49.6°)</span></td><td class=\"tr sep\" title=\"The Moon is 223,069 mi from Earth's center when it crosses the local meridian\">223,069</td><td class=\"tr sep\" title=\"The Moon's disk is 94.4% illuminated when it crosses the local meridian\">94.4%</td></tr><tr data-day=\"19\" title=\"Click to expand for more details\"><th rowspan=\"1\">Oct 19</th><td class=\"sep tc\" colspan=\"2\">-</td><td class=\"c sep\" colspan=\"2\" title=\"The Moon sets in the West-northwest at 11:57 AM\">11:57 AM</td><td class=\"c sep\" colspan=\"2\" title=\"The Moon rises in the East-northeast at 9:00 PM\">9:00 PM</td><td class=\"pdr0 sep-l\" title=\"The Moon crosses the local meridian at 4:01 AM (52.6° above the horizon)\">4:01 AM</td><td class=\"pdl0\" title=\"The Moon crosses the local meridian at 4:01 AM (52.6° above the horizon)\"><span class=\"small soft\">(52.6°)</span></td><td class=\"tr sep\" title=\"The Moon is 224,916 mi from Earth's center when it crosses the local meridian\">224,916</td><td class=\"tr sep\" title=\"The Moon's disk is 87.3% illuminated when it crosses the local meridian\">87.3%</td></tr><tr data-day=\"20\" title=\"Click to expand for more details\"><th rowspan=\"1\">Oct 20</th><td class=\"sep tc\" colspan=\"2\">-</td><td class=\"c sep\" colspan=\"2\" title=\"The Moon sets in the West-northwest at 1:05 PM\">1:05 PM</td><td class=\"c sep\" colspan=\"2\" title=\"The Moon rises in the East-northeast at 9:53 PM\">9:53 PM</td><td class=\"pdr0 sep-l\" title=\"The Moon crosses the local meridian at 5:00 AM (54.3° above the horizon)\">5:00 AM</td><td class=\"pdl0\" title=\"The Moon crosses the local meridian at 5:00 AM (54.3° above the horizon)\"><span class=\"small soft\">(54.3°)</span></td><td class=\"tr sep\" title=\"The Moon is 227,654 mi from Earth's center when it crosses the local meridian\">227,654</td><td class=\"tr sep\" title=\"The Moon's disk is 78.0% illuminated when it crosses the local meridian\">78.0%</td></tr><tr data-day=\"21\" title=\"Click to expand for more details\"><th rowspan=\"1\">Oct 21</th><td class=\"sep tc\" colspan=\"2\">-</td><td class=\"c sep\" colspan=\"2\" title=\"The Moon sets in the West-northwest at 2:02 PM\">2:02 PM</td><td class=\"c sep\" colspan=\"2\" title=\"The Moon rises in the East-northeast at 10:53 PM\">10:53 PM</td><td class=\"pdr0 sep-l\" title=\"The Moon crosses the local meridian at 5:58 AM (54.7° above the horizon)\">5:58 AM</td><td class=\"pdl0\" title=\"The Moon crosses the local meridian at 5:58 AM (54.7° above the horizon)\"><span class=\"small soft\">(54.7°)</span></td><td class=\"tr sep\" title=\"The Moon is 230,966 mi from Earth's center when it crosses the local meridian\">230,966</td><td class=\"tr sep\" title=\"The Moon's disk is 67.4% illuminated when it crosses the local meridian\">67.4%</td></tr><tr data-day=\"22\" title=\"Click to expand for more details\"><th rowspan=\"1\" title=\"Third Quarter at 8:13 PM\"><img class=\"fl\" height=\"11\" src=\"//c.tadst.com/gfx/moon2.svg\" title=\"Third Quarter at 8:13 PM\" width=\"11\"/> Oct 22</th><td class=\"sep tc\" colspan=\"2\">-</td><td class=\"c sep\" colspan=\"2\" title=\"The Moon sets in the West-northwest at 2:49 PM\">2:49 PM</td><td class=\"c sep\" colspan=\"2\" title=\"The Moon rises in the East-northeast at 11:58 PM\">11:58 PM</td><td class=\"pdr0 sep-l\" title=\"The Moon crosses the local meridian at 6:54 AM (53.8° above the horizon)\">6:54 AM</td><td class=\"pdl0\" title=\"The Moon crosses the local meridian at 6:54 AM (53.8° above the horizon)\"><span class=\"small soft\">(53.8°)</span></td><td class=\"tr sep\" title=\"The Moon is 234,528 mi from Earth's center when it crosses the local meridian\">234,528</td><td class=\"tr sep\" title=\"The Moon's disk is 56.1% illuminated when it crosses the local meridian\">56.1%</td></tr><tr data-day=\"23\" title=\"Click to expand for more details\"><th rowspan=\"1\">Oct 23</th><td class=\"sep tc\" colspan=\"2\">-</td><td class=\"c sep\" colspan=\"2\" title=\"The Moon sets in the West-northwest at 3:28 PM\">3:28 PM</td><td class=\"sep tc\" colspan=\"2\">-</td><td class=\"pdr0 sep-l\" title=\"The Moon crosses the local meridian at 7:48 AM (51.9° above the horizon)\">7:48 AM</td><td class=\"pdl0\" title=\"The Moon crosses the local meridian at 7:48 AM (51.9° above the horizon)\"><span class=\"small soft\">(51.9°)</span></td><td class=\"tr sep\" title=\"The Moon is 238,061 mi from Earth's center when it crosses the local meridian\">238,061</td><td class=\"tr sep\" title=\"The Moon's disk is 45.0% illuminated when it crosses the local meridian\">45.0%</td></tr></tbody><tfoot><tr><td colspan=\"11\"> * All times are local time for Dublin. Time is adjusted for <a href=\"/time/dst/\">DST</a> when applicable. Dates are based on the <a href=\"/calendar/gregorian-calendar.html\">Gregorian calendar</a>. Illumination is calculated at lunar noon. </td></tr></tfoot></table> \n",
      "\n"
     ]
    }
   ],
   "source": [
    "for row in soup('table', {'class' : 'va-m'}):\n",
    "    print row, '\\n'"
   ]
  },
  {
   "cell_type": "code",
   "execution_count": 10,
   "metadata": {
    "collapsed": false
   },
   "outputs": [
    {
     "data": {
      "text/plain": [
       "3"
      ]
     },
     "execution_count": 10,
     "metadata": {},
     "output_type": "execute_result"
    }
   ],
   "source": [
    "len(soup('table', {'class':'va-m'}))"
   ]
  },
  {
   "cell_type": "code",
   "execution_count": 20,
   "metadata": {
    "collapsed": false
   },
   "outputs": [
    {
     "name": "stdout",
     "output_type": "stream",
     "text": [
      "<div class=\"five columns\" id=\"qfacts\"><p><span class=\"four\">Current Time: </span><span id=\"smct\">Oct 17, 2016 at 9:02:37 PM</span></p><br/><p><span class=\"four\">Sunrise Today: </span><span class=\"three\">7:56 AM</span><span class=\"comp sa10\" title=\"Map direction East\">↑</span> 105° East<br/><span class=\"four\">Sunset Today: </span><span class=\"three\">6:24 PM</span><span class=\"comp sa22\" title=\"Map direction West\">↑</span> 255° West</p><br/><p><span class=\"four\">Moonrise Today: </span><span class=\"three\">7:35 PM</span><span class=\"comp sa6\" title=\"Map direction East\">↑</span> 69° East<br/><span class=\"four\">Moonset Today: </span><span class=\"three\">9:18 AM</span><span class=\"comp sa26\" title=\"Map direction West\">↑</span> 288° West</p><br/><p><span class=\"four\">Daylight Hours: </span><span title=\"The current day is 10 hours, 27 minutes long which is 4m 5s shorter than yesterday.\">10 hours, 27 minutes (-4m 5s)</span></p></div> \n",
      "\n"
     ]
    }
   ],
   "source": [
    "for row in soup('div', {'id' : 'qfacts'}):\n",
    "    print row, '\\n'"
   ]
  },
  {
   "cell_type": "code",
   "execution_count": 21,
   "metadata": {
    "collapsed": false
   },
   "outputs": [
    {
     "name": "stdout",
     "output_type": "stream",
     "text": [
      "<span class=\"four\">Current Time: </span> \n",
      "\n",
      "<span class=\"four\">Sunrise Today: </span> \n",
      "\n",
      "<span class=\"four\">Sunset Today: </span> \n",
      "\n",
      "<span class=\"four\">Moonrise Today: </span> \n",
      "\n",
      "<span class=\"four\">Moonset Today: </span> \n",
      "\n",
      "<span class=\"four\">Daylight Hours: </span> \n",
      "\n"
     ]
    }
   ],
   "source": [
    "for row in soup('span', {'class' : 'four'}):\n",
    "    print row, '\\n'"
   ]
  },
  {
   "cell_type": "code",
   "execution_count": 22,
   "metadata": {
    "collapsed": false
   },
   "outputs": [
    {
     "name": "stdout",
     "output_type": "stream",
     "text": [
      "<span class=\"three\">7:56 AM</span> \n",
      "\n",
      "<span class=\"three\">6:24 PM</span> \n",
      "\n",
      "<span class=\"three\">7:35 PM</span> \n",
      "\n",
      "<span class=\"three\">9:18 AM</span> \n",
      "\n"
     ]
    }
   ],
   "source": [
    "for row in soup('span', {'class' : 'three'}):\n",
    "    print row, '\\n'"
   ]
  },
  {
   "cell_type": "code",
   "execution_count": 23,
   "metadata": {
    "collapsed": false
   },
   "outputs": [
    {
     "name": "stdout",
     "output_type": "stream",
     "text": [
      "Current Time:  \n",
      "\n",
      "Sunrise Today:  \n",
      "\n",
      "Sunset Today:  \n",
      "\n",
      "Moonrise Today:  \n",
      "\n",
      "Moonset Today:  \n",
      "\n",
      "Daylight Hours:  \n",
      "\n"
     ]
    }
   ],
   "source": [
    "for row in soup('span', {'class' : 'four'}):\n",
    "    print row.string, '\\n'"
   ]
  },
  {
   "cell_type": "code",
   "execution_count": 24,
   "metadata": {
    "collapsed": false
   },
   "outputs": [
    {
     "name": "stdout",
     "output_type": "stream",
     "text": [
      "<span class=\"four\">Current Time: </span> Current Time:  \n",
      "\n",
      "<span class=\"four\">Sunrise Today: </span> Sunrise Today:  \n",
      "\n",
      "<span class=\"four\">Sunset Today: </span> Sunset Today:  \n",
      "\n",
      "<span class=\"four\">Moonrise Today: </span> Moonrise Today:  \n",
      "\n",
      "<span class=\"four\">Moonset Today: </span> Moonset Today:  \n",
      "\n",
      "<span class=\"four\">Daylight Hours: </span> Daylight Hours:  \n",
      "\n"
     ]
    }
   ],
   "source": [
    "for row in soup('span', {'class' : 'four'}):\n",
    "    print row, row.string, '\\n'"
   ]
  },
  {
   "cell_type": "code",
   "execution_count": 28,
   "metadata": {
    "collapsed": false
   },
   "outputs": [
    {
     "name": "stdout",
     "output_type": "stream",
     "text": [
      "<span class=\"four\">Current Time: </span>\n",
      "<span id=\"smct\">Oct 17, 2016 at 9:02:37 PM</span>\n",
      "<span class=\"four\">Sunrise Today: </span>\n",
      "<span class=\"three\">7:56 AM</span>\n",
      "<span class=\"comp sa10\" title=\"Map direction East\">↑</span>\n",
      "<span class=\"four\">Sunset Today: </span>\n",
      "<span class=\"three\">6:24 PM</span>\n",
      "<span class=\"comp sa22\" title=\"Map direction West\">↑</span>\n",
      "<span class=\"four\">Moonrise Today: </span>\n",
      "<span class=\"three\">7:35 PM</span>\n",
      "<span class=\"comp sa6\" title=\"Map direction East\">↑</span>\n",
      "<span class=\"four\">Moonset Today: </span>\n",
      "<span class=\"three\">9:18 AM</span>\n",
      "<span class=\"comp sa26\" title=\"Map direction West\">↑</span>\n",
      "<span class=\"four\">Daylight Hours: </span>\n",
      "<span title=\"The current day is 10 hours, 27 minutes long which is 4m 5s shorter than yesterday.\">10 hours, 27 minutes (-4m 5s)</span>\n",
      "<span class=\"four\">Current Time: </span>\n",
      "<span id=\"smct\">Oct 17, 2016 at 9:02:37 PM</span>\n",
      "<span class=\"four\">Sunrise Today: </span>\n",
      "<span class=\"three\">7:56 AM</span>\n",
      "<span class=\"comp sa10\" title=\"Map direction East\">↑</span>\n",
      "<span class=\"four\">Sunset Today: </span>\n",
      "<span class=\"three\">6:24 PM</span>\n",
      "<span class=\"comp sa22\" title=\"Map direction West\">↑</span>\n",
      "<span class=\"four\">Moonrise Today: </span>\n",
      "<span class=\"three\">7:35 PM</span>\n",
      "<span class=\"comp sa6\" title=\"Map direction East\">↑</span>\n",
      "<span class=\"four\">Moonset Today: </span>\n",
      "<span class=\"three\">9:18 AM</span>\n",
      "<span class=\"comp sa26\" title=\"Map direction West\">↑</span>\n",
      "<span class=\"four\">Daylight Hours: </span>\n",
      "<span title=\"The current day is 10 hours, 27 minutes long which is 4m 5s shorter than yesterday.\">10 hours, 27 minutes (-4m 5s)</span>\n",
      "<span class=\"four\">Current Time: </span>\n",
      "<span id=\"smct\">Oct 17, 2016 at 9:02:37 PM</span>\n",
      "<span class=\"four\">Sunrise Today: </span>\n",
      "<span class=\"three\">7:56 AM</span>\n",
      "<span class=\"comp sa10\" title=\"Map direction East\">↑</span>\n",
      "<span class=\"four\">Sunset Today: </span>\n",
      "<span class=\"three\">6:24 PM</span>\n",
      "<span class=\"comp sa22\" title=\"Map direction West\">↑</span>\n",
      "<span class=\"four\">Moonrise Today: </span>\n",
      "<span class=\"three\">7:35 PM</span>\n",
      "<span class=\"comp sa6\" title=\"Map direction East\">↑</span>\n",
      "<span class=\"four\">Moonset Today: </span>\n",
      "<span class=\"three\">9:18 AM</span>\n",
      "<span class=\"comp sa26\" title=\"Map direction West\">↑</span>\n",
      "<span class=\"four\">Daylight Hours: </span>\n",
      "<span title=\"The current day is 10 hours, 27 minutes long which is 4m 5s shorter than yesterday.\">10 hours, 27 minutes (-4m 5s)</span>\n",
      "<span class=\"four\">Current Time: </span>\n",
      "<span id=\"smct\">Oct 17, 2016 at 9:02:37 PM</span>\n",
      "<span class=\"four\">Sunrise Today: </span>\n",
      "<span class=\"three\">7:56 AM</span>\n",
      "<span class=\"comp sa10\" title=\"Map direction East\">↑</span>\n",
      "<span class=\"four\">Sunset Today: </span>\n",
      "<span class=\"three\">6:24 PM</span>\n",
      "<span class=\"comp sa22\" title=\"Map direction West\">↑</span>\n",
      "<span class=\"four\">Moonrise Today: </span>\n",
      "<span class=\"three\">7:35 PM</span>\n",
      "<span class=\"comp sa6\" title=\"Map direction East\">↑</span>\n",
      "<span class=\"four\">Moonset Today: </span>\n",
      "<span class=\"three\">9:18 AM</span>\n",
      "<span class=\"comp sa26\" title=\"Map direction West\">↑</span>\n",
      "<span class=\"four\">Daylight Hours: </span>\n",
      "<span title=\"The current day is 10 hours, 27 minutes long which is 4m 5s shorter than yesterday.\">10 hours, 27 minutes (-4m 5s)</span>\n"
     ]
    }
   ],
   "source": [
    "spans = []\n",
    "\n",
    "for row in soup('div', {'id' : 'qfacts'}):\n",
    "    for item in row('p'):\n",
    "         for span in row ('span'):\n",
    "                print span"
   ]
  },
  {
   "cell_type": "code",
   "execution_count": 29,
   "metadata": {
    "collapsed": false
   },
   "outputs": [
    {
     "data": {
      "text/plain": [
       "{}"
      ]
     },
     "execution_count": 29,
     "metadata": {},
     "output_type": "execute_result"
    }
   ],
   "source": [
    "data_dictionary = {}\n",
    "\n",
    "for x in range(0, len(spans), 2):\n",
    "    data_dictionary[spans[x].string]= spans[x+1].string\n",
    "data_dictionary"
   ]
  },
  {
   "cell_type": "code",
   "execution_count": null,
   "metadata": {
    "collapsed": true
   },
   "outputs": [],
   "source": []
  }
 ],
 "metadata": {
  "kernelspec": {
   "display_name": "Python [Root]",
   "language": "python",
   "name": "Python [Root]"
  },
  "language_info": {
   "codemirror_mode": {
    "name": "ipython",
    "version": 2
   },
   "file_extension": ".py",
   "mimetype": "text/x-python",
   "name": "python",
   "nbconvert_exporter": "python",
   "pygments_lexer": "ipython2",
   "version": "2.7.12"
  }
 },
 "nbformat": 4,
 "nbformat_minor": 0
}
