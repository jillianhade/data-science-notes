{
 "cells": [
  {
   "cell_type": "code",
   "execution_count": 3,
   "metadata": {
    "collapsed": false
   },
   "outputs": [],
   "source": [
    "import pandas as pd\n",
    "import numpy as np\n",
    "import matplotlib.pyplot as plt\n",
    "%matplotlib inline"
   ]
  },
  {
   "cell_type": "code",
   "execution_count": 4,
   "metadata": {
    "collapsed": true
   },
   "outputs": [],
   "source": [
    "df = pd.read_csv('../DSI-CHI-1/lessons/week-06/3.2-random-forests-lab/assets/datasets/imdb_p6_sample.csv')"
   ]
  },
  {
   "cell_type": "code",
   "execution_count": 5,
   "metadata": {
    "collapsed": false
   },
   "outputs": [
    {
     "data": {
      "text/html": [
       "<div>\n",
       "<table border=\"1\" class=\"dataframe\">\n",
       "  <thead>\n",
       "    <tr style=\"text-align: right;\">\n",
       "      <th></th>\n",
       "      <th>HA</th>\n",
       "      <th>rating</th>\n",
       "      <th>tconst</th>\n",
       "      <th>title</th>\n",
       "      <th>year</th>\n",
       "      <th>excellent</th>\n",
       "      <th>great</th>\n",
       "      <th>love</th>\n",
       "      <th>beautiful</th>\n",
       "      <th>best</th>\n",
       "      <th>hope</th>\n",
       "      <th>groundbreaking</th>\n",
       "      <th>amazing</th>\n",
       "    </tr>\n",
       "  </thead>\n",
       "  <tbody>\n",
       "    <tr>\n",
       "      <th>0</th>\n",
       "      <td>1633889</td>\n",
       "      <td>9.3</td>\n",
       "      <td>tt0111161</td>\n",
       "      <td>The Shawshank Redemption</td>\n",
       "      <td>1994</td>\n",
       "      <td>0</td>\n",
       "      <td>1</td>\n",
       "      <td>0</td>\n",
       "      <td>1</td>\n",
       "      <td>0</td>\n",
       "      <td>0</td>\n",
       "      <td>0</td>\n",
       "      <td>1</td>\n",
       "    </tr>\n",
       "    <tr>\n",
       "      <th>1</th>\n",
       "      <td>1118799</td>\n",
       "      <td>9.2</td>\n",
       "      <td>tt0068646</td>\n",
       "      <td>The Godfather</td>\n",
       "      <td>1972</td>\n",
       "      <td>1</td>\n",
       "      <td>1</td>\n",
       "      <td>0</td>\n",
       "      <td>0</td>\n",
       "      <td>1</td>\n",
       "      <td>0</td>\n",
       "      <td>1</td>\n",
       "      <td>0</td>\n",
       "    </tr>\n",
       "    <tr>\n",
       "      <th>2</th>\n",
       "      <td>762879</td>\n",
       "      <td>9.0</td>\n",
       "      <td>tt0071562</td>\n",
       "      <td>The Godfather: Part II</td>\n",
       "      <td>1974</td>\n",
       "      <td>1</td>\n",
       "      <td>1</td>\n",
       "      <td>0</td>\n",
       "      <td>0</td>\n",
       "      <td>1</td>\n",
       "      <td>0</td>\n",
       "      <td>0</td>\n",
       "      <td>1</td>\n",
       "    </tr>\n",
       "    <tr>\n",
       "      <th>3</th>\n",
       "      <td>1616346</td>\n",
       "      <td>9.0</td>\n",
       "      <td>tt0468569</td>\n",
       "      <td>The Dark Knight</td>\n",
       "      <td>2008</td>\n",
       "      <td>1</td>\n",
       "      <td>1</td>\n",
       "      <td>1</td>\n",
       "      <td>0</td>\n",
       "      <td>1</td>\n",
       "      <td>0</td>\n",
       "      <td>1</td>\n",
       "      <td>1</td>\n",
       "    </tr>\n",
       "    <tr>\n",
       "      <th>4</th>\n",
       "      <td>835155</td>\n",
       "      <td>8.9</td>\n",
       "      <td>tt0108052</td>\n",
       "      <td>Schindler's List</td>\n",
       "      <td>1993</td>\n",
       "      <td>1</td>\n",
       "      <td>1</td>\n",
       "      <td>1</td>\n",
       "      <td>1</td>\n",
       "      <td>1</td>\n",
       "      <td>1</td>\n",
       "      <td>1</td>\n",
       "      <td>1</td>\n",
       "    </tr>\n",
       "  </tbody>\n",
       "</table>\n",
       "</div>"
      ],
      "text/plain": [
       "        HA  rating     tconst                     title  year  excellent  \\\n",
       "0  1633889     9.3  tt0111161  The Shawshank Redemption  1994          0   \n",
       "1  1118799     9.2  tt0068646             The Godfather  1972          1   \n",
       "2   762879     9.0  tt0071562    The Godfather: Part II  1974          1   \n",
       "3  1616346     9.0  tt0468569           The Dark Knight  2008          1   \n",
       "4   835155     8.9  tt0108052          Schindler's List  1993          1   \n",
       "\n",
       "   great  love  beautiful  best  hope  groundbreaking  amazing  \n",
       "0      1     0          1     0     0               0        1  \n",
       "1      1     0          0     1     0               1        0  \n",
       "2      1     0          0     1     0               0        1  \n",
       "3      1     1          0     1     0               1        1  \n",
       "4      1     1          1     1     1               1        1  "
      ]
     },
     "execution_count": 5,
     "metadata": {},
     "output_type": "execute_result"
    }
   ],
   "source": [
    "df.head()"
   ]
  },
  {
   "cell_type": "markdown",
   "metadata": {},
   "source": [
    " Decision Tree Regressor\n",
    "Train a decision tree regressor on the data and estimate the rating\n",
    "Evaluate the score with a 3-fold shuffled cross validation\n",
    "Do a scatter plot of the predicted vs actual scores for each of the 3 folds, do they match?\n",
    "They should align to a diagonal line.\n",
    "Add some text to the plot indicating the average $R^2$ coefficient"
   ]
  },
  {
   "cell_type": "code",
   "execution_count": 10,
   "metadata": {
    "collapsed": true
   },
   "outputs": [],
   "source": [
    "from sklearn.tree import DecisionTreeRegressor\n",
    "from sklearn.cross_validation import KFold"
   ]
  },
  {
   "cell_type": "code",
   "execution_count": 7,
   "metadata": {
    "collapsed": true
   },
   "outputs": [],
   "source": [
    "# ignoring train test split for this one\n",
    "y = df['rating']"
   ]
  },
  {
   "cell_type": "code",
   "execution_count": 9,
   "metadata": {
    "collapsed": false
   },
   "outputs": [
    {
     "data": {
      "text/html": [
       "<div>\n",
       "<table border=\"1\" class=\"dataframe\">\n",
       "  <thead>\n",
       "    <tr style=\"text-align: right;\">\n",
       "      <th></th>\n",
       "      <th>year</th>\n",
       "      <th>excellent</th>\n",
       "      <th>great</th>\n",
       "      <th>love</th>\n",
       "      <th>beautiful</th>\n",
       "      <th>best</th>\n",
       "      <th>hope</th>\n",
       "      <th>groundbreaking</th>\n",
       "      <th>amazing</th>\n",
       "    </tr>\n",
       "  </thead>\n",
       "  <tbody>\n",
       "    <tr>\n",
       "      <th>0</th>\n",
       "      <td>1994</td>\n",
       "      <td>0</td>\n",
       "      <td>1</td>\n",
       "      <td>0</td>\n",
       "      <td>1</td>\n",
       "      <td>0</td>\n",
       "      <td>0</td>\n",
       "      <td>0</td>\n",
       "      <td>1</td>\n",
       "    </tr>\n",
       "    <tr>\n",
       "      <th>1</th>\n",
       "      <td>1972</td>\n",
       "      <td>1</td>\n",
       "      <td>1</td>\n",
       "      <td>0</td>\n",
       "      <td>0</td>\n",
       "      <td>1</td>\n",
       "      <td>0</td>\n",
       "      <td>1</td>\n",
       "      <td>0</td>\n",
       "    </tr>\n",
       "    <tr>\n",
       "      <th>2</th>\n",
       "      <td>1974</td>\n",
       "      <td>1</td>\n",
       "      <td>1</td>\n",
       "      <td>0</td>\n",
       "      <td>0</td>\n",
       "      <td>1</td>\n",
       "      <td>0</td>\n",
       "      <td>0</td>\n",
       "      <td>1</td>\n",
       "    </tr>\n",
       "    <tr>\n",
       "      <th>3</th>\n",
       "      <td>2008</td>\n",
       "      <td>1</td>\n",
       "      <td>1</td>\n",
       "      <td>1</td>\n",
       "      <td>0</td>\n",
       "      <td>1</td>\n",
       "      <td>0</td>\n",
       "      <td>1</td>\n",
       "      <td>1</td>\n",
       "    </tr>\n",
       "    <tr>\n",
       "      <th>4</th>\n",
       "      <td>1993</td>\n",
       "      <td>1</td>\n",
       "      <td>1</td>\n",
       "      <td>1</td>\n",
       "      <td>1</td>\n",
       "      <td>1</td>\n",
       "      <td>1</td>\n",
       "      <td>1</td>\n",
       "      <td>1</td>\n",
       "    </tr>\n",
       "  </tbody>\n",
       "</table>\n",
       "</div>"
      ],
      "text/plain": [
       "   year  excellent  great  love  beautiful  best  hope  groundbreaking  \\\n",
       "0  1994          0      1     0          1     0     0               0   \n",
       "1  1972          1      1     0          0     1     0               1   \n",
       "2  1974          1      1     0          0     1     0               0   \n",
       "3  2008          1      1     1          0     1     0               1   \n",
       "4  1993          1      1     1          1     1     1               1   \n",
       "\n",
       "   amazing  \n",
       "0        1  \n",
       "1        0  \n",
       "2        1  \n",
       "3        1  \n",
       "4        1  "
      ]
     },
     "execution_count": 9,
     "metadata": {},
     "output_type": "execute_result"
    }
   ],
   "source": [
    "x = df.drop(['HA', 'rating', 'tconst', 'title'], axis=1)\n",
    "x.head()"
   ]
  },
  {
   "cell_type": "code",
   "execution_count": 15,
   "metadata": {
    "collapsed": true
   },
   "outputs": [],
   "source": [
    "cv = KFold(len(df),n_folds=3, shuffle=True, random_state=42)"
   ]
  },
  {
   "cell_type": "code",
   "execution_count": 16,
   "metadata": {
    "collapsed": false
   },
   "outputs": [
    {
     "data": {
      "text/plain": [
       "sklearn.cross_validation.KFold(n=26, n_folds=3, shuffle=True, random_state=42)"
      ]
     },
     "execution_count": 16,
     "metadata": {},
     "output_type": "execute_result"
    }
   ],
   "source": [
    "cv"
   ]
  },
  {
   "cell_type": "code",
   "execution_count": 17,
   "metadata": {
    "collapsed": false
   },
   "outputs": [
    {
     "name": "stdout",
     "output_type": "stream",
     "text": [
      "(array([ 2,  3,  4,  5,  6,  7, 10, 12, 14, 15, 17, 18, 19, 20, 21, 22, 25]), array([ 0,  1,  8,  9, 11, 13, 16, 23, 24]))\n",
      "(array([ 0,  1,  6,  7,  8,  9, 10, 11, 13, 14, 16, 18, 19, 20, 23, 24, 25]), array([ 2,  3,  4,  5, 12, 15, 17, 21, 22]))\n",
      "(array([ 0,  1,  2,  3,  4,  5,  8,  9, 11, 12, 13, 15, 16, 17, 21, 22, 23,\n",
      "       24]), array([ 6,  7, 10, 14, 18, 19, 20, 25]))\n"
     ]
    }
   ],
   "source": [
    "# gives index for train and test sets. seeing what each fold will look like\n",
    "# will fit model on each fold\n",
    "i = 0\n",
    "\n",
    "for item in cv:\n",
    "    print item\n",
    "    i += 1"
   ]
  },
  {
   "cell_type": "code",
   "execution_count": 18,
   "metadata": {
    "collapsed": false
   },
   "outputs": [
    {
     "data": {
      "text/plain": [
       "array([ 9.3,  9.2,  9. ,  9. ,  8.9,  8.9,  8.9,  8.9,  8.9,  8.9,  8.8,\n",
       "        8.8,  8.8,  8.8,  8.7,  8.7,  8.7,  8.7,  8.7,  8.7,  8.7,  8.6,\n",
       "        8.6,  8.6,  8.6,  8.6])"
      ]
     },
     "execution_count": 18,
     "metadata": {},
     "output_type": "execute_result"
    }
   ],
   "source": [
    "y.as_matrix()"
   ]
  },
  {
   "cell_type": "code",
   "execution_count": 19,
   "metadata": {
    "collapsed": false
   },
   "outputs": [
    {
     "data": {
      "text/plain": [
       "array([[1994,    0,    1,    0,    1,    0,    0,    0,    1],\n",
       "       [1972,    1,    1,    0,    0,    1,    0,    1,    0],\n",
       "       [1974,    1,    1,    0,    0,    1,    0,    0,    1],\n",
       "       [2008,    1,    1,    1,    0,    1,    0,    1,    1],\n",
       "       [1993,    1,    1,    1,    1,    1,    1,    1,    1],\n",
       "       [1957,    1,    0,    0,    0,    0,    0,    0,    0],\n",
       "       [1994,    0,    0,    0,    0,    0,    0,    1,    0],\n",
       "       [2003,    1,    0,    0,    1,    0,    0,    0,    1],\n",
       "       [1966,    0,    0,    0,    0,    0,    1,    1,    0],\n",
       "       [1999,    0,    1,    0,    0,    0,    1,    0,    0],\n",
       "       [2001,    1,    1,    1,    1,    0,    0,    0,    0],\n",
       "       [1980,    0,    0,    1,    0,    0,    0,    1,    0],\n",
       "       [1994,    0,    0,    0,    0,    0,    1,    0,    0],\n",
       "       [2010,    1,    0,    0,    0,    0,    0,    0,    0],\n",
       "       [2002,    1,    1,    0,    0,    1,    1,    0,    0],\n",
       "       [1975,    0,    0,    1,    1,    0,    0,    0,    0],\n",
       "       [1990,    0,    0,    0,    0,    1,    0,    0,    0],\n",
       "       [1999,    0,    0,    1,    0,    0,    0,    0,    1],\n",
       "       [1954,    0,    1,    0,    1,    0,    0,    1,    0],\n",
       "       [1977,    1,    0,    1,    0,    0,    1,    0,    0],\n",
       "       [2002,    1,    0,    1,    0,    0,    0,    0,    0],\n",
       "       [1995,    1,    1,    0,    0,    0,    1,    0,    1],\n",
       "       [1991,    0,    0,    0,    0,    0,    0,    0,    1],\n",
       "       [1946,    1,    0,    0,    1,    0,    1,    0,    0],\n",
       "       [1995,    1,    0,    1,    1,    1,    1,    0,    0],\n",
       "       [1997,    1,    0,    1,    0,    0,    0,    0,    0]])"
      ]
     },
     "execution_count": 19,
     "metadata": {},
     "output_type": "execute_result"
    }
   ],
   "source": [
    "x.as_matrix()"
   ]
  },
  {
   "cell_type": "code",
   "execution_count": 22,
   "metadata": {
    "collapsed": true
   },
   "outputs": [],
   "source": [
    "def fit_and_evaluate_model(x_train, x_test, y_train, y_test):\n",
    "    decision_tree_regressor = DecisionTreeRegressor()\n",
    "    decision_tree_regressor.fit(x_train, y_train)\n",
    "    print decision_tree.score(x_test, y_test)"
   ]
  },
  {
   "cell_type": "code",
   "execution_count": 21,
   "metadata": {
    "collapsed": false
   },
   "outputs": [
    {
     "name": "stdout",
     "output_type": "stream",
     "text": [
      "[ 9.   9.   8.9  8.9  8.9  8.9  8.8  8.8  8.7  8.7  8.7  8.7  8.7  8.7  8.6\n",
      "  8.6  8.6]\n",
      "[ 9.3  9.2  8.9  8.9  8.8  8.8  8.7  8.6  8.6]\n",
      "\n",
      "\n",
      "[ 9.3  9.2  8.9  8.9  8.9  8.9  8.8  8.8  8.8  8.7  8.7  8.7  8.7  8.7  8.6\n",
      "  8.6  8.6]\n",
      "[ 9.   9.   8.9  8.9  8.8  8.7  8.7  8.6  8.6]\n",
      "\n",
      "\n",
      "[ 9.3  9.2  9.   9.   8.9  8.9  8.9  8.9  8.8  8.8  8.8  8.7  8.7  8.7  8.6\n",
      "  8.6  8.6  8.6]\n",
      "[ 8.9  8.9  8.8  8.7  8.7  8.7  8.7  8.6]\n",
      "\n",
      "\n"
     ]
    }
   ],
   "source": [
    "# this loop sets up train test sets\n",
    "for training_set, test_set in cv:\n",
    "    print y.as_matrix()[training_set]\n",
    "    print y.as_matrix()[test_set]\n",
    "    print '\\n'"
   ]
  },
  {
   "cell_type": "code",
   "execution_count": 24,
   "metadata": {
    "collapsed": false
   },
   "outputs": [
    {
     "name": "stdout",
     "output_type": "stream",
     "text": [
      "here is one fold of data\n",
      "[[1974    1    1    0    0    1    0    0    1]\n",
      " [2008    1    1    1    0    1    0    1    1]\n",
      " [1993    1    1    1    1    1    1    1    1]\n",
      " [1957    1    0    0    0    0    0    0    0]\n",
      " [1994    0    0    0    0    0    0    1    0]\n",
      " [2003    1    0    0    1    0    0    0    1]\n",
      " [2001    1    1    1    1    0    0    0    0]\n",
      " [1994    0    0    0    0    0    1    0    0]\n",
      " [2002    1    1    0    0    1    1    0    0]\n",
      " [1975    0    0    1    1    0    0    0    0]\n",
      " [1999    0    0    1    0    0    0    0    1]\n",
      " [1954    0    1    0    1    0    0    1    0]\n",
      " [1977    1    0    1    0    0    1    0    0]\n",
      " [2002    1    0    1    0    0    0    0    0]\n",
      " [1995    1    1    0    0    0    1    0    1]\n",
      " [1991    0    0    0    0    0    0    0    1]\n",
      " [1997    1    0    1    0    0    0    0    0]] [[1994    0    1    0    1    0    0    0    1]\n",
      " [1972    1    1    0    0    1    0    1    0]\n",
      " [1966    0    0    0    0    0    1    1    0]\n",
      " [1999    0    1    0    0    0    1    0    0]\n",
      " [1980    0    0    1    0    0    0    1    0]\n",
      " [2010    1    0    0    0    0    0    0    0]\n",
      " [1990    0    0    0    0    1    0    0    0]\n",
      " [1946    1    0    0    1    0    1    0    0]\n",
      " [1995    1    0    1    1    1    1    0    0]] [ 9.   9.   8.9  8.9  8.9  8.9  8.8  8.8  8.7  8.7  8.7  8.7  8.7  8.7  8.6\n",
      "  8.6  8.6] [ 9.3  9.2  8.9  8.9  8.8  8.8  8.7  8.6  8.6]\n",
      "\n",
      "\n",
      "here is one fold of data\n",
      "[[1994    0    1    0    1    0    0    0    1]\n",
      " [1972    1    1    0    0    1    0    1    0]\n",
      " [1994    0    0    0    0    0    0    1    0]\n",
      " [2003    1    0    0    1    0    0    0    1]\n",
      " [1966    0    0    0    0    0    1    1    0]\n",
      " [1999    0    1    0    0    0    1    0    0]\n",
      " [2001    1    1    1    1    0    0    0    0]\n",
      " [1980    0    0    1    0    0    0    1    0]\n",
      " [2010    1    0    0    0    0    0    0    0]\n",
      " [2002    1    1    0    0    1    1    0    0]\n",
      " [1990    0    0    0    0    1    0    0    0]\n",
      " [1954    0    1    0    1    0    0    1    0]\n",
      " [1977    1    0    1    0    0    1    0    0]\n",
      " [2002    1    0    1    0    0    0    0    0]\n",
      " [1946    1    0    0    1    0    1    0    0]\n",
      " [1995    1    0    1    1    1    1    0    0]\n",
      " [1997    1    0    1    0    0    0    0    0]] [[1974    1    1    0    0    1    0    0    1]\n",
      " [2008    1    1    1    0    1    0    1    1]\n",
      " [1993    1    1    1    1    1    1    1    1]\n",
      " [1957    1    0    0    0    0    0    0    0]\n",
      " [1994    0    0    0    0    0    1    0    0]\n",
      " [1975    0    0    1    1    0    0    0    0]\n",
      " [1999    0    0    1    0    0    0    0    1]\n",
      " [1995    1    1    0    0    0    1    0    1]\n",
      " [1991    0    0    0    0    0    0    0    1]] [ 9.3  9.2  8.9  8.9  8.9  8.9  8.8  8.8  8.8  8.7  8.7  8.7  8.7  8.7  8.6\n",
      "  8.6  8.6] [ 9.   9.   8.9  8.9  8.8  8.7  8.7  8.6  8.6]\n",
      "\n",
      "\n",
      "here is one fold of data\n",
      "[[1994    0    1    0    1    0    0    0    1]\n",
      " [1972    1    1    0    0    1    0    1    0]\n",
      " [1974    1    1    0    0    1    0    0    1]\n",
      " [2008    1    1    1    0    1    0    1    1]\n",
      " [1993    1    1    1    1    1    1    1    1]\n",
      " [1957    1    0    0    0    0    0    0    0]\n",
      " [1966    0    0    0    0    0    1    1    0]\n",
      " [1999    0    1    0    0    0    1    0    0]\n",
      " [1980    0    0    1    0    0    0    1    0]\n",
      " [1994    0    0    0    0    0    1    0    0]\n",
      " [2010    1    0    0    0    0    0    0    0]\n",
      " [1975    0    0    1    1    0    0    0    0]\n",
      " [1990    0    0    0    0    1    0    0    0]\n",
      " [1999    0    0    1    0    0    0    0    1]\n",
      " [1995    1    1    0    0    0    1    0    1]\n",
      " [1991    0    0    0    0    0    0    0    1]\n",
      " [1946    1    0    0    1    0    1    0    0]\n",
      " [1995    1    0    1    1    1    1    0    0]] [[1994    0    0    0    0    0    0    1    0]\n",
      " [2003    1    0    0    1    0    0    0    1]\n",
      " [2001    1    1    1    1    0    0    0    0]\n",
      " [2002    1    1    0    0    1    1    0    0]\n",
      " [1954    0    1    0    1    0    0    1    0]\n",
      " [1977    1    0    1    0    0    1    0    0]\n",
      " [2002    1    0    1    0    0    0    0    0]\n",
      " [1997    1    0    1    0    0    0    0    0]] [ 9.3  9.2  9.   9.   8.9  8.9  8.9  8.9  8.8  8.8  8.8  8.7  8.7  8.7  8.6\n",
      "  8.6  8.6  8.6] [ 8.9  8.9  8.8  8.7  8.7  8.7  8.7  8.6]\n",
      "\n",
      "\n"
     ]
    }
   ],
   "source": [
    "for training_set, test_set in cv:\n",
    "    x_train = x.as_matrix()[training_set]\n",
    "    x_test = x.as_matrix()[test_set]\n",
    "    y_train = y.as_matrix()[training_set]\n",
    "    y_test = y.as_matrix()[test_set]\n",
    "    print 'here is one fold of data'\n",
    "    print x_train, x_test, y_train, y_test\n",
    "    print '\\n'"
   ]
  },
  {
   "cell_type": "code",
   "execution_count": 44,
   "metadata": {
    "collapsed": true
   },
   "outputs": [],
   "source": [
    "def fit_and_evaluate_model(x_train, x_test, \n",
    "                           y_train, y_test,\n",
    "                          model):\n",
    "    model.fit(x_train, y_train)\n",
    "    predictions = model.predict(x_test)\n",
    "    plt.scatter(y_test, predictions)\n",
    "    plt.plot([8,9,10], [8,9,10])\n",
    "    plt.xlim((8,10))\n",
    "    plt.ylim((8,10))\n",
    "    plt.xlabel('actual y values')\n",
    "    plt.ylabel('predicted y values')\n",
    "    plt.show()\n",
    "    return model.score(x_test, y_test)"
   ]
  },
  {
   "cell_type": "code",
   "execution_count": 45,
   "metadata": {
    "collapsed": false
   },
   "outputs": [
    {
     "data": {
      "image/png": "[encoded data removed]",
      "text/plain": [
       "<matplotlib.figure.Figure at 0x119fbf390>"
      ]
     },
     "metadata": {},
     "output_type": "display_data"
    },
    {
     "name": "stdout",
     "output_type": "stream",
     "text": [
      "for fold 0, the score is: -0.666666666667\n"
     ]
    },
    {
     "data": {
      "image/png": "[encoded data removed]",
      "text/plain": [
       "<matplotlib.figure.Figure at 0x119e69310>"
      ]
     },
     "metadata": {},
     "output_type": "display_data"
    },
    {
     "name": "stdout",
     "output_type": "stream",
     "text": [
      "for fold 1, the score is: -4.25\n"
     ]
    },
    {
     "data": {
      "image/png": "[encoded data removed]",
      "text/plain": [
       "<matplotlib.figure.Figure at 0x11b606d50>"
      ]
     },
     "metadata": {},
     "output_type": "display_data"
    },
    {
     "name": "stdout",
     "output_type": "stream",
     "text": [
      "for fold 2, the score is: -8.0\n",
      "the avg score is: -4.30555555556\n"
     ]
    }
   ],
   "source": [
    "counter = 0\n",
    "set_of_scores = []\n",
    "\n",
    "for training_set, test_set in cv:\n",
    "    decision_tree = DecisionTreeRegressor()\n",
    "    x_train = x.as_matrix()[training_set]\n",
    "    x_test = x.as_matrix()[test_set]\n",
    "    y_train = y.as_matrix()[training_set]\n",
    "    y_test = y.as_matrix()[test_set]\n",
    "    model_score = fit_and_evaluate_model(x_train, x_test, \n",
    "                                         y_train, y_test,\n",
    "                                        decision_tree)\n",
    "    print 'for fold %s, the score is: %s' % (counter, model_score)\n",
    "    set_of_scores.append(model_score)\n",
    "    counter += 1\n",
    "    \n",
    "print 'the avg score is: %s' % np.mean(set_of_scores)"
   ]
  },
  {
   "cell_type": "code",
   "execution_count": 46,
   "metadata": {
    "collapsed": false
   },
   "outputs": [
    {
     "data": {
      "image/png": "[encoded data removed]",
      "text/plain": [
       "<matplotlib.figure.Figure at 0x11b60fe90>"
      ]
     },
     "metadata": {},
     "output_type": "display_data"
    },
    {
     "name": "stdout",
     "output_type": "stream",
     "text": [
      "for fold 0, the score is: -0.321875\n"
     ]
    },
    {
     "data": {
      "image/png": "[encoded data removed]",
      "text/plain": [
       "<matplotlib.figure.Figure at 0x119fe6950>"
      ]
     },
     "metadata": {},
     "output_type": "display_data"
    },
    {
     "name": "stdout",
     "output_type": "stream",
     "text": [
      "for fold 1, the score is: -0.9305\n"
     ]
    },
    {
     "data": {
      "image/png": "[encoded data removed]",
      "text/plain": [
       "<matplotlib.figure.Figure at 0x117383c10>"
      ]
     },
     "metadata": {},
     "output_type": "display_data"
    },
    {
     "name": "stdout",
     "output_type": "stream",
     "text": [
      "for fold 2, the score is: -3.98\n",
      "the avg score is: -1.744125\n"
     ]
    }
   ],
   "source": [
    "counter = 0\n",
    "set_of_scores = []\n",
    "\n",
    "from sklearn.ensemble import RandomForestRegressor, AdaBoostRegressor, GradientBoostingRegressor\n",
    "\n",
    "for training_set, test_set in cv:\n",
    "    random_forest = RandomForestRegressor()\n",
    "    x_train = x.as_matrix()[training_set]\n",
    "    x_test = x.as_matrix()[test_set]\n",
    "    y_train = y.as_matrix()[training_set]\n",
    "    y_test = y.as_matrix()[test_set]\n",
    "    model_score = fit_and_evaluate_model(x_train, x_test, \n",
    "                                         y_train, y_test,\n",
    "                                        random_forest)\n",
    "    \n",
    "    print 'for fold %s, the score is: %s' % (counter, model_score)\n",
    "    set_of_scores.append(model_score)\n",
    "    counter += 1\n",
    "    \n",
    "print 'the avg score is: %s' % np.mean(set_of_scores)"
   ]
  },
  {
   "cell_type": "code",
   "execution_count": null,
   "metadata": {
    "collapsed": true
   },
   "outputs": [],
   "source": []
  },
  {
   "cell_type": "code",
   "execution_count": null,
   "metadata": {
    "collapsed": true
   },
   "outputs": [],
   "source": []
  }
 ],
 "metadata": {
  "kernelspec": {
   "display_name": "Python [Root]",
   "language": "python",
   "name": "Python [Root]"
  },
  "language_info": {
   "codemirror_mode": {
    "name": "ipython",
    "version": 2
   },
   "file_extension": ".py",
   "mimetype": "text/x-python",
   "name": "python",
   "nbconvert_exporter": "python",
   "pygments_lexer": "ipython2",
   "version": "2.7.12"
  }
 },
 "nbformat": 4,
 "nbformat_minor": 0
}
