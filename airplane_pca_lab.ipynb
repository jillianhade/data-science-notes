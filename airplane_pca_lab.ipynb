{
 "cells": [
  {
   "cell_type": "code",
   "execution_count": 1,
   "metadata": {
    "collapsed": true
   },
   "outputs": [],
   "source": [
    "import pandas as pd\n",
    "import numpy as np\n",
    "import os\n",
    "from matplotlib import pyplot as plt\n",
    "%matplotlib inline\n",
    "import numpy as np\n",
    "import math\n",
    "from sklearn.preprocessing import StandardScaler\n",
    "from sklearn.decomposition import PCA "
   ]
  },
  {
   "cell_type": "code",
   "execution_count": 3,
   "metadata": {
    "collapsed": false
   },
   "outputs": [],
   "source": [
    "df = pd.read_csv('../DSI-CHI-1/lessons/week-07/2.3-pca-lab-1/assets/datasets/Airport_operations.csv')"
   ]
  },
  {
   "cell_type": "code",
   "execution_count": 4,
   "metadata": {
    "collapsed": false
   },
   "outputs": [
    {
     "data": {
      "text/html": [
       "<div>\n",
       "<table border=\"1\" class=\"dataframe\">\n",
       "  <thead>\n",
       "    <tr style=\"text-align: right;\">\n",
       "      <th></th>\n",
       "      <th>airport</th>\n",
       "      <th>year</th>\n",
       "      <th>departures for metric computation</th>\n",
       "      <th>arrivals for metric computation</th>\n",
       "      <th>percent on-time gate departures</th>\n",
       "      <th>percent on-time airport departures</th>\n",
       "      <th>percent on-time gate arrivals</th>\n",
       "      <th>average_gate_departure_delay</th>\n",
       "      <th>average_taxi_out_time</th>\n",
       "      <th>average taxi out delay</th>\n",
       "      <th>average airport departure delay</th>\n",
       "      <th>average airborne delay</th>\n",
       "      <th>average taxi in delay</th>\n",
       "      <th>average block delay</th>\n",
       "      <th>average gate arrival delay</th>\n",
       "    </tr>\n",
       "  </thead>\n",
       "  <tbody>\n",
       "    <tr>\n",
       "      <th>0</th>\n",
       "      <td>ABQ</td>\n",
       "      <td>2004</td>\n",
       "      <td>53971</td>\n",
       "      <td>53818</td>\n",
       "      <td>0.8030</td>\n",
       "      <td>0.7809</td>\n",
       "      <td>0.7921</td>\n",
       "      <td>10.38</td>\n",
       "      <td>9.89</td>\n",
       "      <td>2.43</td>\n",
       "      <td>12.10</td>\n",
       "      <td>2.46</td>\n",
       "      <td>0.83</td>\n",
       "      <td>2.55</td>\n",
       "      <td>10.87</td>\n",
       "    </tr>\n",
       "    <tr>\n",
       "      <th>1</th>\n",
       "      <td>ABQ</td>\n",
       "      <td>2005</td>\n",
       "      <td>51829</td>\n",
       "      <td>51877</td>\n",
       "      <td>0.8140</td>\n",
       "      <td>0.7922</td>\n",
       "      <td>0.8001</td>\n",
       "      <td>9.60</td>\n",
       "      <td>9.79</td>\n",
       "      <td>2.29</td>\n",
       "      <td>11.20</td>\n",
       "      <td>2.26</td>\n",
       "      <td>0.89</td>\n",
       "      <td>2.34</td>\n",
       "      <td>10.24</td>\n",
       "    </tr>\n",
       "    <tr>\n",
       "      <th>2</th>\n",
       "      <td>ABQ</td>\n",
       "      <td>2006</td>\n",
       "      <td>49682</td>\n",
       "      <td>51199</td>\n",
       "      <td>0.7983</td>\n",
       "      <td>0.7756</td>\n",
       "      <td>0.7746</td>\n",
       "      <td>10.84</td>\n",
       "      <td>9.89</td>\n",
       "      <td>2.16</td>\n",
       "      <td>12.33</td>\n",
       "      <td>2.12</td>\n",
       "      <td>0.84</td>\n",
       "      <td>2.66</td>\n",
       "      <td>11.82</td>\n",
       "    </tr>\n",
       "    <tr>\n",
       "      <th>3</th>\n",
       "      <td>ABQ</td>\n",
       "      <td>2007</td>\n",
       "      <td>53255</td>\n",
       "      <td>53611</td>\n",
       "      <td>0.8005</td>\n",
       "      <td>0.7704</td>\n",
       "      <td>0.7647</td>\n",
       "      <td>11.29</td>\n",
       "      <td>10.34</td>\n",
       "      <td>2.40</td>\n",
       "      <td>12.95</td>\n",
       "      <td>2.19</td>\n",
       "      <td>1.29</td>\n",
       "      <td>3.06</td>\n",
       "      <td>12.71</td>\n",
       "    </tr>\n",
       "    <tr>\n",
       "      <th>4</th>\n",
       "      <td>ABQ</td>\n",
       "      <td>2008</td>\n",
       "      <td>49589</td>\n",
       "      <td>49512</td>\n",
       "      <td>0.8103</td>\n",
       "      <td>0.7844</td>\n",
       "      <td>0.7875</td>\n",
       "      <td>10.79</td>\n",
       "      <td>10.41</td>\n",
       "      <td>2.41</td>\n",
       "      <td>12.32</td>\n",
       "      <td>1.82</td>\n",
       "      <td>1.03</td>\n",
       "      <td>2.79</td>\n",
       "      <td>11.48</td>\n",
       "    </tr>\n",
       "  </tbody>\n",
       "</table>\n",
       "</div>"
      ],
      "text/plain": [
       "  airport  year  departures for metric computation  \\\n",
       "0     ABQ  2004                              53971   \n",
       "1     ABQ  2005                              51829   \n",
       "2     ABQ  2006                              49682   \n",
       "3     ABQ  2007                              53255   \n",
       "4     ABQ  2008                              49589   \n",
       "\n",
       "   arrivals for metric computation  percent on-time gate departures  \\\n",
       "0                            53818                           0.8030   \n",
       "1                            51877                           0.8140   \n",
       "2                            51199                           0.7983   \n",
       "3                            53611                           0.8005   \n",
       "4                            49512                           0.8103   \n",
       "\n",
       "   percent on-time airport departures  percent on-time gate arrivals  \\\n",
       "0                              0.7809                         0.7921   \n",
       "1                              0.7922                         0.8001   \n",
       "2                              0.7756                         0.7746   \n",
       "3                              0.7704                         0.7647   \n",
       "4                              0.7844                         0.7875   \n",
       "\n",
       "   average_gate_departure_delay  average_taxi_out_time  \\\n",
       "0                         10.38                   9.89   \n",
       "1                          9.60                   9.79   \n",
       "2                         10.84                   9.89   \n",
       "3                         11.29                  10.34   \n",
       "4                         10.79                  10.41   \n",
       "\n",
       "   average taxi out delay  average airport departure delay  \\\n",
       "0                    2.43                            12.10   \n",
       "1                    2.29                            11.20   \n",
       "2                    2.16                            12.33   \n",
       "3                    2.40                            12.95   \n",
       "4                    2.41                            12.32   \n",
       "\n",
       "   average airborne delay  average taxi in delay  average block delay  \\\n",
       "0                    2.46                   0.83                 2.55   \n",
       "1                    2.26                   0.89                 2.34   \n",
       "2                    2.12                   0.84                 2.66   \n",
       "3                    2.19                   1.29                 3.06   \n",
       "4                    1.82                   1.03                 2.79   \n",
       "\n",
       "   average gate arrival delay  \n",
       "0                       10.87  \n",
       "1                       10.24  \n",
       "2                       11.82  \n",
       "3                       12.71  \n",
       "4                       11.48  "
      ]
     },
     "execution_count": 4,
     "metadata": {},
     "output_type": "execute_result"
    }
   ],
   "source": [
    "df.head()"
   ]
  },
  {
   "cell_type": "code",
   "execution_count": 5,
   "metadata": {
    "collapsed": false
   },
   "outputs": [
    {
     "data": {
      "text/plain": [
       "Index([u'airport', u'year', u'departures for metric computation',\n",
       "       u'arrivals for metric computation', u'percent on-time gate departures',\n",
       "       u'percent on-time airport departures', u'percent on-time gate arrivals',\n",
       "       u'average_gate_departure_delay', u'average_taxi_out_time',\n",
       "       u'average taxi out delay', u'average airport departure delay',\n",
       "       u'average airborne delay', u'average taxi in delay',\n",
       "       u'average block delay', u'average gate arrival delay'],\n",
       "      dtype='object')"
      ]
     },
     "execution_count": 5,
     "metadata": {},
     "output_type": "execute_result"
    }
   ],
   "source": [
    "df.columns"
   ]
  },
  {
   "cell_type": "code",
   "execution_count": 6,
   "metadata": {
    "collapsed": true
   },
   "outputs": [],
   "source": [
    "y = df['airport']"
   ]
  },
  {
   "cell_type": "code",
   "execution_count": 7,
   "metadata": {
    "collapsed": false
   },
   "outputs": [
    {
     "data": {
      "text/plain": [
       "0    ABQ\n",
       "1    ABQ\n",
       "2    ABQ\n",
       "3    ABQ\n",
       "4    ABQ\n",
       "Name: airport, dtype: object"
      ]
     },
     "execution_count": 7,
     "metadata": {},
     "output_type": "execute_result"
    }
   ],
   "source": [
    "y.head()"
   ]
  },
  {
   "cell_type": "code",
   "execution_count": 14,
   "metadata": {
    "collapsed": true
   },
   "outputs": [],
   "source": [
    "for col in columns:\n",
    "    x = df[[col for col in df.columns if col != 'airport']]"
   ]
  },
  {
   "cell_type": "code",
   "execution_count": 15,
   "metadata": {
    "collapsed": false
   },
   "outputs": [
    {
     "data": {
      "text/html": [
       "<div>\n",
       "<table border=\"1\" class=\"dataframe\">\n",
       "  <thead>\n",
       "    <tr style=\"text-align: right;\">\n",
       "      <th></th>\n",
       "      <th>year</th>\n",
       "      <th>departures for metric computation</th>\n",
       "      <th>arrivals for metric computation</th>\n",
       "      <th>percent on-time gate departures</th>\n",
       "      <th>percent on-time airport departures</th>\n",
       "      <th>percent on-time gate arrivals</th>\n",
       "      <th>average_gate_departure_delay</th>\n",
       "      <th>average_taxi_out_time</th>\n",
       "      <th>average taxi out delay</th>\n",
       "      <th>average airport departure delay</th>\n",
       "      <th>average airborne delay</th>\n",
       "      <th>average taxi in delay</th>\n",
       "      <th>average block delay</th>\n",
       "      <th>average gate arrival delay</th>\n",
       "    </tr>\n",
       "  </thead>\n",
       "  <tbody>\n",
       "    <tr>\n",
       "      <th>0</th>\n",
       "      <td>2004</td>\n",
       "      <td>53971</td>\n",
       "      <td>53818</td>\n",
       "      <td>0.8030</td>\n",
       "      <td>0.7809</td>\n",
       "      <td>0.7921</td>\n",
       "      <td>10.38</td>\n",
       "      <td>9.89</td>\n",
       "      <td>2.43</td>\n",
       "      <td>12.10</td>\n",
       "      <td>2.46</td>\n",
       "      <td>0.83</td>\n",
       "      <td>2.55</td>\n",
       "      <td>10.87</td>\n",
       "    </tr>\n",
       "    <tr>\n",
       "      <th>1</th>\n",
       "      <td>2005</td>\n",
       "      <td>51829</td>\n",
       "      <td>51877</td>\n",
       "      <td>0.8140</td>\n",
       "      <td>0.7922</td>\n",
       "      <td>0.8001</td>\n",
       "      <td>9.60</td>\n",
       "      <td>9.79</td>\n",
       "      <td>2.29</td>\n",
       "      <td>11.20</td>\n",
       "      <td>2.26</td>\n",
       "      <td>0.89</td>\n",
       "      <td>2.34</td>\n",
       "      <td>10.24</td>\n",
       "    </tr>\n",
       "    <tr>\n",
       "      <th>2</th>\n",
       "      <td>2006</td>\n",
       "      <td>49682</td>\n",
       "      <td>51199</td>\n",
       "      <td>0.7983</td>\n",
       "      <td>0.7756</td>\n",
       "      <td>0.7746</td>\n",
       "      <td>10.84</td>\n",
       "      <td>9.89</td>\n",
       "      <td>2.16</td>\n",
       "      <td>12.33</td>\n",
       "      <td>2.12</td>\n",
       "      <td>0.84</td>\n",
       "      <td>2.66</td>\n",
       "      <td>11.82</td>\n",
       "    </tr>\n",
       "    <tr>\n",
       "      <th>3</th>\n",
       "      <td>2007</td>\n",
       "      <td>53255</td>\n",
       "      <td>53611</td>\n",
       "      <td>0.8005</td>\n",
       "      <td>0.7704</td>\n",
       "      <td>0.7647</td>\n",
       "      <td>11.29</td>\n",
       "      <td>10.34</td>\n",
       "      <td>2.40</td>\n",
       "      <td>12.95</td>\n",
       "      <td>2.19</td>\n",
       "      <td>1.29</td>\n",
       "      <td>3.06</td>\n",
       "      <td>12.71</td>\n",
       "    </tr>\n",
       "    <tr>\n",
       "      <th>4</th>\n",
       "      <td>2008</td>\n",
       "      <td>49589</td>\n",
       "      <td>49512</td>\n",
       "      <td>0.8103</td>\n",
       "      <td>0.7844</td>\n",
       "      <td>0.7875</td>\n",
       "      <td>10.79</td>\n",
       "      <td>10.41</td>\n",
       "      <td>2.41</td>\n",
       "      <td>12.32</td>\n",
       "      <td>1.82</td>\n",
       "      <td>1.03</td>\n",
       "      <td>2.79</td>\n",
       "      <td>11.48</td>\n",
       "    </tr>\n",
       "  </tbody>\n",
       "</table>\n",
       "</div>"
      ],
      "text/plain": [
       "   year  departures for metric computation  arrivals for metric computation  \\\n",
       "0  2004                              53971                            53818   \n",
       "1  2005                              51829                            51877   \n",
       "2  2006                              49682                            51199   \n",
       "3  2007                              53255                            53611   \n",
       "4  2008                              49589                            49512   \n",
       "\n",
       "   percent on-time gate departures  percent on-time airport departures  \\\n",
       "0                           0.8030                              0.7809   \n",
       "1                           0.8140                              0.7922   \n",
       "2                           0.7983                              0.7756   \n",
       "3                           0.8005                              0.7704   \n",
       "4                           0.8103                              0.7844   \n",
       "\n",
       "   percent on-time gate arrivals  average_gate_departure_delay  \\\n",
       "0                         0.7921                         10.38   \n",
       "1                         0.8001                          9.60   \n",
       "2                         0.7746                         10.84   \n",
       "3                         0.7647                         11.29   \n",
       "4                         0.7875                         10.79   \n",
       "\n",
       "   average_taxi_out_time  average taxi out delay  \\\n",
       "0                   9.89                    2.43   \n",
       "1                   9.79                    2.29   \n",
       "2                   9.89                    2.16   \n",
       "3                  10.34                    2.40   \n",
       "4                  10.41                    2.41   \n",
       "\n",
       "   average airport departure delay  average airborne delay  \\\n",
       "0                            12.10                    2.46   \n",
       "1                            11.20                    2.26   \n",
       "2                            12.33                    2.12   \n",
       "3                            12.95                    2.19   \n",
       "4                            12.32                    1.82   \n",
       "\n",
       "   average taxi in delay  average block delay  average gate arrival delay  \n",
       "0                   0.83                 2.55                       10.87  \n",
       "1                   0.89                 2.34                       10.24  \n",
       "2                   0.84                 2.66                       11.82  \n",
       "3                   1.29                 3.06                       12.71  \n",
       "4                   1.03                 2.79                       11.48  "
      ]
     },
     "execution_count": 15,
     "metadata": {},
     "output_type": "execute_result"
    }
   ],
   "source": [
    "x.head()"
   ]
  },
  {
   "cell_type": "code",
   "execution_count": 16,
   "metadata": {
    "collapsed": false
   },
   "outputs": [
    {
     "data": {
      "text/plain": [
       "year                                  False\n",
       "departures for metric computation     False\n",
       "arrivals for metric computation       False\n",
       "percent on-time gate departures       False\n",
       "percent on-time airport departures    False\n",
       "percent on-time gate arrivals         False\n",
       "average_gate_departure_delay          False\n",
       "average_taxi_out_time                 False\n",
       "average taxi out delay                False\n",
       "average airport departure delay       False\n",
       "average airborne delay                False\n",
       "average taxi in delay                 False\n",
       "average block delay                   False\n",
       "average gate arrival delay            False\n",
       "dtype: bool"
      ]
     },
     "execution_count": 16,
     "metadata": {},
     "output_type": "execute_result"
    }
   ],
   "source": [
    "x.isnull().any()"
   ]
  },
  {
   "cell_type": "code",
   "execution_count": 18,
   "metadata": {
    "collapsed": false
   },
   "outputs": [],
   "source": [
    "# now lets standardize our data\n",
    "\n",
    "jet_setter = StandardScaler().fit_transform(x)"
   ]
  },
  {
   "cell_type": "code",
   "execution_count": 19,
   "metadata": {
    "collapsed": false
   },
   "outputs": [
    {
     "data": {
      "text/plain": [
       "array([[-1.59402353, -0.55269892, -0.55179125, ..., -0.58849731,\n",
       "        -0.76079377, -0.70168278],\n",
       "       [-1.27702807, -0.57450712, -0.57162597, ..., -0.52044906,\n",
       "        -0.9654201 , -0.84232194],\n",
       "       [-0.96003261, -0.59636622, -0.57855433, ..., -0.57715593,\n",
       "        -0.65360855, -0.48960786],\n",
       "       ..., \n",
       "       [ 0.94194013, -1.05379873, -1.05283011, ..., -1.52983138,\n",
       "         0.49619655,  3.2161224 ],\n",
       "       [ 1.25893558, -1.04012533, -1.03874858, ..., -1.52983138,\n",
       "        -0.41000577,  3.07548324],\n",
       "       [ 1.57593104, -1.02672683, -1.02436048, ..., -1.52983138,\n",
       "         0.5449171 ,  3.33890262]])"
      ]
     },
     "execution_count": 19,
     "metadata": {},
     "output_type": "execute_result"
    }
   ],
   "source": [
    "jet_setter"
   ]
  },
  {
   "cell_type": "code",
   "execution_count": 20,
   "metadata": {
    "collapsed": false
   },
   "outputs": [
    {
     "data": {
      "text/plain": [
       "(841, 14)"
      ]
     },
     "execution_count": 20,
     "metadata": {},
     "output_type": "execute_result"
    }
   ],
   "source": [
    "jet_setter.shape"
   ]
  },
  {
   "cell_type": "code",
   "execution_count": 22,
   "metadata": {
    "collapsed": false
   },
   "outputs": [
    {
     "data": {
      "text/plain": [
       "array([[ 1.00119048, -0.06920457, -0.06826954,  0.01430972,  0.05008518,\n",
       "         0.09204365,  0.02317489, -0.0430656 , -0.154516  , -0.02867646,\n",
       "        -0.32755534, -0.03635544, -0.31670106, -0.05966818],\n",
       "       [-0.06920457,  1.00119048,  1.00100766,  0.12231773, -0.16437507,\n",
       "         0.20939557, -0.05539575,  0.6537683 ,  0.62938398,  0.20681577,\n",
       "         0.33684867,  0.83124203,  0.29425884, -0.0557856 ],\n",
       "       [-0.06826954,  1.00100766,  1.00119048,  0.12232288, -0.16397662,\n",
       "         0.20945784, -0.0560545 ,  0.65186846,  0.62868998,  0.20597707,\n",
       "         0.3357403 ,  0.83028795,  0.29142547, -0.05643154]])"
      ]
     },
     "execution_count": 22,
     "metadata": {},
     "output_type": "execute_result"
    }
   ],
   "source": [
    "cov_matrix = np.cov(jet_setter.T)\n",
    "cov_matrix[0:3]"
   ]
  },
  {
   "cell_type": "code",
   "execution_count": 23,
   "metadata": {
    "collapsed": false
   },
   "outputs": [
    {
     "data": {
      "text/plain": [
       "(14, 14)"
      ]
     },
     "execution_count": 23,
     "metadata": {},
     "output_type": "execute_result"
    }
   ],
   "source": [
    "cov_matrix.shape"
   ]
  },
  {
   "cell_type": "code",
   "execution_count": 24,
   "metadata": {
    "collapsed": true
   },
   "outputs": [],
   "source": [
    "eigenvalues, eigenvectors = np.linalg.eig(cov_matrix)"
   ]
  },
  {
   "cell_type": "code",
   "execution_count": 25,
   "metadata": {
    "collapsed": false
   },
   "outputs": [
    {
     "data": {
      "text/plain": [
       "(14,)"
      ]
     },
     "execution_count": 25,
     "metadata": {},
     "output_type": "execute_result"
    }
   ],
   "source": [
    "eigenvalues.shape"
   ]
  },
  {
   "cell_type": "code",
   "execution_count": 29,
   "metadata": {
    "collapsed": false
   },
   "outputs": [
    {
     "data": {
      "text/plain": [
       "array([ 6.45349601,  4.30952372,  1.21824879,  0.73787539,  0.51095456,\n",
       "        0.34935322,  0.16679928,  0.12022052,  0.07320368,  0.06419244])"
      ]
     },
     "execution_count": 29,
     "metadata": {},
     "output_type": "execute_result"
    }
   ],
   "source": [
    "eigenvalues[0:10]"
   ]
  },
  {
   "cell_type": "code",
   "execution_count": 26,
   "metadata": {
    "collapsed": false
   },
   "outputs": [
    {
     "data": {
      "text/plain": [
       "(14, 14)"
      ]
     },
     "execution_count": 26,
     "metadata": {},
     "output_type": "execute_result"
    }
   ],
   "source": [
    "eigenvectors.shape"
   ]
  },
  {
   "cell_type": "code",
   "execution_count": 31,
   "metadata": {
    "collapsed": false
   },
   "outputs": [
    {
     "data": {
      "text/plain": [
       "array([[-0.05747614,  0.05252557,  0.80890976, -0.38914338, -0.01517249,\n",
       "        -0.40455823, -0.03918196, -0.01319762,  0.14376054, -0.00777298,\n",
       "        -0.03107428, -0.02933693,  0.00229607,  0.001993  ],\n",
       "       [ 0.11683294, -0.41190929,  0.16980855,  0.40257614, -0.12274015,\n",
       "        -0.11232074,  0.29026653,  0.06082036,  0.07665943,  0.03325464,\n",
       "        -0.02178517,  0.02057546,  0.70799524,  0.03171276],\n",
       "       [ 0.1164079 , -0.41158191,  0.17108429,  0.40387107, -0.12540936,\n",
       "        -0.10989401,  0.29134664,  0.06552886,  0.09065779,  0.03221664,\n",
       "        -0.03615976, -0.02653745, -0.70372734, -0.03443946]])"
      ]
     },
     "execution_count": 31,
     "metadata": {},
     "output_type": "execute_result"
    }
   ],
   "source": [
    "eigenvectors[0:3]"
   ]
  },
  {
   "cell_type": "code",
   "execution_count": 32,
   "metadata": {
    "collapsed": false
   },
   "outputs": [
    {
     "data": {
      "text/plain": [
       "[(6.4534960079102319,\n",
       "  array([-0.05747614,  0.05252557,  0.80890976, -0.38914338, -0.01517249,\n",
       "         -0.40455823, -0.03918196, -0.01319762,  0.14376054, -0.00777298,\n",
       "         -0.03107428, -0.02933693,  0.00229607,  0.001993  ])),\n",
       " (4.3095237244909841,\n",
       "  array([ 0.11683294, -0.41190929,  0.16980855,  0.40257614, -0.12274015,\n",
       "         -0.11232074,  0.29026653,  0.06082036,  0.07665943,  0.03325464,\n",
       "         -0.02178517,  0.02057546,  0.70799524,  0.03171276])),\n",
       " (1.218248788447476,\n",
       "  array([ 0.1164079 , -0.41158191,  0.17108429,  0.40387107, -0.12540936,\n",
       "         -0.10989401,  0.29134664,  0.06552886,  0.09065779,  0.03221664,\n",
       "         -0.03615976, -0.02653745, -0.70372734, -0.03443946])),\n",
       " (0.73787539358931009,\n",
       "  array([-0.31455588, -0.25353041, -0.11887711, -0.22456082,  0.12369052,\n",
       "         -0.06827278,  0.05434861,  0.32677046,  0.00236581,  0.32971135,\n",
       "         -0.19934018,  0.66876199, -0.03004708,  0.2143065 ])),\n",
       " (0.51095455771136955,\n",
       "  array([-0.37512831, -0.07870829, -0.10089244, -0.0109185 ,  0.13462459,\n",
       "         -0.21163599,  0.02713532,  0.37337147, -0.28950768,  0.25837666,\n",
       "         -0.28505739, -0.59655308,  0.03098046, -0.22597087])),\n",
       " (0.34935322160621668,\n",
       "  array([-0.31944346, -0.25961871,  0.01437277, -0.0559417 , -0.1428822 ,\n",
       "         -0.02033892, -0.06596489, -0.39823025, -0.24290431,  0.41385873,\n",
       "          0.64009711, -0.05693552, -0.00899358,  0.01103879])),\n",
       " (0.16679927518871432,\n",
       "  array([ 0.3394426 ,  0.21205574,  0.14698731,  0.12087295, -0.0589235 ,\n",
       "          0.03779243, -0.02861451, -0.08274265, -0.41586694,  0.39444589,\n",
       "         -0.23686142, -0.10203254, -0.02798562,  0.62864945])),\n",
       " (0.12022051524721283,\n",
       "  array([ 0.20370273, -0.35157249,  0.01467519, -0.43649882,  0.03961322,\n",
       "          0.13693872,  0.30164274,  0.02896597, -0.59346749, -0.42250455,\n",
       "          0.03186935,  0.0100408 , -0.00571395, -0.01198876])),\n",
       " (0.0732036814776484,\n",
       "  array([ 0.17921314, -0.36563423, -0.07924788, -0.42686047,  0.01006394,\n",
       "          0.38794768,  0.02414551, -0.03627187,  0.50574961,  0.23831185,\n",
       "         -0.09786326, -0.36719245,  0.00912624,  0.19009162])),\n",
       " (0.064192437555064916,\n",
       "  array([ 0.38208105,  0.04418206,  0.11203106, -0.07037202, -0.06312055,\n",
       "          0.18899594, -0.02372135, -0.10145812, -0.13961473,  0.46108621,\n",
       "         -0.19386177,  0.21121544,  0.0253146 , -0.68488741])),\n",
       " (0.0095907458676042084,\n",
       "  array([  2.66364317e-01,  -1.22585403e-01,  -3.37056176e-01,\n",
       "          -1.93717938e-01,  -6.44939228e-01,  -4.85291309e-01,\n",
       "          -3.05280131e-01,   1.30755926e-01,   1.22477890e-02,\n",
       "          -2.64920135e-02,  -1.46332651e-02,  -7.95387587e-03,\n",
       "           3.85537802e-04,   3.55681431e-03])),\n",
       " (0.0023426466445246219,\n",
       "  array([ 0.11754539, -0.4016139 ,  0.16814201,  0.18814637,  0.29971749,\n",
       "          0.10577671, -0.78499734,  0.12280512, -0.11748646, -0.12123046,\n",
       "          0.00943787,  0.01710596, -0.00227527,  0.00325634])),\n",
       " (0.000164364384929588,\n",
       "  array([ 0.292669  , -0.0920439 , -0.2829519 , -0.05923421,  0.60402007,\n",
       "         -0.55513194,  0.09195564, -0.35868531,  0.07700312,  0.07802236,\n",
       "         -0.00844643, -0.00777251, -0.00235432, -0.00503365])),\n",
       " (0.00070130654538518304,\n",
       "  array([ 0.3500623 ,  0.17689915,  0.02122267, -0.0312063 ,  0.18813453,\n",
       "         -0.0224536 ,  0.10227575,  0.63791224,  0.04591438,  0.16146782,\n",
       "          0.60156512, -0.03580417, -0.00331105,  0.00970797]))]"
      ]
     },
     "execution_count": 32,
     "metadata": {},
     "output_type": "execute_result"
    }
   ],
   "source": [
    "eigenpairs = zip(eigenvalues, eigenvectors)\n",
    "eigenpairs"
   ]
  },
  {
   "cell_type": "code",
   "execution_count": 33,
   "metadata": {
    "collapsed": false
   },
   "outputs": [
    {
     "name": "stdout",
     "output_type": "stream",
     "text": [
      "(6.4534960079102319, array([-0.05747614,  0.05252557,  0.80890976, -0.38914338, -0.01517249,\n",
      "       -0.40455823, -0.03918196, -0.01319762,  0.14376054, -0.00777298,\n",
      "       -0.03107428, -0.02933693,  0.00229607,  0.001993  ]))\n",
      "(4.3095237244909841, array([ 0.11683294, -0.41190929,  0.16980855,  0.40257614, -0.12274015,\n",
      "       -0.11232074,  0.29026653,  0.06082036,  0.07665943,  0.03325464,\n",
      "       -0.02178517,  0.02057546,  0.70799524,  0.03171276]))\n",
      "(1.218248788447476, array([ 0.1164079 , -0.41158191,  0.17108429,  0.40387107, -0.12540936,\n",
      "       -0.10989401,  0.29134664,  0.06552886,  0.09065779,  0.03221664,\n",
      "       -0.03615976, -0.02653745, -0.70372734, -0.03443946]))\n",
      "(0.73787539358931009, array([-0.31455588, -0.25353041, -0.11887711, -0.22456082,  0.12369052,\n",
      "       -0.06827278,  0.05434861,  0.32677046,  0.00236581,  0.32971135,\n",
      "       -0.19934018,  0.66876199, -0.03004708,  0.2143065 ]))\n",
      "(0.51095455771136955, array([-0.37512831, -0.07870829, -0.10089244, -0.0109185 ,  0.13462459,\n",
      "       -0.21163599,  0.02713532,  0.37337147, -0.28950768,  0.25837666,\n",
      "       -0.28505739, -0.59655308,  0.03098046, -0.22597087]))\n",
      "(0.34935322160621668, array([-0.31944346, -0.25961871,  0.01437277, -0.0559417 , -0.1428822 ,\n",
      "       -0.02033892, -0.06596489, -0.39823025, -0.24290431,  0.41385873,\n",
      "        0.64009711, -0.05693552, -0.00899358,  0.01103879]))\n",
      "(0.16679927518871432, array([ 0.3394426 ,  0.21205574,  0.14698731,  0.12087295, -0.0589235 ,\n",
      "        0.03779243, -0.02861451, -0.08274265, -0.41586694,  0.39444589,\n",
      "       -0.23686142, -0.10203254, -0.02798562,  0.62864945]))\n",
      "(0.12022051524721283, array([ 0.20370273, -0.35157249,  0.01467519, -0.43649882,  0.03961322,\n",
      "        0.13693872,  0.30164274,  0.02896597, -0.59346749, -0.42250455,\n",
      "        0.03186935,  0.0100408 , -0.00571395, -0.01198876]))\n",
      "(0.0732036814776484, array([ 0.17921314, -0.36563423, -0.07924788, -0.42686047,  0.01006394,\n",
      "        0.38794768,  0.02414551, -0.03627187,  0.50574961,  0.23831185,\n",
      "       -0.09786326, -0.36719245,  0.00912624,  0.19009162]))\n",
      "(0.064192437555064916, array([ 0.38208105,  0.04418206,  0.11203106, -0.07037202, -0.06312055,\n",
      "        0.18899594, -0.02372135, -0.10145812, -0.13961473,  0.46108621,\n",
      "       -0.19386177,  0.21121544,  0.0253146 , -0.68488741]))\n",
      "(0.0095907458676042084, array([  2.66364317e-01,  -1.22585403e-01,  -3.37056176e-01,\n",
      "        -1.93717938e-01,  -6.44939228e-01,  -4.85291309e-01,\n",
      "        -3.05280131e-01,   1.30755926e-01,   1.22477890e-02,\n",
      "        -2.64920135e-02,  -1.46332651e-02,  -7.95387587e-03,\n",
      "         3.85537802e-04,   3.55681431e-03]))\n",
      "(0.0023426466445246219, array([ 0.11754539, -0.4016139 ,  0.16814201,  0.18814637,  0.29971749,\n",
      "        0.10577671, -0.78499734,  0.12280512, -0.11748646, -0.12123046,\n",
      "        0.00943787,  0.01710596, -0.00227527,  0.00325634]))\n",
      "(0.00070130654538518304, array([ 0.3500623 ,  0.17689915,  0.02122267, -0.0312063 ,  0.18813453,\n",
      "       -0.0224536 ,  0.10227575,  0.63791224,  0.04591438,  0.16146782,\n",
      "        0.60156512, -0.03580417, -0.00331105,  0.00970797]))\n",
      "(0.000164364384929588, array([ 0.292669  , -0.0920439 , -0.2829519 , -0.05923421,  0.60402007,\n",
      "       -0.55513194,  0.09195564, -0.35868531,  0.07700312,  0.07802236,\n",
      "       -0.00844643, -0.00777251, -0.00235432, -0.00503365]))\n"
     ]
    }
   ],
   "source": [
    "for i in sorted(eigenpairs, reverse=True):\n",
    "    print i"
   ]
  },
  {
   "cell_type": "code",
   "execution_count": 34,
   "metadata": {
    "collapsed": false
   },
   "outputs": [
    {
     "data": {
      "text/plain": [
       "14.016666666666671"
      ]
     },
     "execution_count": 34,
     "metadata": {},
     "output_type": "execute_result"
    }
   ],
   "source": [
    "eigansums = sum(eigenvalues)\n",
    "eigansums"
   ]
  },
  {
   "cell_type": "code",
   "execution_count": 35,
   "metadata": {
    "collapsed": false
   },
   "outputs": [
    {
     "name": "stdout",
     "output_type": "stream",
     "text": [
      "0.460415886415 6.45349600791\n",
      "0.307457102817 4.30952372449\n",
      "0.0869143011972 1.21824878845\n",
      "0.0526427153571 0.737875393589\n",
      "0.0364533572683 0.510954557711\n",
      "0.02492412996 0.349353221606\n",
      "0.0119000671954 0.166799275189\n",
      "0.00857696898315 0.120220515247\n",
      "0.00522261699008 0.0732036814776\n",
      "0.004579722061 0.0641924375551\n",
      "0.000684238706369 0.0095907458676\n",
      "0.0001671329354 0.00234264664452\n",
      "5.00337606696e-05 0.000701306545385\n",
      "1.17263532649e-05 0.00016436438493\n"
     ]
    }
   ],
   "source": [
    "#for other graph\n",
    "for eig in sorted(eigenpairs, reverse=True):\n",
    "    print eig[0] / eigansums, eig[0]"
   ]
  },
  {
   "cell_type": "code",
   "execution_count": null,
   "metadata": {
    "collapsed": true
   },
   "outputs": [],
   "source": [
    "skree plot to decide which component # to use\n",
    "plt.plot(range(1,15), cumairvar)\n",
    "plt.xlabel(\"Principal Component\")\n",
    "plt.ylabel(\"Cumulative Variance Explained\")\n",
    "plt.show()"
   ]
  },
  {
   "cell_type": "code",
   "execution_count": 42,
   "metadata": {
    "collapsed": false
   },
   "outputs": [
    {
     "data": {
      "text/plain": [
       "array([  46.04158864,   76.78729892,   85.47872904,   90.74300058,\n",
       "         94.38833631,   96.8807493 ,   98.07075602,   98.92845292,\n",
       "         99.45071462,   99.90868682,   99.9771107 ,   99.99382399,\n",
       "         99.99882736,  100.        ])"
      ]
     },
     "execution_count": 42,
     "metadata": {},
     "output_type": "execute_result"
    }
   ],
   "source": [
    "# i like the look of 5 components\n",
    "\n",
    "percents = np.cumsum([(eig / eigansums) * 100 for eig in sorted(eigenvalues, reverse=True)])\n",
    "percents"
   ]
  },
  {
   "cell_type": "code",
   "execution_count": 43,
   "metadata": {
    "collapsed": false
   },
   "outputs": [
    {
     "data": {
      "image/png": "[encoded data removed]",
      "text/plain": [
       "<matplotlib.figure.Figure at 0x117b06310>"
      ]
     },
     "metadata": {},
     "output_type": "display_data"
    }
   ],
   "source": [
    "# skree\n",
    "\n",
    "plt.plot(range(1,15), percents)\n",
    "plt.xlabel(\"Principal Component\")\n",
    "plt.ylabel(\"Cumulative Variance Explained\")\n",
    "plt.show()\n",
    "by adding additional components"
   ]
  },
  {
   "cell_type": "code",
   "execution_count": null,
   "metadata": {
    "collapsed": true
   },
   "outputs": [],
   "source": []
  },
  {
   "cell_type": "code",
   "execution_count": 37,
   "metadata": {
    "collapsed": false
   },
   "outputs": [
    {
     "name": "stdout",
     "output_type": "stream",
     "text": [
      "(6.4534960079102319, array([-0.05747614,  0.05252557,  0.80890976, -0.38914338, -0.01517249,\n",
      "       -0.40455823, -0.03918196, -0.01319762,  0.14376054, -0.00777298,\n",
      "       -0.03107428, -0.02933693,  0.00229607,  0.001993  ]))\n",
      "(4.3095237244909841, array([ 0.11683294, -0.41190929,  0.16980855,  0.40257614, -0.12274015,\n",
      "       -0.11232074,  0.29026653,  0.06082036,  0.07665943,  0.03325464,\n",
      "       -0.02178517,  0.02057546,  0.70799524,  0.03171276]))\n",
      "(1.218248788447476, array([ 0.1164079 , -0.41158191,  0.17108429,  0.40387107, -0.12540936,\n",
      "       -0.10989401,  0.29134664,  0.06552886,  0.09065779,  0.03221664,\n",
      "       -0.03615976, -0.02653745, -0.70372734, -0.03443946]))\n",
      "(0.73787539358931009, array([-0.31455588, -0.25353041, -0.11887711, -0.22456082,  0.12369052,\n",
      "       -0.06827278,  0.05434861,  0.32677046,  0.00236581,  0.32971135,\n",
      "       -0.19934018,  0.66876199, -0.03004708,  0.2143065 ]))\n",
      "(0.51095455771136955, array([-0.37512831, -0.07870829, -0.10089244, -0.0109185 ,  0.13462459,\n",
      "       -0.21163599,  0.02713532,  0.37337147, -0.28950768,  0.25837666,\n",
      "       -0.28505739, -0.59655308,  0.03098046, -0.22597087]))\n"
     ]
    }
   ],
   "source": [
    "fit_me = []\n",
    "\n",
    "for eigenpair in sorted(eigenpairs, reverse=True)[0:5]:\n",
    "    fit_me.append(eigenpair[1].reshape(14,1))\n",
    "    print eigenpair"
   ]
  },
  {
   "cell_type": "code",
   "execution_count": 38,
   "metadata": {
    "collapsed": false
   },
   "outputs": [
    {
     "data": {
      "text/plain": [
       "array([[-0.05747614,  0.11683294,  0.1164079 , -0.31455588, -0.37512831],\n",
       "       [ 0.05252557, -0.41190929, -0.41158191, -0.25353041, -0.07870829],\n",
       "       [ 0.80890976,  0.16980855,  0.17108429, -0.11887711, -0.10089244],\n",
       "       [-0.38914338,  0.40257614,  0.40387107, -0.22456082, -0.0109185 ],\n",
       "       [-0.01517249, -0.12274015, -0.12540936,  0.12369052,  0.13462459],\n",
       "       [-0.40455823, -0.11232074, -0.10989401, -0.06827278, -0.21163599],\n",
       "       [-0.03918196,  0.29026653,  0.29134664,  0.05434861,  0.02713532],\n",
       "       [-0.01319762,  0.06082036,  0.06552886,  0.32677046,  0.37337147],\n",
       "       [ 0.14376054,  0.07665943,  0.09065779,  0.00236581, -0.28950768],\n",
       "       [-0.00777298,  0.03325464,  0.03221664,  0.32971135,  0.25837666],\n",
       "       [-0.03107428, -0.02178517, -0.03615976, -0.19934018, -0.28505739],\n",
       "       [-0.02933693,  0.02057546, -0.02653745,  0.66876199, -0.59655308],\n",
       "       [ 0.00229607,  0.70799524, -0.70372734, -0.03004708,  0.03098046],\n",
       "       [ 0.001993  ,  0.03171276, -0.03443946,  0.2143065 , -0.22597087]])"
      ]
     },
     "execution_count": 38,
     "metadata": {},
     "output_type": "execute_result"
    }
   ],
   "source": [
    "Pmatrix = np.hstack(fit_me)\n",
    "Pmatrix"
   ]
  },
  {
   "cell_type": "code",
   "execution_count": 39,
   "metadata": {
    "collapsed": false
   },
   "outputs": [
    {
     "data": {
      "text/plain": [
       "(14, 5)"
      ]
     },
     "execution_count": 39,
     "metadata": {},
     "output_type": "execute_result"
    }
   ],
   "source": [
    "Pmatrix.shape"
   ]
  },
  {
   "cell_type": "code",
   "execution_count": 40,
   "metadata": {
    "collapsed": false
   },
   "outputs": [
    {
     "data": {
      "text/plain": [
       "array([[-0.73582882, -0.8981936 ,  0.24415271, -0.40301598,  0.81715227],\n",
       "       [-0.8560509 , -1.03643399,  0.40225611, -0.53259111,  0.68662188],\n",
       "       [-0.70098171, -0.69070428,  0.28755192, -0.44339305,  0.699785  ],\n",
       "       ..., \n",
       "       [ 1.93952029,  0.8498573 , -0.02920043,  1.13176913,  1.17940689],\n",
       "       [ 1.87021111,  0.27448004,  0.70354131,  1.29850692,  1.36429169],\n",
       "       [ 1.8080568 ,  1.03302759,  0.08743702,  1.12860039,  1.08292979]])"
      ]
     },
     "execution_count": 40,
     "metadata": {},
     "output_type": "execute_result"
    }
   ],
   "source": [
    "pca_yay = jet_setter.dot(Pmatrix)\n",
    "pca_yay"
   ]
  },
  {
   "cell_type": "code",
   "execution_count": 49,
   "metadata": {
    "collapsed": false
   },
   "outputs": [
    {
     "data": {
      "text/html": [
       "<div>\n",
       "<table border=\"1\" class=\"dataframe\">\n",
       "  <thead>\n",
       "    <tr style=\"text-align: right;\">\n",
       "      <th></th>\n",
       "      <th>pc1</th>\n",
       "      <th>pc2</th>\n",
       "      <th>pc3</th>\n",
       "      <th>pc4</th>\n",
       "      <th>pc5</th>\n",
       "    </tr>\n",
       "  </thead>\n",
       "  <tbody>\n",
       "    <tr>\n",
       "      <th>0</th>\n",
       "      <td>-0.735829</td>\n",
       "      <td>-0.898194</td>\n",
       "      <td>0.244153</td>\n",
       "      <td>-0.403016</td>\n",
       "      <td>0.817152</td>\n",
       "    </tr>\n",
       "    <tr>\n",
       "      <th>1</th>\n",
       "      <td>-0.856051</td>\n",
       "      <td>-1.036434</td>\n",
       "      <td>0.402256</td>\n",
       "      <td>-0.532591</td>\n",
       "      <td>0.686622</td>\n",
       "    </tr>\n",
       "    <tr>\n",
       "      <th>2</th>\n",
       "      <td>-0.700982</td>\n",
       "      <td>-0.690704</td>\n",
       "      <td>0.287552</td>\n",
       "      <td>-0.443393</td>\n",
       "      <td>0.699785</td>\n",
       "    </tr>\n",
       "    <tr>\n",
       "      <th>3</th>\n",
       "      <td>-0.664297</td>\n",
       "      <td>-0.297358</td>\n",
       "      <td>0.094364</td>\n",
       "      <td>-0.115731</td>\n",
       "      <td>0.287699</td>\n",
       "    </tr>\n",
       "    <tr>\n",
       "      <th>4</th>\n",
       "      <td>-0.850994</td>\n",
       "      <td>-0.485286</td>\n",
       "      <td>0.314727</td>\n",
       "      <td>-0.451629</td>\n",
       "      <td>0.424802</td>\n",
       "    </tr>\n",
       "  </tbody>\n",
       "</table>\n",
       "</div>"
      ],
      "text/plain": [
       "        pc1       pc2       pc3       pc4       pc5\n",
       "0 -0.735829 -0.898194  0.244153 -0.403016  0.817152\n",
       "1 -0.856051 -1.036434  0.402256 -0.532591  0.686622\n",
       "2 -0.700982 -0.690704  0.287552 -0.443393  0.699785\n",
       "3 -0.664297 -0.297358  0.094364 -0.115731  0.287699\n",
       "4 -0.850994 -0.485286  0.314727 -0.451629  0.424802"
      ]
     },
     "execution_count": 49,
     "metadata": {},
     "output_type": "execute_result"
    }
   ],
   "source": [
    "# dont think I did this right--look over again\n",
    "\n",
    "new_df = pd.DataFrame(pca_yay, columns=['pc1', 'pc2', 'pc3', 'pc4', 'pc5'])\n",
    "new_df.head()"
   ]
  },
  {
   "cell_type": "code",
   "execution_count": null,
   "metadata": {
    "collapsed": true
   },
   "outputs": [],
   "source": []
  }
 ],
 "metadata": {
  "kernelspec": {
   "display_name": "Python [Root]",
   "language": "python",
   "name": "Python [Root]"
  },
  "language_info": {
   "codemirror_mode": {
    "name": "ipython",
    "version": 2
   },
   "file_extension": ".py",
   "mimetype": "text/x-python",
   "name": "python",
   "nbconvert_exporter": "python",
   "pygments_lexer": "ipython2",
   "version": "2.7.12"
  }
 },
 "nbformat": 4,
 "nbformat_minor": 0
}
