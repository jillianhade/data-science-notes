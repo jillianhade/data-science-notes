{
 "cells": [
  {
   "cell_type": "code",
   "execution_count": 1,
   "metadata": {
    "collapsed": true
   },
   "outputs": [],
   "source": [
    "import numpy as np\n",
    "from sklearn.datasets import load_iris\n",
    "from sklearn.preprocessing import StandardScaler\n",
    "iris = load_iris()"
   ]
  },
  {
   "cell_type": "code",
   "execution_count": 2,
   "metadata": {
    "collapsed": true
   },
   "outputs": [],
   "source": [
    "data = iris.data\n",
    "data = StandardScaler().fit_transform(data)"
   ]
  },
  {
   "cell_type": "code",
   "execution_count": 3,
   "metadata": {
    "collapsed": true
   },
   "outputs": [],
   "source": [
    "targets = iris.target"
   ]
  },
  {
   "cell_type": "code",
   "execution_count": 4,
   "metadata": {
    "collapsed": false
   },
   "outputs": [
    {
     "data": {
      "text/plain": [
       "array([[-0.90068117,  1.03205722, -1.3412724 , -1.31297673],\n",
       "       [-1.14301691, -0.1249576 , -1.3412724 , -1.31297673],\n",
       "       [-1.38535265,  0.33784833, -1.39813811, -1.31297673],\n",
       "       [-1.50652052,  0.10644536, -1.2844067 , -1.31297673],\n",
       "       [-1.02184904,  1.26346019, -1.3412724 , -1.31297673]])"
      ]
     },
     "execution_count": 4,
     "metadata": {},
     "output_type": "execute_result"
    }
   ],
   "source": [
    "data[0:5]"
   ]
  },
  {
   "cell_type": "code",
   "execution_count": 5,
   "metadata": {
    "collapsed": false
   },
   "outputs": [
    {
     "data": {
      "text/plain": [
       "array([0, 0, 0, 0, 0])"
      ]
     },
     "execution_count": 5,
     "metadata": {},
     "output_type": "execute_result"
    }
   ],
   "source": [
    "# 0,1,2 classes\n",
    "\n",
    "targets[0:5]"
   ]
  },
  {
   "cell_type": "code",
   "execution_count": 7,
   "metadata": {
    "collapsed": false
   },
   "outputs": [
    {
     "name": "stdout",
     "output_type": "stream",
     "text": [
      "Mean Vector class 0: [-1.01457897  0.84230679 -1.30487835 -1.25512862]\n",
      "\n",
      "Mean Vector class 1: [ 0.11228223 -0.65718442  0.28508673  0.16740892]\n",
      "\n",
      "Mean Vector class 2: [ 0.90229674 -0.18512237  1.01979162  1.08771971]\n",
      "\n"
     ]
    }
   ],
   "source": [
    "# average value for each column for each class\n",
    "\n",
    "mean_vectors = []\n",
    "for flower_class in range(0,3):\n",
    "    mean_vectors.append(np.mean(data[targets==flower_class], axis=0))\n",
    "    print('Mean Vector class %s: %s\\n' %(flower_class, mean_vectors[flower_class]))"
   ]
  },
  {
   "cell_type": "code",
   "execution_count": 8,
   "metadata": {
    "collapsed": false
   },
   "outputs": [
    {
     "name": "stdout",
     "output_type": "stream",
     "text": [
      "within-class Scatter Matrix:\n",
      "[[ 57.19414039  38.36522254  16.9597752    9.00954035]\n",
      " [ 38.36522254  91.21788053  10.68502072  14.94754387]\n",
      " [ 16.9597752   10.68502072   8.80215397   4.67538084]\n",
      " [  9.00954035  14.94754387   4.67538084  10.6746122 ]]\n"
     ]
    }
   ],
   "source": [
    "# we are adding columns to 4x4 matrix where we multiply how much each of these values deviates from class avg multiplied by transposed vector\n",
    "# matrix of deviations for given class within a column across each other\n",
    "within_class_matrix = np.zeros((4,4))\n",
    "for flower_class, mean_vector in zip(range(0,3), mean_vectors):\n",
    "    class_sc_mat = np.zeros((4,4))                  # scatter matrix for every class\n",
    "    for row in data[targets == flower_class]:\n",
    "        row, mv = row.reshape(4,1), mean_vector.reshape(4,1) # make column vectors\n",
    "        class_sc_mat += (row-mv).dot((row-mv).T)\n",
    "    within_class_matrix += class_sc_mat                             # sum class scatter matrices\n",
    "print 'within-class Scatter Matrix:\\n', within_class_matrix "
   ]
  },
  {
   "cell_type": "code",
   "execution_count": 9,
   "metadata": {
    "collapsed": false
   },
   "outputs": [
    {
     "name": "stdout",
     "output_type": "stream",
     "text": [
      "between-class Scatter Matrix:\n",
      "[[ 52.09888909 -46.41884437  67.79561537  64.61120734]\n",
      " [-46.41884437  57.06860484 -64.32312295 -58.36109471]\n",
      " [ 67.79561537 -64.32312295  89.19909813  84.27581143]\n",
      " [ 64.61120734 -58.36109471  84.27581143  80.16867994]]\n"
     ]
    }
   ],
   "source": [
    "# how much are avg in a certain column linking it to a given class\n",
    "\n",
    "overall_mean = np.mean(data, axis=0)\n",
    "\n",
    "without_class_matrix = np.zeros((4,4))\n",
    "for i ,mean_vec in enumerate(mean_vectors): \n",
    "    n = data[targets==i+1,:].shape[0]\n",
    "    mean_vec = mean_vec.reshape(4,1) # make column vector\n",
    "    overall_mean = overall_mean.reshape(4,1) # make column vector\n",
    "    without_class_matrix += n * (mean_vec - overall_mean).dot((mean_vec - overall_mean).T)\n",
    "\n",
    "print 'between-class Scatter Matrix:\\n', without_class_matrix"
   ]
  },
  {
   "cell_type": "code",
   "execution_count": 10,
   "metadata": {
    "collapsed": false
   },
   "outputs": [
    {
     "name": "stdout",
     "output_type": "stream",
     "text": [
      "\n",
      "Eigenvector 1: \n",
      "[[-0.14919128]\n",
      " [-0.15716876]\n",
      " [ 0.86348805]\n",
      " [ 0.45544301]]\n",
      "Eigenvalue 1: 2.09e+01\n",
      "\n",
      "Eigenvector 2: \n",
      "[[-0.00191277]\n",
      " [ 0.31933192]\n",
      " [-0.51546546]\n",
      " [ 0.79518477]]\n",
      "Eigenvalue 2: 1.43e-01\n",
      "\n",
      "Eigenvector 3: \n",
      "[[-0.31841316]\n",
      " [-0.09452594]\n",
      " [-0.52987268]\n",
      " [ 0.74482792]]\n",
      "Eigenvalue 3: 7.75e-16\n",
      "\n",
      "Eigenvector 4: \n",
      "[[-0.31841316]\n",
      " [-0.09452594]\n",
      " [-0.52987268]\n",
      " [ 0.74482792]]\n",
      "Eigenvalue 4: 7.75e-16\n"
     ]
    }
   ],
   "source": [
    "eig_vals, eig_vecs = np.linalg.eig(np.linalg.inv(within_class_matrix).dot(without_class_matrix))\n",
    "\n",
    "for i in range(len(eig_vals)):\n",
    "    eigvec_sc = eig_vecs[:,i].reshape(4,1)   \n",
    "    print '\\nEigenvector {}: \\n{}'.format(i+1, eigvec_sc.real)\n",
    "    print 'Eigenvalue {:}: {:.2e}'.format(i+1, eig_vals[i].real) "
   ]
  },
  {
   "cell_type": "code",
   "execution_count": 11,
   "metadata": {
    "collapsed": false
   },
   "outputs": [
    {
     "name": "stdout",
     "output_type": "stream",
     "text": [
      "Eigenvalues in decreasing order:\n",
      "\n",
      "20.9046229264\n",
      "0.142833256676\n",
      "8.5463739579e-16\n",
      "8.5463739579e-16\n"
     ]
    }
   ],
   "source": [
    "# looks like first component carries bulk of similarity\n",
    "\n",
    "\n",
    "# Make a list of (eigenvalue, eigenvector) tuples\n",
    "eig_pairs = [(np.abs(eig_vals[i]), eig_vecs[:,i]) for i in range(len(eig_vals))]\n",
    "\n",
    "# Sort the (eigenvalue, eigenvector) tuples from high to low\n",
    "eig_pairs = sorted(eig_pairs, key=lambda k: k[0], reverse=True)\n",
    "\n",
    "# Visually confirm that the list is correctly sorted by decreasing eigenvalues\n",
    "\n",
    "print('Eigenvalues in decreasing order:\\n')\n",
    "for i in eig_pairs:\n",
    "    print(i[0])"
   ]
  },
  {
   "cell_type": "code",
   "execution_count": 12,
   "metadata": {
    "collapsed": false
   },
   "outputs": [
    {
     "name": "stdout",
     "output_type": "stream",
     "text": [
      "Variance explained:\n",
      "\n",
      "eigenvalue 1: 99.3213752036\n",
      "eigenvalue 2: 0.678624796429\n",
      "eigenvalue 3: 4.06052583437e-15\n",
      "eigenvalue 4: 4.06052583437e-15\n"
     ]
    }
   ],
   "source": [
    "# this explains how discriminatory each transformation makes the data\n",
    "\n",
    "print('Variance explained:\\n')\n",
    "eigv_sum = sum(eig_vals)\n",
    "for i,j in enumerate(eig_pairs):\n",
    "    print 'eigenvalue {0:}: {1:}'.format(i+1, (j[0]/eigv_sum.real)*100) "
   ]
  },
  {
   "cell_type": "code",
   "execution_count": 13,
   "metadata": {
    "collapsed": false
   },
   "outputs": [
    {
     "name": "stdout",
     "output_type": "stream",
     "text": [
      "Matrix W:\n",
      "[[-0.14919128 -0.00191277]\n",
      " [-0.15716876  0.31933192]\n",
      " [ 0.86348805 -0.51546546]\n",
      " [ 0.45544301  0.79518477]]\n"
     ]
    }
   ],
   "source": [
    "# transformation of data for each row\n",
    "# now have 2 columns instead of 4. maximizes distance\n",
    "# doing the same work as all the columns with less \n",
    "\n",
    "W = np.hstack((eig_pairs[0][1].reshape(4,1), eig_pairs[1][1].reshape(4,1)))\n",
    "print 'Matrix W:\\n', W.real"
   ]
  },
  {
   "cell_type": "code",
   "execution_count": 16,
   "metadata": {
    "collapsed": true
   },
   "outputs": [],
   "source": [
    "import matplotlib.pyplot as plt\n",
    "%matplotlib inline"
   ]
  },
  {
   "cell_type": "code",
   "execution_count": 28,
   "metadata": {
    "collapsed": false
   },
   "outputs": [
    {
     "data": {
      "text/plain": [
       "<matplotlib.collections.PathCollection at 0x11276b390>"
      ]
     },
     "execution_count": 28,
     "metadata": {},
     "output_type": "execute_result"
    },
    {
     "data": {
      "image/png": "[encoded data removed]",
      "text/plain": [
       "<matplotlib.figure.Figure at 0x110fe66d0>"
      ]
     },
     "metadata": {},
     "output_type": "display_data"
    }
   ],
   "source": [
    "# I did something wrong\n",
    "\n",
    "plt.scatter(data[:,0], data[:, 1],\n",
    "            c=targets,\n",
    "           cmap='viridis')"
   ]
  },
  {
   "cell_type": "markdown",
   "metadata": {},
   "source": [
    "Above is the long way to code LDA"
   ]
  },
  {
   "cell_type": "code",
   "execution_count": 20,
   "metadata": {
    "collapsed": false
   },
   "outputs": [],
   "source": [
    "from sklearn.discriminant_analysis import LinearDiscriminantAnalysis"
   ]
  },
  {
   "cell_type": "code",
   "execution_count": 23,
   "metadata": {
    "collapsed": false
   },
   "outputs": [],
   "source": [
    "lda_sk = LinearDiscriminantAnalysis(n_components=2).fit_transform(data, targets)"
   ]
  },
  {
   "cell_type": "code",
   "execution_count": 24,
   "metadata": {
    "collapsed": false
   },
   "outputs": [
    {
     "data": {
      "text/plain": [
       "<matplotlib.collections.PathCollection at 0x112436610>"
      ]
     },
     "execution_count": 24,
     "metadata": {},
     "output_type": "execute_result"
    },
    {
     "data": {
      "image/png": "[encoded data removed]",
      "text/plain": [
       "<matplotlib.figure.Figure at 0x1123e3610>"
      ]
     },
     "metadata": {},
     "output_type": "display_data"
    }
   ],
   "source": [
    "plt.scatter(lda_sk[:,0], lda_sk[:, 1],\n",
    "           c=targets, cmap='viridis')"
   ]
  },
  {
   "cell_type": "code",
   "execution_count": null,
   "metadata": {
    "collapsed": true
   },
   "outputs": [],
   "source": []
  },
  {
   "cell_type": "code",
   "execution_count": null,
   "metadata": {
    "collapsed": true
   },
   "outputs": [],
   "source": []
  },
  {
   "cell_type": "code",
   "execution_count": null,
   "metadata": {
    "collapsed": true
   },
   "outputs": [],
   "source": []
  }
 ],
 "metadata": {
  "anaconda-cloud": {},
  "kernelspec": {
   "display_name": "Python [Root]",
   "language": "python",
   "name": "Python [Root]"
  },
  "language_info": {
   "codemirror_mode": {
    "name": "ipython",
    "version": 2
   },
   "file_extension": ".py",
   "mimetype": "text/x-python",
   "name": "python",
   "nbconvert_exporter": "python",
   "pygments_lexer": "ipython2",
   "version": "2.7.12"
  }
 },
 "nbformat": 4,
 "nbformat_minor": 0
}
